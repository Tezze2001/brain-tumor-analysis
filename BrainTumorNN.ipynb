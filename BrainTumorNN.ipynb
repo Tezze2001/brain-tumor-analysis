{
  "cells": [
    {
      "cell_type": "markdown",
      "metadata": {
        "id": "jq64Wt_bE0d6"
      },
      "source": [
        "Note:\n",
        "\n",
        "*   La sezione relativa alla ricerca degli iperparametri per la rete neurale è stata commentata in quanto la sua esecizione richiede tanto tempo. Nel file `NN_Hyperparameters.json` sono contenuti i risultati dell'esecuzione per il modello senza PCA, mentre per il modello addestrato con PCA sono stati salvati nel file `NN_Hyperparameters_PCA.json`,\n",
        "\n",
        "\n",
        "Dataset utilizzato: [Brain Tumor](https://www.kaggle.com/datasets/jakeshbohaju/brain-tumor)\n"
      ]
    },
    {
      "cell_type": "code",
      "execution_count": 1,
      "metadata": {
        "colab": {
          "base_uri": "https://localhost:8080/"
        },
        "id": "jNkoDGKKEvaT",
        "outputId": "e3891fe5-0553-453b-e42d-5e7daa09a8c6"
      },
      "outputs": [
        {
          "name": "stdout",
          "output_type": "stream",
          "text": [
            "Mounted at /content/drive/\n"
          ]
        }
      ],
      "source": [
        "import pandas as pd\n",
        "import seaborn as sns\n",
        "import matplotlib.pyplot as plt\n",
        "\n",
        "from google.colab import drive\n",
        "\n",
        "drive.mount('/content/drive/')\n",
        "plt.style.use('ggplot')"
      ]
    },
    {
      "cell_type": "code",
      "execution_count": 2,
      "metadata": {
        "id": "Tkwfw4a4GgbH"
      },
      "outputs": [],
      "source": [
        "path_to_dataset = \"/content/drive/MyDrive/BrainTumor/Brain Tumor.csv\""
      ]
    },
    {
      "cell_type": "markdown",
      "metadata": {
        "id": "RmUJo0T0GqEY"
      },
      "source": [
        "Lettura del dataset"
      ]
    },
    {
      "cell_type": "code",
      "execution_count": 3,
      "metadata": {
        "colab": {
          "base_uri": "https://localhost:8080/",
          "height": 0
        },
        "id": "JWAVTqN1GjwV",
        "outputId": "fc9af097-df64-4bc4-a030-c3daaa7b7935"
      },
      "outputs": [
        {
          "data": {
            "text/html": [
              "\n",
              "  <div id=\"df-b4eabb97-e9c7-444c-a189-9e77774f2435\" class=\"colab-df-container\">\n",
              "    <div>\n",
              "<style scoped>\n",
              "    .dataframe tbody tr th:only-of-type {\n",
              "        vertical-align: middle;\n",
              "    }\n",
              "\n",
              "    .dataframe tbody tr th {\n",
              "        vertical-align: top;\n",
              "    }\n",
              "\n",
              "    .dataframe thead th {\n",
              "        text-align: right;\n",
              "    }\n",
              "</style>\n",
              "<table border=\"1\" class=\"dataframe\">\n",
              "  <thead>\n",
              "    <tr style=\"text-align: right;\">\n",
              "      <th></th>\n",
              "      <th>Class</th>\n",
              "      <th>Mean</th>\n",
              "      <th>Variance</th>\n",
              "      <th>Standard Deviation</th>\n",
              "      <th>Entropy</th>\n",
              "      <th>Skewness</th>\n",
              "      <th>Kurtosis</th>\n",
              "      <th>Contrast</th>\n",
              "      <th>Energy</th>\n",
              "      <th>ASM</th>\n",
              "      <th>Homogeneity</th>\n",
              "      <th>Dissimilarity</th>\n",
              "      <th>Correlation</th>\n",
              "      <th>Coarseness</th>\n",
              "    </tr>\n",
              "    <tr>\n",
              "      <th>Image</th>\n",
              "      <th></th>\n",
              "      <th></th>\n",
              "      <th></th>\n",
              "      <th></th>\n",
              "      <th></th>\n",
              "      <th></th>\n",
              "      <th></th>\n",
              "      <th></th>\n",
              "      <th></th>\n",
              "      <th></th>\n",
              "      <th></th>\n",
              "      <th></th>\n",
              "      <th></th>\n",
              "      <th></th>\n",
              "    </tr>\n",
              "  </thead>\n",
              "  <tbody>\n",
              "    <tr>\n",
              "      <th>Image1</th>\n",
              "      <td>0</td>\n",
              "      <td>6.535339</td>\n",
              "      <td>619.587845</td>\n",
              "      <td>24.891522</td>\n",
              "      <td>0.109059</td>\n",
              "      <td>4.276477</td>\n",
              "      <td>18.900575</td>\n",
              "      <td>98.613971</td>\n",
              "      <td>0.293314</td>\n",
              "      <td>0.086033</td>\n",
              "      <td>0.530941</td>\n",
              "      <td>4.473346</td>\n",
              "      <td>0.981939</td>\n",
              "      <td>7.458341e-155</td>\n",
              "    </tr>\n",
              "    <tr>\n",
              "      <th>Image2</th>\n",
              "      <td>0</td>\n",
              "      <td>8.749969</td>\n",
              "      <td>805.957634</td>\n",
              "      <td>28.389393</td>\n",
              "      <td>0.266538</td>\n",
              "      <td>3.718116</td>\n",
              "      <td>14.464618</td>\n",
              "      <td>63.858816</td>\n",
              "      <td>0.475051</td>\n",
              "      <td>0.225674</td>\n",
              "      <td>0.651352</td>\n",
              "      <td>3.220072</td>\n",
              "      <td>0.988834</td>\n",
              "      <td>7.458341e-155</td>\n",
              "    </tr>\n",
              "    <tr>\n",
              "      <th>Image3</th>\n",
              "      <td>1</td>\n",
              "      <td>7.341095</td>\n",
              "      <td>1143.808219</td>\n",
              "      <td>33.820234</td>\n",
              "      <td>0.001467</td>\n",
              "      <td>5.061750</td>\n",
              "      <td>26.479563</td>\n",
              "      <td>81.867206</td>\n",
              "      <td>0.031917</td>\n",
              "      <td>0.001019</td>\n",
              "      <td>0.268275</td>\n",
              "      <td>5.981800</td>\n",
              "      <td>0.978014</td>\n",
              "      <td>7.458341e-155</td>\n",
              "    </tr>\n",
              "    <tr>\n",
              "      <th>Image4</th>\n",
              "      <td>1</td>\n",
              "      <td>5.958145</td>\n",
              "      <td>959.711985</td>\n",
              "      <td>30.979219</td>\n",
              "      <td>0.001477</td>\n",
              "      <td>5.677977</td>\n",
              "      <td>33.428845</td>\n",
              "      <td>151.229741</td>\n",
              "      <td>0.032024</td>\n",
              "      <td>0.001026</td>\n",
              "      <td>0.243851</td>\n",
              "      <td>7.700919</td>\n",
              "      <td>0.964189</td>\n",
              "      <td>7.458341e-155</td>\n",
              "    </tr>\n",
              "    <tr>\n",
              "      <th>Image5</th>\n",
              "      <td>0</td>\n",
              "      <td>7.315231</td>\n",
              "      <td>729.540579</td>\n",
              "      <td>27.010009</td>\n",
              "      <td>0.146761</td>\n",
              "      <td>4.283221</td>\n",
              "      <td>19.079108</td>\n",
              "      <td>174.988756</td>\n",
              "      <td>0.343849</td>\n",
              "      <td>0.118232</td>\n",
              "      <td>0.501140</td>\n",
              "      <td>6.834689</td>\n",
              "      <td>0.972789</td>\n",
              "      <td>7.458341e-155</td>\n",
              "    </tr>\n",
              "  </tbody>\n",
              "</table>\n",
              "</div>\n",
              "    <div class=\"colab-df-buttons\">\n",
              "\n",
              "  <div class=\"colab-df-container\">\n",
              "    <button class=\"colab-df-convert\" onclick=\"convertToInteractive('df-b4eabb97-e9c7-444c-a189-9e77774f2435')\"\n",
              "            title=\"Convert this dataframe to an interactive table.\"\n",
              "            style=\"display:none;\">\n",
              "\n",
              "  <svg xmlns=\"http://www.w3.org/2000/svg\" height=\"24px\" viewBox=\"0 -960 960 960\">\n",
              "    <path d=\"M120-120v-720h720v720H120Zm60-500h600v-160H180v160Zm220 220h160v-160H400v160Zm0 220h160v-160H400v160ZM180-400h160v-160H180v160Zm440 0h160v-160H620v160ZM180-180h160v-160H180v160Zm440 0h160v-160H620v160Z\"/>\n",
              "  </svg>\n",
              "    </button>\n",
              "\n",
              "  <style>\n",
              "    .colab-df-container {\n",
              "      display:flex;\n",
              "      gap: 12px;\n",
              "    }\n",
              "\n",
              "    .colab-df-convert {\n",
              "      background-color: #E8F0FE;\n",
              "      border: none;\n",
              "      border-radius: 50%;\n",
              "      cursor: pointer;\n",
              "      display: none;\n",
              "      fill: #1967D2;\n",
              "      height: 32px;\n",
              "      padding: 0 0 0 0;\n",
              "      width: 32px;\n",
              "    }\n",
              "\n",
              "    .colab-df-convert:hover {\n",
              "      background-color: #E2EBFA;\n",
              "      box-shadow: 0px 1px 2px rgba(60, 64, 67, 0.3), 0px 1px 3px 1px rgba(60, 64, 67, 0.15);\n",
              "      fill: #174EA6;\n",
              "    }\n",
              "\n",
              "    .colab-df-buttons div {\n",
              "      margin-bottom: 4px;\n",
              "    }\n",
              "\n",
              "    [theme=dark] .colab-df-convert {\n",
              "      background-color: #3B4455;\n",
              "      fill: #D2E3FC;\n",
              "    }\n",
              "\n",
              "    [theme=dark] .colab-df-convert:hover {\n",
              "      background-color: #434B5C;\n",
              "      box-shadow: 0px 1px 3px 1px rgba(0, 0, 0, 0.15);\n",
              "      filter: drop-shadow(0px 1px 2px rgba(0, 0, 0, 0.3));\n",
              "      fill: #FFFFFF;\n",
              "    }\n",
              "  </style>\n",
              "\n",
              "    <script>\n",
              "      const buttonEl =\n",
              "        document.querySelector('#df-b4eabb97-e9c7-444c-a189-9e77774f2435 button.colab-df-convert');\n",
              "      buttonEl.style.display =\n",
              "        google.colab.kernel.accessAllowed ? 'block' : 'none';\n",
              "\n",
              "      async function convertToInteractive(key) {\n",
              "        const element = document.querySelector('#df-b4eabb97-e9c7-444c-a189-9e77774f2435');\n",
              "        const dataTable =\n",
              "          await google.colab.kernel.invokeFunction('convertToInteractive',\n",
              "                                                    [key], {});\n",
              "        if (!dataTable) return;\n",
              "\n",
              "        const docLinkHtml = 'Like what you see? Visit the ' +\n",
              "          '<a target=\"_blank\" href=https://colab.research.google.com/notebooks/data_table.ipynb>data table notebook</a>'\n",
              "          + ' to learn more about interactive tables.';\n",
              "        element.innerHTML = '';\n",
              "        dataTable['output_type'] = 'display_data';\n",
              "        await google.colab.output.renderOutput(dataTable, element);\n",
              "        const docLink = document.createElement('div');\n",
              "        docLink.innerHTML = docLinkHtml;\n",
              "        element.appendChild(docLink);\n",
              "      }\n",
              "    </script>\n",
              "  </div>\n",
              "\n",
              "\n",
              "<div id=\"df-7e4250b1-ece6-49e6-a757-1e31d47c8716\">\n",
              "  <button class=\"colab-df-quickchart\" onclick=\"quickchart('df-7e4250b1-ece6-49e6-a757-1e31d47c8716')\"\n",
              "            title=\"Suggest charts\"\n",
              "            style=\"display:none;\">\n",
              "\n",
              "<svg xmlns=\"http://www.w3.org/2000/svg\" height=\"24px\"viewBox=\"0 0 24 24\"\n",
              "     width=\"24px\">\n",
              "    <g>\n",
              "        <path d=\"M19 3H5c-1.1 0-2 .9-2 2v14c0 1.1.9 2 2 2h14c1.1 0 2-.9 2-2V5c0-1.1-.9-2-2-2zM9 17H7v-7h2v7zm4 0h-2V7h2v10zm4 0h-2v-4h2v4z\"/>\n",
              "    </g>\n",
              "</svg>\n",
              "  </button>\n",
              "\n",
              "<style>\n",
              "  .colab-df-quickchart {\n",
              "      --bg-color: #E8F0FE;\n",
              "      --fill-color: #1967D2;\n",
              "      --hover-bg-color: #E2EBFA;\n",
              "      --hover-fill-color: #174EA6;\n",
              "      --disabled-fill-color: #AAA;\n",
              "      --disabled-bg-color: #DDD;\n",
              "  }\n",
              "\n",
              "  [theme=dark] .colab-df-quickchart {\n",
              "      --bg-color: #3B4455;\n",
              "      --fill-color: #D2E3FC;\n",
              "      --hover-bg-color: #434B5C;\n",
              "      --hover-fill-color: #FFFFFF;\n",
              "      --disabled-bg-color: #3B4455;\n",
              "      --disabled-fill-color: #666;\n",
              "  }\n",
              "\n",
              "  .colab-df-quickchart {\n",
              "    background-color: var(--bg-color);\n",
              "    border: none;\n",
              "    border-radius: 50%;\n",
              "    cursor: pointer;\n",
              "    display: none;\n",
              "    fill: var(--fill-color);\n",
              "    height: 32px;\n",
              "    padding: 0;\n",
              "    width: 32px;\n",
              "  }\n",
              "\n",
              "  .colab-df-quickchart:hover {\n",
              "    background-color: var(--hover-bg-color);\n",
              "    box-shadow: 0 1px 2px rgba(60, 64, 67, 0.3), 0 1px 3px 1px rgba(60, 64, 67, 0.15);\n",
              "    fill: var(--button-hover-fill-color);\n",
              "  }\n",
              "\n",
              "  .colab-df-quickchart-complete:disabled,\n",
              "  .colab-df-quickchart-complete:disabled:hover {\n",
              "    background-color: var(--disabled-bg-color);\n",
              "    fill: var(--disabled-fill-color);\n",
              "    box-shadow: none;\n",
              "  }\n",
              "\n",
              "  .colab-df-spinner {\n",
              "    border: 2px solid var(--fill-color);\n",
              "    border-color: transparent;\n",
              "    border-bottom-color: var(--fill-color);\n",
              "    animation:\n",
              "      spin 1s steps(1) infinite;\n",
              "  }\n",
              "\n",
              "  @keyframes spin {\n",
              "    0% {\n",
              "      border-color: transparent;\n",
              "      border-bottom-color: var(--fill-color);\n",
              "      border-left-color: var(--fill-color);\n",
              "    }\n",
              "    20% {\n",
              "      border-color: transparent;\n",
              "      border-left-color: var(--fill-color);\n",
              "      border-top-color: var(--fill-color);\n",
              "    }\n",
              "    30% {\n",
              "      border-color: transparent;\n",
              "      border-left-color: var(--fill-color);\n",
              "      border-top-color: var(--fill-color);\n",
              "      border-right-color: var(--fill-color);\n",
              "    }\n",
              "    40% {\n",
              "      border-color: transparent;\n",
              "      border-right-color: var(--fill-color);\n",
              "      border-top-color: var(--fill-color);\n",
              "    }\n",
              "    60% {\n",
              "      border-color: transparent;\n",
              "      border-right-color: var(--fill-color);\n",
              "    }\n",
              "    80% {\n",
              "      border-color: transparent;\n",
              "      border-right-color: var(--fill-color);\n",
              "      border-bottom-color: var(--fill-color);\n",
              "    }\n",
              "    90% {\n",
              "      border-color: transparent;\n",
              "      border-bottom-color: var(--fill-color);\n",
              "    }\n",
              "  }\n",
              "</style>\n",
              "\n",
              "  <script>\n",
              "    async function quickchart(key) {\n",
              "      const quickchartButtonEl =\n",
              "        document.querySelector('#' + key + ' button');\n",
              "      quickchartButtonEl.disabled = true;  // To prevent multiple clicks.\n",
              "      quickchartButtonEl.classList.add('colab-df-spinner');\n",
              "      try {\n",
              "        const charts = await google.colab.kernel.invokeFunction(\n",
              "            'suggestCharts', [key], {});\n",
              "      } catch (error) {\n",
              "        console.error('Error during call to suggestCharts:', error);\n",
              "      }\n",
              "      quickchartButtonEl.classList.remove('colab-df-spinner');\n",
              "      quickchartButtonEl.classList.add('colab-df-quickchart-complete');\n",
              "    }\n",
              "    (() => {\n",
              "      let quickchartButtonEl =\n",
              "        document.querySelector('#df-7e4250b1-ece6-49e6-a757-1e31d47c8716 button');\n",
              "      quickchartButtonEl.style.display =\n",
              "        google.colab.kernel.accessAllowed ? 'block' : 'none';\n",
              "    })();\n",
              "  </script>\n",
              "</div>\n",
              "    </div>\n",
              "  </div>\n"
            ],
            "text/plain": [
              "        Class      Mean     Variance  Standard Deviation   Entropy  Skewness  \\\n",
              "Image                                                                          \n",
              "Image1      0  6.535339   619.587845           24.891522  0.109059  4.276477   \n",
              "Image2      0  8.749969   805.957634           28.389393  0.266538  3.718116   \n",
              "Image3      1  7.341095  1143.808219           33.820234  0.001467  5.061750   \n",
              "Image4      1  5.958145   959.711985           30.979219  0.001477  5.677977   \n",
              "Image5      0  7.315231   729.540579           27.010009  0.146761  4.283221   \n",
              "\n",
              "         Kurtosis    Contrast    Energy       ASM  Homogeneity  Dissimilarity  \\\n",
              "Image                                                                           \n",
              "Image1  18.900575   98.613971  0.293314  0.086033     0.530941       4.473346   \n",
              "Image2  14.464618   63.858816  0.475051  0.225674     0.651352       3.220072   \n",
              "Image3  26.479563   81.867206  0.031917  0.001019     0.268275       5.981800   \n",
              "Image4  33.428845  151.229741  0.032024  0.001026     0.243851       7.700919   \n",
              "Image5  19.079108  174.988756  0.343849  0.118232     0.501140       6.834689   \n",
              "\n",
              "        Correlation     Coarseness  \n",
              "Image                               \n",
              "Image1     0.981939  7.458341e-155  \n",
              "Image2     0.988834  7.458341e-155  \n",
              "Image3     0.978014  7.458341e-155  \n",
              "Image4     0.964189  7.458341e-155  \n",
              "Image5     0.972789  7.458341e-155  "
            ]
          },
          "execution_count": 3,
          "metadata": {},
          "output_type": "execute_result"
        }
      ],
      "source": [
        "dataset = pd.read_csv(path_to_dataset, index_col=0)\n",
        "dataset.head()"
      ]
    },
    {
      "cell_type": "markdown",
      "metadata": {
        "id": "6RNw9hZ9Sqpu"
      },
      "source": [
        "# Preprocessing del dataset"
      ]
    },
    {
      "cell_type": "markdown",
      "metadata": {
        "id": "qovRGs8ZHu7h"
      },
      "source": [
        "Trasformo la variabile target in una variabile categorica"
      ]
    },
    {
      "cell_type": "code",
      "execution_count": 6,
      "metadata": {
        "colab": {
          "base_uri": "https://localhost:8080/"
        },
        "id": "2TvsoYSTHFTP",
        "outputId": "b63a9d2d-029c-4bfe-e6c5-4455a689cc7d"
      },
      "outputs": [
        {
          "data": {
            "text/plain": [
              "Class                 category\n",
              "Mean                   float64\n",
              "Variance               float64\n",
              "Standard Deviation     float64\n",
              "Entropy                float64\n",
              "Skewness               float64\n",
              "Kurtosis               float64\n",
              "Contrast               float64\n",
              "Energy                 float64\n",
              "ASM                    float64\n",
              "Homogeneity            float64\n",
              "Dissimilarity          float64\n",
              "Correlation            float64\n",
              "Coarseness             float64\n",
              "dtype: object"
            ]
          },
          "execution_count": 6,
          "metadata": {},
          "output_type": "execute_result"
        }
      ],
      "source": [
        "dataset[\"Class\"] = dataset[\"Class\"].astype(\"category\")\n",
        "dataset.dtypes"
      ]
    },
    {
      "cell_type": "markdown",
      "metadata": {
        "id": "comsMdJdIHHo"
      },
      "source": [
        "Dato che l'attributo `Coarseness` assume valori molto piccoli, applichiamo una trasformazione logaritmica.\n",
        "\n"
      ]
    },
    {
      "cell_type": "code",
      "execution_count": 9,
      "metadata": {
        "id": "agZpCo4lIZhL"
      },
      "outputs": [],
      "source": [
        "import numpy as np"
      ]
    },
    {
      "cell_type": "code",
      "execution_count": 10,
      "metadata": {
        "id": "Ouj_D2yIIU-I"
      },
      "outputs": [],
      "source": [
        "dataset['Coarseness'] = np.log10(dataset['Coarseness'])"
      ]
    },
    {
      "cell_type": "markdown",
      "metadata": {
        "id": "w6lsp0tqStwQ"
      },
      "source": [
        "## Suddivisione dataset"
      ]
    },
    {
      "cell_type": "code",
      "execution_count": 19,
      "metadata": {
        "colab": {
          "base_uri": "https://localhost:8080/",
          "height": 0
        },
        "id": "lZYY_1fMSygv",
        "outputId": "72d87bfb-101f-4c3f-f2d5-970e6ca78732"
      },
      "outputs": [
        {
          "data": {
            "text/html": [
              "\n",
              "  <div id=\"df-119e83a5-4497-4ec1-a71b-6b4d0e531a0a\" class=\"colab-df-container\">\n",
              "    <div>\n",
              "<style scoped>\n",
              "    .dataframe tbody tr th:only-of-type {\n",
              "        vertical-align: middle;\n",
              "    }\n",
              "\n",
              "    .dataframe tbody tr th {\n",
              "        vertical-align: top;\n",
              "    }\n",
              "\n",
              "    .dataframe thead th {\n",
              "        text-align: right;\n",
              "    }\n",
              "</style>\n",
              "<table border=\"1\" class=\"dataframe\">\n",
              "  <thead>\n",
              "    <tr style=\"text-align: right;\">\n",
              "      <th></th>\n",
              "      <th>Mean</th>\n",
              "      <th>Entropy</th>\n",
              "      <th>Skewness</th>\n",
              "      <th>Contrast</th>\n",
              "      <th>Correlation</th>\n",
              "      <th>Class</th>\n",
              "    </tr>\n",
              "    <tr>\n",
              "      <th>Image</th>\n",
              "      <th></th>\n",
              "      <th></th>\n",
              "      <th></th>\n",
              "      <th></th>\n",
              "      <th></th>\n",
              "      <th></th>\n",
              "    </tr>\n",
              "  </thead>\n",
              "  <tbody>\n",
              "    <tr>\n",
              "      <th>Image1</th>\n",
              "      <td>6.535339</td>\n",
              "      <td>0.109059</td>\n",
              "      <td>4.276477</td>\n",
              "      <td>98.613971</td>\n",
              "      <td>0.981939</td>\n",
              "      <td>0</td>\n",
              "    </tr>\n",
              "    <tr>\n",
              "      <th>Image2</th>\n",
              "      <td>8.749969</td>\n",
              "      <td>0.266538</td>\n",
              "      <td>3.718116</td>\n",
              "      <td>63.858816</td>\n",
              "      <td>0.988834</td>\n",
              "      <td>0</td>\n",
              "    </tr>\n",
              "    <tr>\n",
              "      <th>Image3</th>\n",
              "      <td>7.341095</td>\n",
              "      <td>0.001467</td>\n",
              "      <td>5.061750</td>\n",
              "      <td>81.867206</td>\n",
              "      <td>0.978014</td>\n",
              "      <td>1</td>\n",
              "    </tr>\n",
              "    <tr>\n",
              "      <th>Image4</th>\n",
              "      <td>5.958145</td>\n",
              "      <td>0.001477</td>\n",
              "      <td>5.677977</td>\n",
              "      <td>151.229741</td>\n",
              "      <td>0.964189</td>\n",
              "      <td>1</td>\n",
              "    </tr>\n",
              "    <tr>\n",
              "      <th>Image5</th>\n",
              "      <td>7.315231</td>\n",
              "      <td>0.146761</td>\n",
              "      <td>4.283221</td>\n",
              "      <td>174.988756</td>\n",
              "      <td>0.972789</td>\n",
              "      <td>0</td>\n",
              "    </tr>\n",
              "  </tbody>\n",
              "</table>\n",
              "</div>\n",
              "    <div class=\"colab-df-buttons\">\n",
              "\n",
              "  <div class=\"colab-df-container\">\n",
              "    <button class=\"colab-df-convert\" onclick=\"convertToInteractive('df-119e83a5-4497-4ec1-a71b-6b4d0e531a0a')\"\n",
              "            title=\"Convert this dataframe to an interactive table.\"\n",
              "            style=\"display:none;\">\n",
              "\n",
              "  <svg xmlns=\"http://www.w3.org/2000/svg\" height=\"24px\" viewBox=\"0 -960 960 960\">\n",
              "    <path d=\"M120-120v-720h720v720H120Zm60-500h600v-160H180v160Zm220 220h160v-160H400v160Zm0 220h160v-160H400v160ZM180-400h160v-160H180v160Zm440 0h160v-160H620v160ZM180-180h160v-160H180v160Zm440 0h160v-160H620v160Z\"/>\n",
              "  </svg>\n",
              "    </button>\n",
              "\n",
              "  <style>\n",
              "    .colab-df-container {\n",
              "      display:flex;\n",
              "      gap: 12px;\n",
              "    }\n",
              "\n",
              "    .colab-df-convert {\n",
              "      background-color: #E8F0FE;\n",
              "      border: none;\n",
              "      border-radius: 50%;\n",
              "      cursor: pointer;\n",
              "      display: none;\n",
              "      fill: #1967D2;\n",
              "      height: 32px;\n",
              "      padding: 0 0 0 0;\n",
              "      width: 32px;\n",
              "    }\n",
              "\n",
              "    .colab-df-convert:hover {\n",
              "      background-color: #E2EBFA;\n",
              "      box-shadow: 0px 1px 2px rgba(60, 64, 67, 0.3), 0px 1px 3px 1px rgba(60, 64, 67, 0.15);\n",
              "      fill: #174EA6;\n",
              "    }\n",
              "\n",
              "    .colab-df-buttons div {\n",
              "      margin-bottom: 4px;\n",
              "    }\n",
              "\n",
              "    [theme=dark] .colab-df-convert {\n",
              "      background-color: #3B4455;\n",
              "      fill: #D2E3FC;\n",
              "    }\n",
              "\n",
              "    [theme=dark] .colab-df-convert:hover {\n",
              "      background-color: #434B5C;\n",
              "      box-shadow: 0px 1px 3px 1px rgba(0, 0, 0, 0.15);\n",
              "      filter: drop-shadow(0px 1px 2px rgba(0, 0, 0, 0.3));\n",
              "      fill: #FFFFFF;\n",
              "    }\n",
              "  </style>\n",
              "\n",
              "    <script>\n",
              "      const buttonEl =\n",
              "        document.querySelector('#df-119e83a5-4497-4ec1-a71b-6b4d0e531a0a button.colab-df-convert');\n",
              "      buttonEl.style.display =\n",
              "        google.colab.kernel.accessAllowed ? 'block' : 'none';\n",
              "\n",
              "      async function convertToInteractive(key) {\n",
              "        const element = document.querySelector('#df-119e83a5-4497-4ec1-a71b-6b4d0e531a0a');\n",
              "        const dataTable =\n",
              "          await google.colab.kernel.invokeFunction('convertToInteractive',\n",
              "                                                    [key], {});\n",
              "        if (!dataTable) return;\n",
              "\n",
              "        const docLinkHtml = 'Like what you see? Visit the ' +\n",
              "          '<a target=\"_blank\" href=https://colab.research.google.com/notebooks/data_table.ipynb>data table notebook</a>'\n",
              "          + ' to learn more about interactive tables.';\n",
              "        element.innerHTML = '';\n",
              "        dataTable['output_type'] = 'display_data';\n",
              "        await google.colab.output.renderOutput(dataTable, element);\n",
              "        const docLink = document.createElement('div');\n",
              "        docLink.innerHTML = docLinkHtml;\n",
              "        element.appendChild(docLink);\n",
              "      }\n",
              "    </script>\n",
              "  </div>\n",
              "\n",
              "\n",
              "<div id=\"df-be94e99b-f929-40bd-87fc-9647eeef084e\">\n",
              "  <button class=\"colab-df-quickchart\" onclick=\"quickchart('df-be94e99b-f929-40bd-87fc-9647eeef084e')\"\n",
              "            title=\"Suggest charts\"\n",
              "            style=\"display:none;\">\n",
              "\n",
              "<svg xmlns=\"http://www.w3.org/2000/svg\" height=\"24px\"viewBox=\"0 0 24 24\"\n",
              "     width=\"24px\">\n",
              "    <g>\n",
              "        <path d=\"M19 3H5c-1.1 0-2 .9-2 2v14c0 1.1.9 2 2 2h14c1.1 0 2-.9 2-2V5c0-1.1-.9-2-2-2zM9 17H7v-7h2v7zm4 0h-2V7h2v10zm4 0h-2v-4h2v4z\"/>\n",
              "    </g>\n",
              "</svg>\n",
              "  </button>\n",
              "\n",
              "<style>\n",
              "  .colab-df-quickchart {\n",
              "      --bg-color: #E8F0FE;\n",
              "      --fill-color: #1967D2;\n",
              "      --hover-bg-color: #E2EBFA;\n",
              "      --hover-fill-color: #174EA6;\n",
              "      --disabled-fill-color: #AAA;\n",
              "      --disabled-bg-color: #DDD;\n",
              "  }\n",
              "\n",
              "  [theme=dark] .colab-df-quickchart {\n",
              "      --bg-color: #3B4455;\n",
              "      --fill-color: #D2E3FC;\n",
              "      --hover-bg-color: #434B5C;\n",
              "      --hover-fill-color: #FFFFFF;\n",
              "      --disabled-bg-color: #3B4455;\n",
              "      --disabled-fill-color: #666;\n",
              "  }\n",
              "\n",
              "  .colab-df-quickchart {\n",
              "    background-color: var(--bg-color);\n",
              "    border: none;\n",
              "    border-radius: 50%;\n",
              "    cursor: pointer;\n",
              "    display: none;\n",
              "    fill: var(--fill-color);\n",
              "    height: 32px;\n",
              "    padding: 0;\n",
              "    width: 32px;\n",
              "  }\n",
              "\n",
              "  .colab-df-quickchart:hover {\n",
              "    background-color: var(--hover-bg-color);\n",
              "    box-shadow: 0 1px 2px rgba(60, 64, 67, 0.3), 0 1px 3px 1px rgba(60, 64, 67, 0.15);\n",
              "    fill: var(--button-hover-fill-color);\n",
              "  }\n",
              "\n",
              "  .colab-df-quickchart-complete:disabled,\n",
              "  .colab-df-quickchart-complete:disabled:hover {\n",
              "    background-color: var(--disabled-bg-color);\n",
              "    fill: var(--disabled-fill-color);\n",
              "    box-shadow: none;\n",
              "  }\n",
              "\n",
              "  .colab-df-spinner {\n",
              "    border: 2px solid var(--fill-color);\n",
              "    border-color: transparent;\n",
              "    border-bottom-color: var(--fill-color);\n",
              "    animation:\n",
              "      spin 1s steps(1) infinite;\n",
              "  }\n",
              "\n",
              "  @keyframes spin {\n",
              "    0% {\n",
              "      border-color: transparent;\n",
              "      border-bottom-color: var(--fill-color);\n",
              "      border-left-color: var(--fill-color);\n",
              "    }\n",
              "    20% {\n",
              "      border-color: transparent;\n",
              "      border-left-color: var(--fill-color);\n",
              "      border-top-color: var(--fill-color);\n",
              "    }\n",
              "    30% {\n",
              "      border-color: transparent;\n",
              "      border-left-color: var(--fill-color);\n",
              "      border-top-color: var(--fill-color);\n",
              "      border-right-color: var(--fill-color);\n",
              "    }\n",
              "    40% {\n",
              "      border-color: transparent;\n",
              "      border-right-color: var(--fill-color);\n",
              "      border-top-color: var(--fill-color);\n",
              "    }\n",
              "    60% {\n",
              "      border-color: transparent;\n",
              "      border-right-color: var(--fill-color);\n",
              "    }\n",
              "    80% {\n",
              "      border-color: transparent;\n",
              "      border-right-color: var(--fill-color);\n",
              "      border-bottom-color: var(--fill-color);\n",
              "    }\n",
              "    90% {\n",
              "      border-color: transparent;\n",
              "      border-bottom-color: var(--fill-color);\n",
              "    }\n",
              "  }\n",
              "</style>\n",
              "\n",
              "  <script>\n",
              "    async function quickchart(key) {\n",
              "      const quickchartButtonEl =\n",
              "        document.querySelector('#' + key + ' button');\n",
              "      quickchartButtonEl.disabled = true;  // To prevent multiple clicks.\n",
              "      quickchartButtonEl.classList.add('colab-df-spinner');\n",
              "      try {\n",
              "        const charts = await google.colab.kernel.invokeFunction(\n",
              "            'suggestCharts', [key], {});\n",
              "      } catch (error) {\n",
              "        console.error('Error during call to suggestCharts:', error);\n",
              "      }\n",
              "      quickchartButtonEl.classList.remove('colab-df-spinner');\n",
              "      quickchartButtonEl.classList.add('colab-df-quickchart-complete');\n",
              "    }\n",
              "    (() => {\n",
              "      let quickchartButtonEl =\n",
              "        document.querySelector('#df-be94e99b-f929-40bd-87fc-9647eeef084e button');\n",
              "      quickchartButtonEl.style.display =\n",
              "        google.colab.kernel.accessAllowed ? 'block' : 'none';\n",
              "    })();\n",
              "  </script>\n",
              "</div>\n",
              "    </div>\n",
              "  </div>\n"
            ],
            "text/plain": [
              "            Mean   Entropy  Skewness    Contrast  Correlation Class\n",
              "Image                                                              \n",
              "Image1  6.535339  0.109059  4.276477   98.613971     0.981939     0\n",
              "Image2  8.749969  0.266538  3.718116   63.858816     0.988834     0\n",
              "Image3  7.341095  0.001467  5.061750   81.867206     0.978014     1\n",
              "Image4  5.958145  0.001477  5.677977  151.229741     0.964189     1\n",
              "Image5  7.315231  0.146761  4.283221  174.988756     0.972789     0"
            ]
          },
          "execution_count": 19,
          "metadata": {},
          "output_type": "execute_result"
        }
      ],
      "source": [
        "dataset_post_analisi = dataset[['Mean', 'Entropy', 'Skewness', 'Contrast', 'Correlation', 'Class']]\n",
        "\n",
        "dataset_post_analisi.head()"
      ]
    },
    {
      "cell_type": "code",
      "execution_count": 20,
      "metadata": {
        "id": "LxaQshY_S7NZ"
      },
      "outputs": [],
      "source": [
        "y = dataset_post_analisi['Class']\n",
        "X = dataset_post_analisi.drop(['Class'], axis=1)\n",
        "\n",
        "columns_name = X.columns"
      ]
    },
    {
      "cell_type": "markdown",
      "metadata": {
        "id": "fsi28ejQTAE0"
      },
      "source": [
        "Per la rete neurale e per la SVM è necessario standardizzare i dati"
      ]
    },
    {
      "cell_type": "code",
      "execution_count": 21,
      "metadata": {
        "id": "af1M0pzsTHhw"
      },
      "outputs": [],
      "source": [
        "from sklearn.preprocessing import StandardScaler"
      ]
    },
    {
      "cell_type": "markdown",
      "metadata": {
        "id": "X_4vMv3MTPgi"
      },
      "source": [
        "Suddividiamo ora i dati in Train e Test, abbiamo scelto di utilizzare l'80% dei\n",
        "dati per il training e il restante 20% per il test."
      ]
    },
    {
      "cell_type": "code",
      "execution_count": 22,
      "metadata": {
        "id": "xaa9EIEjTKDb"
      },
      "outputs": [],
      "source": [
        "scaler = StandardScaler()\n",
        "\n",
        "X_scaled = pd.DataFrame()\n",
        "\n",
        "X_scaled[columns_name] = scaler.fit_transform(X)\n",
        "X_scaled = X_scaled.set_index(X.index)"
      ]
    },
    {
      "cell_type": "code",
      "execution_count": 23,
      "metadata": {
        "id": "Umbi6bxqTVVE"
      },
      "outputs": [],
      "source": [
        "from sklearn.model_selection import train_test_split"
      ]
    },
    {
      "cell_type": "code",
      "execution_count": 24,
      "metadata": {
        "colab": {
          "base_uri": "https://localhost:8080/",
          "height": 0
        },
        "id": "8A5DGINJTXlw",
        "outputId": "5b6fcc70-0b8b-4355-8753-25d659bf4c38"
      },
      "outputs": [
        {
          "data": {
            "text/html": [
              "\n",
              "  <div id=\"df-f6558e76-00f2-4a95-ae52-804b03a76c48\" class=\"colab-df-container\">\n",
              "    <div>\n",
              "<style scoped>\n",
              "    .dataframe tbody tr th:only-of-type {\n",
              "        vertical-align: middle;\n",
              "    }\n",
              "\n",
              "    .dataframe tbody tr th {\n",
              "        vertical-align: top;\n",
              "    }\n",
              "\n",
              "    .dataframe thead th {\n",
              "        text-align: right;\n",
              "    }\n",
              "</style>\n",
              "<table border=\"1\" class=\"dataframe\">\n",
              "  <thead>\n",
              "    <tr style=\"text-align: right;\">\n",
              "      <th></th>\n",
              "      <th>Mean</th>\n",
              "      <th>Entropy</th>\n",
              "      <th>Skewness</th>\n",
              "      <th>Contrast</th>\n",
              "      <th>Correlation</th>\n",
              "    </tr>\n",
              "    <tr>\n",
              "      <th>Image</th>\n",
              "      <th></th>\n",
              "      <th></th>\n",
              "      <th></th>\n",
              "      <th></th>\n",
              "      <th></th>\n",
              "    </tr>\n",
              "  </thead>\n",
              "  <tbody>\n",
              "    <tr>\n",
              "      <th>Image1439</th>\n",
              "      <td>9.691711</td>\n",
              "      <td>0.014755</td>\n",
              "      <td>4.145413</td>\n",
              "      <td>111.108108</td>\n",
              "      <td>0.980092</td>\n",
              "    </tr>\n",
              "    <tr>\n",
              "      <th>Image3165</th>\n",
              "      <td>2.142319</td>\n",
              "      <td>0.096746</td>\n",
              "      <td>4.610302</td>\n",
              "      <td>34.353992</td>\n",
              "      <td>0.948827</td>\n",
              "    </tr>\n",
              "    <tr>\n",
              "      <th>Image2317</th>\n",
              "      <td>8.229340</td>\n",
              "      <td>0.206584</td>\n",
              "      <td>3.294635</td>\n",
              "      <td>74.183124</td>\n",
              "      <td>0.978915</td>\n",
              "    </tr>\n",
              "    <tr>\n",
              "      <th>Image1825</th>\n",
              "      <td>5.757904</td>\n",
              "      <td>0.001252</td>\n",
              "      <td>5.415845</td>\n",
              "      <td>75.807265</td>\n",
              "      <td>0.972684</td>\n",
              "    </tr>\n",
              "    <tr>\n",
              "      <th>Image124</th>\n",
              "      <td>4.593552</td>\n",
              "      <td>0.001751</td>\n",
              "      <td>5.305935</td>\n",
              "      <td>92.420052</td>\n",
              "      <td>0.970507</td>\n",
              "    </tr>\n",
              "  </tbody>\n",
              "</table>\n",
              "</div>\n",
              "    <div class=\"colab-df-buttons\">\n",
              "\n",
              "  <div class=\"colab-df-container\">\n",
              "    <button class=\"colab-df-convert\" onclick=\"convertToInteractive('df-f6558e76-00f2-4a95-ae52-804b03a76c48')\"\n",
              "            title=\"Convert this dataframe to an interactive table.\"\n",
              "            style=\"display:none;\">\n",
              "\n",
              "  <svg xmlns=\"http://www.w3.org/2000/svg\" height=\"24px\" viewBox=\"0 -960 960 960\">\n",
              "    <path d=\"M120-120v-720h720v720H120Zm60-500h600v-160H180v160Zm220 220h160v-160H400v160Zm0 220h160v-160H400v160ZM180-400h160v-160H180v160Zm440 0h160v-160H620v160ZM180-180h160v-160H180v160Zm440 0h160v-160H620v160Z\"/>\n",
              "  </svg>\n",
              "    </button>\n",
              "\n",
              "  <style>\n",
              "    .colab-df-container {\n",
              "      display:flex;\n",
              "      gap: 12px;\n",
              "    }\n",
              "\n",
              "    .colab-df-convert {\n",
              "      background-color: #E8F0FE;\n",
              "      border: none;\n",
              "      border-radius: 50%;\n",
              "      cursor: pointer;\n",
              "      display: none;\n",
              "      fill: #1967D2;\n",
              "      height: 32px;\n",
              "      padding: 0 0 0 0;\n",
              "      width: 32px;\n",
              "    }\n",
              "\n",
              "    .colab-df-convert:hover {\n",
              "      background-color: #E2EBFA;\n",
              "      box-shadow: 0px 1px 2px rgba(60, 64, 67, 0.3), 0px 1px 3px 1px rgba(60, 64, 67, 0.15);\n",
              "      fill: #174EA6;\n",
              "    }\n",
              "\n",
              "    .colab-df-buttons div {\n",
              "      margin-bottom: 4px;\n",
              "    }\n",
              "\n",
              "    [theme=dark] .colab-df-convert {\n",
              "      background-color: #3B4455;\n",
              "      fill: #D2E3FC;\n",
              "    }\n",
              "\n",
              "    [theme=dark] .colab-df-convert:hover {\n",
              "      background-color: #434B5C;\n",
              "      box-shadow: 0px 1px 3px 1px rgba(0, 0, 0, 0.15);\n",
              "      filter: drop-shadow(0px 1px 2px rgba(0, 0, 0, 0.3));\n",
              "      fill: #FFFFFF;\n",
              "    }\n",
              "  </style>\n",
              "\n",
              "    <script>\n",
              "      const buttonEl =\n",
              "        document.querySelector('#df-f6558e76-00f2-4a95-ae52-804b03a76c48 button.colab-df-convert');\n",
              "      buttonEl.style.display =\n",
              "        google.colab.kernel.accessAllowed ? 'block' : 'none';\n",
              "\n",
              "      async function convertToInteractive(key) {\n",
              "        const element = document.querySelector('#df-f6558e76-00f2-4a95-ae52-804b03a76c48');\n",
              "        const dataTable =\n",
              "          await google.colab.kernel.invokeFunction('convertToInteractive',\n",
              "                                                    [key], {});\n",
              "        if (!dataTable) return;\n",
              "\n",
              "        const docLinkHtml = 'Like what you see? Visit the ' +\n",
              "          '<a target=\"_blank\" href=https://colab.research.google.com/notebooks/data_table.ipynb>data table notebook</a>'\n",
              "          + ' to learn more about interactive tables.';\n",
              "        element.innerHTML = '';\n",
              "        dataTable['output_type'] = 'display_data';\n",
              "        await google.colab.output.renderOutput(dataTable, element);\n",
              "        const docLink = document.createElement('div');\n",
              "        docLink.innerHTML = docLinkHtml;\n",
              "        element.appendChild(docLink);\n",
              "      }\n",
              "    </script>\n",
              "  </div>\n",
              "\n",
              "\n",
              "<div id=\"df-db8c83d9-aa93-4f66-9d27-dc34530806bb\">\n",
              "  <button class=\"colab-df-quickchart\" onclick=\"quickchart('df-db8c83d9-aa93-4f66-9d27-dc34530806bb')\"\n",
              "            title=\"Suggest charts\"\n",
              "            style=\"display:none;\">\n",
              "\n",
              "<svg xmlns=\"http://www.w3.org/2000/svg\" height=\"24px\"viewBox=\"0 0 24 24\"\n",
              "     width=\"24px\">\n",
              "    <g>\n",
              "        <path d=\"M19 3H5c-1.1 0-2 .9-2 2v14c0 1.1.9 2 2 2h14c1.1 0 2-.9 2-2V5c0-1.1-.9-2-2-2zM9 17H7v-7h2v7zm4 0h-2V7h2v10zm4 0h-2v-4h2v4z\"/>\n",
              "    </g>\n",
              "</svg>\n",
              "  </button>\n",
              "\n",
              "<style>\n",
              "  .colab-df-quickchart {\n",
              "      --bg-color: #E8F0FE;\n",
              "      --fill-color: #1967D2;\n",
              "      --hover-bg-color: #E2EBFA;\n",
              "      --hover-fill-color: #174EA6;\n",
              "      --disabled-fill-color: #AAA;\n",
              "      --disabled-bg-color: #DDD;\n",
              "  }\n",
              "\n",
              "  [theme=dark] .colab-df-quickchart {\n",
              "      --bg-color: #3B4455;\n",
              "      --fill-color: #D2E3FC;\n",
              "      --hover-bg-color: #434B5C;\n",
              "      --hover-fill-color: #FFFFFF;\n",
              "      --disabled-bg-color: #3B4455;\n",
              "      --disabled-fill-color: #666;\n",
              "  }\n",
              "\n",
              "  .colab-df-quickchart {\n",
              "    background-color: var(--bg-color);\n",
              "    border: none;\n",
              "    border-radius: 50%;\n",
              "    cursor: pointer;\n",
              "    display: none;\n",
              "    fill: var(--fill-color);\n",
              "    height: 32px;\n",
              "    padding: 0;\n",
              "    width: 32px;\n",
              "  }\n",
              "\n",
              "  .colab-df-quickchart:hover {\n",
              "    background-color: var(--hover-bg-color);\n",
              "    box-shadow: 0 1px 2px rgba(60, 64, 67, 0.3), 0 1px 3px 1px rgba(60, 64, 67, 0.15);\n",
              "    fill: var(--button-hover-fill-color);\n",
              "  }\n",
              "\n",
              "  .colab-df-quickchart-complete:disabled,\n",
              "  .colab-df-quickchart-complete:disabled:hover {\n",
              "    background-color: var(--disabled-bg-color);\n",
              "    fill: var(--disabled-fill-color);\n",
              "    box-shadow: none;\n",
              "  }\n",
              "\n",
              "  .colab-df-spinner {\n",
              "    border: 2px solid var(--fill-color);\n",
              "    border-color: transparent;\n",
              "    border-bottom-color: var(--fill-color);\n",
              "    animation:\n",
              "      spin 1s steps(1) infinite;\n",
              "  }\n",
              "\n",
              "  @keyframes spin {\n",
              "    0% {\n",
              "      border-color: transparent;\n",
              "      border-bottom-color: var(--fill-color);\n",
              "      border-left-color: var(--fill-color);\n",
              "    }\n",
              "    20% {\n",
              "      border-color: transparent;\n",
              "      border-left-color: var(--fill-color);\n",
              "      border-top-color: var(--fill-color);\n",
              "    }\n",
              "    30% {\n",
              "      border-color: transparent;\n",
              "      border-left-color: var(--fill-color);\n",
              "      border-top-color: var(--fill-color);\n",
              "      border-right-color: var(--fill-color);\n",
              "    }\n",
              "    40% {\n",
              "      border-color: transparent;\n",
              "      border-right-color: var(--fill-color);\n",
              "      border-top-color: var(--fill-color);\n",
              "    }\n",
              "    60% {\n",
              "      border-color: transparent;\n",
              "      border-right-color: var(--fill-color);\n",
              "    }\n",
              "    80% {\n",
              "      border-color: transparent;\n",
              "      border-right-color: var(--fill-color);\n",
              "      border-bottom-color: var(--fill-color);\n",
              "    }\n",
              "    90% {\n",
              "      border-color: transparent;\n",
              "      border-bottom-color: var(--fill-color);\n",
              "    }\n",
              "  }\n",
              "</style>\n",
              "\n",
              "  <script>\n",
              "    async function quickchart(key) {\n",
              "      const quickchartButtonEl =\n",
              "        document.querySelector('#' + key + ' button');\n",
              "      quickchartButtonEl.disabled = true;  // To prevent multiple clicks.\n",
              "      quickchartButtonEl.classList.add('colab-df-spinner');\n",
              "      try {\n",
              "        const charts = await google.colab.kernel.invokeFunction(\n",
              "            'suggestCharts', [key], {});\n",
              "      } catch (error) {\n",
              "        console.error('Error during call to suggestCharts:', error);\n",
              "      }\n",
              "      quickchartButtonEl.classList.remove('colab-df-spinner');\n",
              "      quickchartButtonEl.classList.add('colab-df-quickchart-complete');\n",
              "    }\n",
              "    (() => {\n",
              "      let quickchartButtonEl =\n",
              "        document.querySelector('#df-db8c83d9-aa93-4f66-9d27-dc34530806bb button');\n",
              "      quickchartButtonEl.style.display =\n",
              "        google.colab.kernel.accessAllowed ? 'block' : 'none';\n",
              "    })();\n",
              "  </script>\n",
              "</div>\n",
              "    </div>\n",
              "  </div>\n"
            ],
            "text/plain": [
              "               Mean   Entropy  Skewness    Contrast  Correlation\n",
              "Image                                                           \n",
              "Image1439  9.691711  0.014755  4.145413  111.108108     0.980092\n",
              "Image3165  2.142319  0.096746  4.610302   34.353992     0.948827\n",
              "Image2317  8.229340  0.206584  3.294635   74.183124     0.978915\n",
              "Image1825  5.757904  0.001252  5.415845   75.807265     0.972684\n",
              "Image124   4.593552  0.001751  5.305935   92.420052     0.970507"
            ]
          },
          "execution_count": 24,
          "metadata": {},
          "output_type": "execute_result"
        }
      ],
      "source": [
        "X_train, X_test, y_train, y_test = train_test_split(X, y, test_size=0.2, stratify=y, random_state=42)\n",
        "X_train_scaled, X_test_scaled, y_train_scaled, y_test_scaled = train_test_split(X_scaled, y, test_size=0.2, stratify=y, random_state=42)\n",
        "\n",
        "X_train.head()"
      ]
    },
    {
      "cell_type": "code",
      "execution_count": 25,
      "metadata": {
        "colab": {
          "base_uri": "https://localhost:8080/",
          "height": 0
        },
        "id": "XZpy-gPkXg0y",
        "outputId": "0fb05c8e-8bb0-4a31-909f-348ef7e9b8e9"
      },
      "outputs": [
        {
          "data": {
            "text/html": [
              "\n",
              "  <div id=\"df-eb603dac-952f-428b-a982-301ff4835232\" class=\"colab-df-container\">\n",
              "    <div>\n",
              "<style scoped>\n",
              "    .dataframe tbody tr th:only-of-type {\n",
              "        vertical-align: middle;\n",
              "    }\n",
              "\n",
              "    .dataframe tbody tr th {\n",
              "        vertical-align: top;\n",
              "    }\n",
              "\n",
              "    .dataframe thead th {\n",
              "        text-align: right;\n",
              "    }\n",
              "</style>\n",
              "<table border=\"1\" class=\"dataframe\">\n",
              "  <thead>\n",
              "    <tr style=\"text-align: right;\">\n",
              "      <th></th>\n",
              "      <th>Mean</th>\n",
              "      <th>Entropy</th>\n",
              "      <th>Skewness</th>\n",
              "      <th>Contrast</th>\n",
              "      <th>Correlation</th>\n",
              "    </tr>\n",
              "    <tr>\n",
              "      <th>Image</th>\n",
              "      <th></th>\n",
              "      <th></th>\n",
              "      <th></th>\n",
              "      <th></th>\n",
              "      <th></th>\n",
              "    </tr>\n",
              "  </thead>\n",
              "  <tbody>\n",
              "    <tr>\n",
              "      <th>Image1439</th>\n",
              "      <td>0.035413</td>\n",
              "      <td>-0.837577</td>\n",
              "      <td>0.016670</td>\n",
              "      <td>-0.153933</td>\n",
              "      <td>0.930083</td>\n",
              "    </tr>\n",
              "    <tr>\n",
              "      <th>Image3165</th>\n",
              "      <td>-1.282737</td>\n",
              "      <td>0.329399</td>\n",
              "      <td>0.198225</td>\n",
              "      <td>-0.854979</td>\n",
              "      <td>-0.265362</td>\n",
              "    </tr>\n",
              "    <tr>\n",
              "      <th>Image2317</th>\n",
              "      <td>-0.219922</td>\n",
              "      <td>1.892724</td>\n",
              "      <td>-0.315587</td>\n",
              "      <td>-0.491193</td>\n",
              "      <td>0.885115</td>\n",
              "    </tr>\n",
              "    <tr>\n",
              "      <th>Image1825</th>\n",
              "      <td>-0.651443</td>\n",
              "      <td>-1.029762</td>\n",
              "      <td>0.512817</td>\n",
              "      <td>-0.476359</td>\n",
              "      <td>0.646845</td>\n",
              "    </tr>\n",
              "    <tr>\n",
              "      <th>Image124</th>\n",
              "      <td>-0.854743</td>\n",
              "      <td>-1.022669</td>\n",
              "      <td>0.469893</td>\n",
              "      <td>-0.324623</td>\n",
              "      <td>0.563608</td>\n",
              "    </tr>\n",
              "  </tbody>\n",
              "</table>\n",
              "</div>\n",
              "    <div class=\"colab-df-buttons\">\n",
              "\n",
              "  <div class=\"colab-df-container\">\n",
              "    <button class=\"colab-df-convert\" onclick=\"convertToInteractive('df-eb603dac-952f-428b-a982-301ff4835232')\"\n",
              "            title=\"Convert this dataframe to an interactive table.\"\n",
              "            style=\"display:none;\">\n",
              "\n",
              "  <svg xmlns=\"http://www.w3.org/2000/svg\" height=\"24px\" viewBox=\"0 -960 960 960\">\n",
              "    <path d=\"M120-120v-720h720v720H120Zm60-500h600v-160H180v160Zm220 220h160v-160H400v160Zm0 220h160v-160H400v160ZM180-400h160v-160H180v160Zm440 0h160v-160H620v160ZM180-180h160v-160H180v160Zm440 0h160v-160H620v160Z\"/>\n",
              "  </svg>\n",
              "    </button>\n",
              "\n",
              "  <style>\n",
              "    .colab-df-container {\n",
              "      display:flex;\n",
              "      gap: 12px;\n",
              "    }\n",
              "\n",
              "    .colab-df-convert {\n",
              "      background-color: #E8F0FE;\n",
              "      border: none;\n",
              "      border-radius: 50%;\n",
              "      cursor: pointer;\n",
              "      display: none;\n",
              "      fill: #1967D2;\n",
              "      height: 32px;\n",
              "      padding: 0 0 0 0;\n",
              "      width: 32px;\n",
              "    }\n",
              "\n",
              "    .colab-df-convert:hover {\n",
              "      background-color: #E2EBFA;\n",
              "      box-shadow: 0px 1px 2px rgba(60, 64, 67, 0.3), 0px 1px 3px 1px rgba(60, 64, 67, 0.15);\n",
              "      fill: #174EA6;\n",
              "    }\n",
              "\n",
              "    .colab-df-buttons div {\n",
              "      margin-bottom: 4px;\n",
              "    }\n",
              "\n",
              "    [theme=dark] .colab-df-convert {\n",
              "      background-color: #3B4455;\n",
              "      fill: #D2E3FC;\n",
              "    }\n",
              "\n",
              "    [theme=dark] .colab-df-convert:hover {\n",
              "      background-color: #434B5C;\n",
              "      box-shadow: 0px 1px 3px 1px rgba(0, 0, 0, 0.15);\n",
              "      filter: drop-shadow(0px 1px 2px rgba(0, 0, 0, 0.3));\n",
              "      fill: #FFFFFF;\n",
              "    }\n",
              "  </style>\n",
              "\n",
              "    <script>\n",
              "      const buttonEl =\n",
              "        document.querySelector('#df-eb603dac-952f-428b-a982-301ff4835232 button.colab-df-convert');\n",
              "      buttonEl.style.display =\n",
              "        google.colab.kernel.accessAllowed ? 'block' : 'none';\n",
              "\n",
              "      async function convertToInteractive(key) {\n",
              "        const element = document.querySelector('#df-eb603dac-952f-428b-a982-301ff4835232');\n",
              "        const dataTable =\n",
              "          await google.colab.kernel.invokeFunction('convertToInteractive',\n",
              "                                                    [key], {});\n",
              "        if (!dataTable) return;\n",
              "\n",
              "        const docLinkHtml = 'Like what you see? Visit the ' +\n",
              "          '<a target=\"_blank\" href=https://colab.research.google.com/notebooks/data_table.ipynb>data table notebook</a>'\n",
              "          + ' to learn more about interactive tables.';\n",
              "        element.innerHTML = '';\n",
              "        dataTable['output_type'] = 'display_data';\n",
              "        await google.colab.output.renderOutput(dataTable, element);\n",
              "        const docLink = document.createElement('div');\n",
              "        docLink.innerHTML = docLinkHtml;\n",
              "        element.appendChild(docLink);\n",
              "      }\n",
              "    </script>\n",
              "  </div>\n",
              "\n",
              "\n",
              "<div id=\"df-5edb93f7-86e3-4dd8-8bd4-1160d4686d59\">\n",
              "  <button class=\"colab-df-quickchart\" onclick=\"quickchart('df-5edb93f7-86e3-4dd8-8bd4-1160d4686d59')\"\n",
              "            title=\"Suggest charts\"\n",
              "            style=\"display:none;\">\n",
              "\n",
              "<svg xmlns=\"http://www.w3.org/2000/svg\" height=\"24px\"viewBox=\"0 0 24 24\"\n",
              "     width=\"24px\">\n",
              "    <g>\n",
              "        <path d=\"M19 3H5c-1.1 0-2 .9-2 2v14c0 1.1.9 2 2 2h14c1.1 0 2-.9 2-2V5c0-1.1-.9-2-2-2zM9 17H7v-7h2v7zm4 0h-2V7h2v10zm4 0h-2v-4h2v4z\"/>\n",
              "    </g>\n",
              "</svg>\n",
              "  </button>\n",
              "\n",
              "<style>\n",
              "  .colab-df-quickchart {\n",
              "      --bg-color: #E8F0FE;\n",
              "      --fill-color: #1967D2;\n",
              "      --hover-bg-color: #E2EBFA;\n",
              "      --hover-fill-color: #174EA6;\n",
              "      --disabled-fill-color: #AAA;\n",
              "      --disabled-bg-color: #DDD;\n",
              "  }\n",
              "\n",
              "  [theme=dark] .colab-df-quickchart {\n",
              "      --bg-color: #3B4455;\n",
              "      --fill-color: #D2E3FC;\n",
              "      --hover-bg-color: #434B5C;\n",
              "      --hover-fill-color: #FFFFFF;\n",
              "      --disabled-bg-color: #3B4455;\n",
              "      --disabled-fill-color: #666;\n",
              "  }\n",
              "\n",
              "  .colab-df-quickchart {\n",
              "    background-color: var(--bg-color);\n",
              "    border: none;\n",
              "    border-radius: 50%;\n",
              "    cursor: pointer;\n",
              "    display: none;\n",
              "    fill: var(--fill-color);\n",
              "    height: 32px;\n",
              "    padding: 0;\n",
              "    width: 32px;\n",
              "  }\n",
              "\n",
              "  .colab-df-quickchart:hover {\n",
              "    background-color: var(--hover-bg-color);\n",
              "    box-shadow: 0 1px 2px rgba(60, 64, 67, 0.3), 0 1px 3px 1px rgba(60, 64, 67, 0.15);\n",
              "    fill: var(--button-hover-fill-color);\n",
              "  }\n",
              "\n",
              "  .colab-df-quickchart-complete:disabled,\n",
              "  .colab-df-quickchart-complete:disabled:hover {\n",
              "    background-color: var(--disabled-bg-color);\n",
              "    fill: var(--disabled-fill-color);\n",
              "    box-shadow: none;\n",
              "  }\n",
              "\n",
              "  .colab-df-spinner {\n",
              "    border: 2px solid var(--fill-color);\n",
              "    border-color: transparent;\n",
              "    border-bottom-color: var(--fill-color);\n",
              "    animation:\n",
              "      spin 1s steps(1) infinite;\n",
              "  }\n",
              "\n",
              "  @keyframes spin {\n",
              "    0% {\n",
              "      border-color: transparent;\n",
              "      border-bottom-color: var(--fill-color);\n",
              "      border-left-color: var(--fill-color);\n",
              "    }\n",
              "    20% {\n",
              "      border-color: transparent;\n",
              "      border-left-color: var(--fill-color);\n",
              "      border-top-color: var(--fill-color);\n",
              "    }\n",
              "    30% {\n",
              "      border-color: transparent;\n",
              "      border-left-color: var(--fill-color);\n",
              "      border-top-color: var(--fill-color);\n",
              "      border-right-color: var(--fill-color);\n",
              "    }\n",
              "    40% {\n",
              "      border-color: transparent;\n",
              "      border-right-color: var(--fill-color);\n",
              "      border-top-color: var(--fill-color);\n",
              "    }\n",
              "    60% {\n",
              "      border-color: transparent;\n",
              "      border-right-color: var(--fill-color);\n",
              "    }\n",
              "    80% {\n",
              "      border-color: transparent;\n",
              "      border-right-color: var(--fill-color);\n",
              "      border-bottom-color: var(--fill-color);\n",
              "    }\n",
              "    90% {\n",
              "      border-color: transparent;\n",
              "      border-bottom-color: var(--fill-color);\n",
              "    }\n",
              "  }\n",
              "</style>\n",
              "\n",
              "  <script>\n",
              "    async function quickchart(key) {\n",
              "      const quickchartButtonEl =\n",
              "        document.querySelector('#' + key + ' button');\n",
              "      quickchartButtonEl.disabled = true;  // To prevent multiple clicks.\n",
              "      quickchartButtonEl.classList.add('colab-df-spinner');\n",
              "      try {\n",
              "        const charts = await google.colab.kernel.invokeFunction(\n",
              "            'suggestCharts', [key], {});\n",
              "      } catch (error) {\n",
              "        console.error('Error during call to suggestCharts:', error);\n",
              "      }\n",
              "      quickchartButtonEl.classList.remove('colab-df-spinner');\n",
              "      quickchartButtonEl.classList.add('colab-df-quickchart-complete');\n",
              "    }\n",
              "    (() => {\n",
              "      let quickchartButtonEl =\n",
              "        document.querySelector('#df-5edb93f7-86e3-4dd8-8bd4-1160d4686d59 button');\n",
              "      quickchartButtonEl.style.display =\n",
              "        google.colab.kernel.accessAllowed ? 'block' : 'none';\n",
              "    })();\n",
              "  </script>\n",
              "</div>\n",
              "    </div>\n",
              "  </div>\n"
            ],
            "text/plain": [
              "               Mean   Entropy  Skewness  Contrast  Correlation\n",
              "Image                                                         \n",
              "Image1439  0.035413 -0.837577  0.016670 -0.153933     0.930083\n",
              "Image3165 -1.282737  0.329399  0.198225 -0.854979    -0.265362\n",
              "Image2317 -0.219922  1.892724 -0.315587 -0.491193     0.885115\n",
              "Image1825 -0.651443 -1.029762  0.512817 -0.476359     0.646845\n",
              "Image124  -0.854743 -1.022669  0.469893 -0.324623     0.563608"
            ]
          },
          "execution_count": 25,
          "metadata": {},
          "output_type": "execute_result"
        }
      ],
      "source": [
        "X_train_scaled.head()"
      ]
    },
    {
      "cell_type": "markdown",
      "metadata": {
        "id": "JRjouUewTdVx"
      },
      "source": [
        "Per evitare di introdurre errori nell'addestramento della rete abbiamo voluto\n",
        "verificare che il dataset dopo lo split fosse ancora bilanciato"
      ]
    },
    {
      "cell_type": "code",
      "execution_count": 26,
      "metadata": {
        "colab": {
          "base_uri": "https://localhost:8080/"
        },
        "id": "vWrtL7SMTbrE",
        "outputId": "a9ddb05b-a0e0-439b-af42-313d03e096a9"
      },
      "outputs": [
        {
          "name": "stdout",
          "output_type": "stream",
          "text": [
            "Dataset:\n",
            "\t-Negative 55.26 %\n",
            "\t-Positive 44.74 %\n",
            "Train data:\n",
            "\t- Negative 55.27 %\n",
            "\t- Positive 44.73 %\n"
          ]
        }
      ],
      "source": [
        "print(\"Dataset:\\n\\t-Negative\", round((y.value_counts()[0]/y.shape[0]) * 100, 2),\n",
        "      \"%\\n\\t-Positive\", round((y.value_counts()[1]/y.shape[0]) * 100, 2), \"%\")\n",
        "print(\"Train data:\\n\\t- Negative\", round((y_train.value_counts()[0] / y_train.shape[0]) * 100, 2),\n",
        "      \"%\\n\\t- Positive\", round((y_train.value_counts()[1] / y_train.shape[0]) * 100, 2), \"%\")"
      ]
    },
    {
      "cell_type": "markdown",
      "metadata": {
        "id": "p8mC0kwDMBzF"
      },
      "source": [
        "## Analisi del dataset con PCA"
      ]
    },
    {
      "cell_type": "code",
      "execution_count": 27,
      "metadata": {
        "id": "CPNeYqQ3Mhul"
      },
      "outputs": [],
      "source": [
        "from sklearn.decomposition import PCA"
      ]
    },
    {
      "cell_type": "code",
      "execution_count": 28,
      "metadata": {
        "id": "v2qONduRMlL7"
      },
      "outputs": [],
      "source": [
        "dataset_class = dataset['Class']\n",
        "dataset_without_class = dataset.drop(['Class'], axis=1)"
      ]
    },
    {
      "cell_type": "markdown",
      "metadata": {
        "id": "X0YtTsAMF_g2"
      },
      "source": [
        "Standardizziamo il dataset"
      ]
    },
    {
      "cell_type": "code",
      "execution_count": 29,
      "metadata": {
        "id": "EAMjxIkZGCQ1"
      },
      "outputs": [],
      "source": [
        "scaled_data = scaler.fit_transform(dataset_without_class)"
      ]
    },
    {
      "cell_type": "markdown",
      "metadata": {
        "id": "bFRJFjCnGVzN"
      },
      "source": [
        "Crea un grafico della varianza spiegata per ogni componente"
      ]
    },
    {
      "cell_type": "code",
      "execution_count": 30,
      "metadata": {
        "colab": {
          "base_uri": "https://localhost:8080/",
          "height": 0
        },
        "id": "PNM2onUkM9VC",
        "outputId": "850826b9-c44c-4996-cb17-f1b5049e6e0f"
      },
      "outputs": [
        {
          "data": {
            "image/png": "[encoded data removed]",
            "text/plain": [
              "<Figure size 640x480 with 1 Axes>"
            ]
          },
          "metadata": {},
          "output_type": "display_data"
        }
      ],
      "source": [
        "pca = PCA().fit(scaled_data)\n",
        "\n",
        "plt.plot(range(1, pca.n_components_ + 1), pca.explained_variance_ratio_, marker='o')\n",
        "plt.xlabel('Componenti della PCA')\n",
        "plt.ylabel('Varianza spiegata')\n",
        "plt.title(\"Risultati della PCA\")\n",
        "plt.show()"
      ]
    },
    {
      "cell_type": "markdown",
      "metadata": {
        "id": "tMzK1daSGhyC"
      },
      "source": [
        "Applica la PCA per ridurre la dimensionalità dei dati"
      ]
    },
    {
      "cell_type": "code",
      "execution_count": 31,
      "metadata": {
        "colab": {
          "base_uri": "https://localhost:8080/"
        },
        "id": "o1SuTs71NNDG",
        "outputId": "e7009d8c-639c-4e2d-9b0e-eb42e0158572"
      },
      "outputs": [
        {
          "name": "stdout",
          "output_type": "stream",
          "text": [
            "[4.08816773e-01 3.12991477e-01 1.28742637e-01 6.26484623e-02\n",
            " 4.78447253e-02 2.00054187e-02 1.07659606e-02 3.34276945e-03\n",
            " 2.55305629e-03 1.39156675e-03 8.91780975e-04 5.37250098e-06\n",
            " 2.96819414e-29]\n",
            "Numero di componenti che spiegano la varianza: 3\n",
            "Varianza totale spiegata: 0.8505508871084848\n"
          ]
        }
      ],
      "source": [
        "pca = PCA().fit(scaled_data)\n",
        "pca_data = pca.transform(scaled_data)\n",
        "\n",
        "print(pca.explained_variance_ratio_)\n",
        "n_componenti = 3\n",
        "print('Numero di componenti che spiegano la varianza: ' + str(n_componenti))\n",
        "print('Varianza totale spiegata: ' + str(np.sum(pca.explained_variance_ratio_[:n_componenti])))"
      ]
    },
    {
      "cell_type": "markdown",
      "metadata": {
        "id": "pi1gfEV6NVRK"
      },
      "source": [
        "Dal momento che la varianzia spiegata dalle prime 3 componenti allora consideriamo solo quelle."
      ]
    },
    {
      "cell_type": "code",
      "execution_count": 32,
      "metadata": {
        "colab": {
          "base_uri": "https://localhost:8080/",
          "height": 0
        },
        "id": "QzsuOdcFNWMc",
        "outputId": "96fff11f-fbde-4c6e-b397-925ee477626b"
      },
      "outputs": [
        {
          "data": {
            "text/html": [
              "\n",
              "  <div id=\"df-6d57274a-f005-47f0-80c4-a80d84a42f8b\" class=\"colab-df-container\">\n",
              "    <div>\n",
              "<style scoped>\n",
              "    .dataframe tbody tr th:only-of-type {\n",
              "        vertical-align: middle;\n",
              "    }\n",
              "\n",
              "    .dataframe tbody tr th {\n",
              "        vertical-align: top;\n",
              "    }\n",
              "\n",
              "    .dataframe thead th {\n",
              "        text-align: right;\n",
              "    }\n",
              "</style>\n",
              "<table border=\"1\" class=\"dataframe\">\n",
              "  <thead>\n",
              "    <tr style=\"text-align: right;\">\n",
              "      <th></th>\n",
              "      <th>PCA_C1</th>\n",
              "      <th>PCA_C2</th>\n",
              "      <th>PCA_C3</th>\n",
              "      <th>Class</th>\n",
              "    </tr>\n",
              "    <tr>\n",
              "      <th>Image</th>\n",
              "      <th></th>\n",
              "      <th></th>\n",
              "      <th></th>\n",
              "      <th></th>\n",
              "    </tr>\n",
              "  </thead>\n",
              "  <tbody>\n",
              "    <tr>\n",
              "      <th>Image1</th>\n",
              "      <td>-1.134947</td>\n",
              "      <td>0.116539</td>\n",
              "      <td>-0.122074</td>\n",
              "      <td>0</td>\n",
              "    </tr>\n",
              "    <tr>\n",
              "      <th>Image2</th>\n",
              "      <td>-4.262143</td>\n",
              "      <td>-0.049437</td>\n",
              "      <td>1.500706</td>\n",
              "      <td>0</td>\n",
              "    </tr>\n",
              "    <tr>\n",
              "      <th>Image3</th>\n",
              "      <td>2.481383</td>\n",
              "      <td>-1.111446</td>\n",
              "      <td>-0.957833</td>\n",
              "      <td>1</td>\n",
              "    </tr>\n",
              "    <tr>\n",
              "      <th>Image4</th>\n",
              "      <td>3.074085</td>\n",
              "      <td>-0.235259</td>\n",
              "      <td>-0.388747</td>\n",
              "      <td>1</td>\n",
              "    </tr>\n",
              "    <tr>\n",
              "      <th>Image5</th>\n",
              "      <td>-0.900927</td>\n",
              "      <td>0.311275</td>\n",
              "      <td>1.345354</td>\n",
              "      <td>0</td>\n",
              "    </tr>\n",
              "  </tbody>\n",
              "</table>\n",
              "</div>\n",
              "    <div class=\"colab-df-buttons\">\n",
              "\n",
              "  <div class=\"colab-df-container\">\n",
              "    <button class=\"colab-df-convert\" onclick=\"convertToInteractive('df-6d57274a-f005-47f0-80c4-a80d84a42f8b')\"\n",
              "            title=\"Convert this dataframe to an interactive table.\"\n",
              "            style=\"display:none;\">\n",
              "\n",
              "  <svg xmlns=\"http://www.w3.org/2000/svg\" height=\"24px\" viewBox=\"0 -960 960 960\">\n",
              "    <path d=\"M120-120v-720h720v720H120Zm60-500h600v-160H180v160Zm220 220h160v-160H400v160Zm0 220h160v-160H400v160ZM180-400h160v-160H180v160Zm440 0h160v-160H620v160ZM180-180h160v-160H180v160Zm440 0h160v-160H620v160Z\"/>\n",
              "  </svg>\n",
              "    </button>\n",
              "\n",
              "  <style>\n",
              "    .colab-df-container {\n",
              "      display:flex;\n",
              "      gap: 12px;\n",
              "    }\n",
              "\n",
              "    .colab-df-convert {\n",
              "      background-color: #E8F0FE;\n",
              "      border: none;\n",
              "      border-radius: 50%;\n",
              "      cursor: pointer;\n",
              "      display: none;\n",
              "      fill: #1967D2;\n",
              "      height: 32px;\n",
              "      padding: 0 0 0 0;\n",
              "      width: 32px;\n",
              "    }\n",
              "\n",
              "    .colab-df-convert:hover {\n",
              "      background-color: #E2EBFA;\n",
              "      box-shadow: 0px 1px 2px rgba(60, 64, 67, 0.3), 0px 1px 3px 1px rgba(60, 64, 67, 0.15);\n",
              "      fill: #174EA6;\n",
              "    }\n",
              "\n",
              "    .colab-df-buttons div {\n",
              "      margin-bottom: 4px;\n",
              "    }\n",
              "\n",
              "    [theme=dark] .colab-df-convert {\n",
              "      background-color: #3B4455;\n",
              "      fill: #D2E3FC;\n",
              "    }\n",
              "\n",
              "    [theme=dark] .colab-df-convert:hover {\n",
              "      background-color: #434B5C;\n",
              "      box-shadow: 0px 1px 3px 1px rgba(0, 0, 0, 0.15);\n",
              "      filter: drop-shadow(0px 1px 2px rgba(0, 0, 0, 0.3));\n",
              "      fill: #FFFFFF;\n",
              "    }\n",
              "  </style>\n",
              "\n",
              "    <script>\n",
              "      const buttonEl =\n",
              "        document.querySelector('#df-6d57274a-f005-47f0-80c4-a80d84a42f8b button.colab-df-convert');\n",
              "      buttonEl.style.display =\n",
              "        google.colab.kernel.accessAllowed ? 'block' : 'none';\n",
              "\n",
              "      async function convertToInteractive(key) {\n",
              "        const element = document.querySelector('#df-6d57274a-f005-47f0-80c4-a80d84a42f8b');\n",
              "        const dataTable =\n",
              "          await google.colab.kernel.invokeFunction('convertToInteractive',\n",
              "                                                    [key], {});\n",
              "        if (!dataTable) return;\n",
              "\n",
              "        const docLinkHtml = 'Like what you see? Visit the ' +\n",
              "          '<a target=\"_blank\" href=https://colab.research.google.com/notebooks/data_table.ipynb>data table notebook</a>'\n",
              "          + ' to learn more about interactive tables.';\n",
              "        element.innerHTML = '';\n",
              "        dataTable['output_type'] = 'display_data';\n",
              "        await google.colab.output.renderOutput(dataTable, element);\n",
              "        const docLink = document.createElement('div');\n",
              "        docLink.innerHTML = docLinkHtml;\n",
              "        element.appendChild(docLink);\n",
              "      }\n",
              "    </script>\n",
              "  </div>\n",
              "\n",
              "\n",
              "<div id=\"df-f30fea40-a2c7-4bdd-b5db-b7f0953739dc\">\n",
              "  <button class=\"colab-df-quickchart\" onclick=\"quickchart('df-f30fea40-a2c7-4bdd-b5db-b7f0953739dc')\"\n",
              "            title=\"Suggest charts\"\n",
              "            style=\"display:none;\">\n",
              "\n",
              "<svg xmlns=\"http://www.w3.org/2000/svg\" height=\"24px\"viewBox=\"0 0 24 24\"\n",
              "     width=\"24px\">\n",
              "    <g>\n",
              "        <path d=\"M19 3H5c-1.1 0-2 .9-2 2v14c0 1.1.9 2 2 2h14c1.1 0 2-.9 2-2V5c0-1.1-.9-2-2-2zM9 17H7v-7h2v7zm4 0h-2V7h2v10zm4 0h-2v-4h2v4z\"/>\n",
              "    </g>\n",
              "</svg>\n",
              "  </button>\n",
              "\n",
              "<style>\n",
              "  .colab-df-quickchart {\n",
              "      --bg-color: #E8F0FE;\n",
              "      --fill-color: #1967D2;\n",
              "      --hover-bg-color: #E2EBFA;\n",
              "      --hover-fill-color: #174EA6;\n",
              "      --disabled-fill-color: #AAA;\n",
              "      --disabled-bg-color: #DDD;\n",
              "  }\n",
              "\n",
              "  [theme=dark] .colab-df-quickchart {\n",
              "      --bg-color: #3B4455;\n",
              "      --fill-color: #D2E3FC;\n",
              "      --hover-bg-color: #434B5C;\n",
              "      --hover-fill-color: #FFFFFF;\n",
              "      --disabled-bg-color: #3B4455;\n",
              "      --disabled-fill-color: #666;\n",
              "  }\n",
              "\n",
              "  .colab-df-quickchart {\n",
              "    background-color: var(--bg-color);\n",
              "    border: none;\n",
              "    border-radius: 50%;\n",
              "    cursor: pointer;\n",
              "    display: none;\n",
              "    fill: var(--fill-color);\n",
              "    height: 32px;\n",
              "    padding: 0;\n",
              "    width: 32px;\n",
              "  }\n",
              "\n",
              "  .colab-df-quickchart:hover {\n",
              "    background-color: var(--hover-bg-color);\n",
              "    box-shadow: 0 1px 2px rgba(60, 64, 67, 0.3), 0 1px 3px 1px rgba(60, 64, 67, 0.15);\n",
              "    fill: var(--button-hover-fill-color);\n",
              "  }\n",
              "\n",
              "  .colab-df-quickchart-complete:disabled,\n",
              "  .colab-df-quickchart-complete:disabled:hover {\n",
              "    background-color: var(--disabled-bg-color);\n",
              "    fill: var(--disabled-fill-color);\n",
              "    box-shadow: none;\n",
              "  }\n",
              "\n",
              "  .colab-df-spinner {\n",
              "    border: 2px solid var(--fill-color);\n",
              "    border-color: transparent;\n",
              "    border-bottom-color: var(--fill-color);\n",
              "    animation:\n",
              "      spin 1s steps(1) infinite;\n",
              "  }\n",
              "\n",
              "  @keyframes spin {\n",
              "    0% {\n",
              "      border-color: transparent;\n",
              "      border-bottom-color: var(--fill-color);\n",
              "      border-left-color: var(--fill-color);\n",
              "    }\n",
              "    20% {\n",
              "      border-color: transparent;\n",
              "      border-left-color: var(--fill-color);\n",
              "      border-top-color: var(--fill-color);\n",
              "    }\n",
              "    30% {\n",
              "      border-color: transparent;\n",
              "      border-left-color: var(--fill-color);\n",
              "      border-top-color: var(--fill-color);\n",
              "      border-right-color: var(--fill-color);\n",
              "    }\n",
              "    40% {\n",
              "      border-color: transparent;\n",
              "      border-right-color: var(--fill-color);\n",
              "      border-top-color: var(--fill-color);\n",
              "    }\n",
              "    60% {\n",
              "      border-color: transparent;\n",
              "      border-right-color: var(--fill-color);\n",
              "    }\n",
              "    80% {\n",
              "      border-color: transparent;\n",
              "      border-right-color: var(--fill-color);\n",
              "      border-bottom-color: var(--fill-color);\n",
              "    }\n",
              "    90% {\n",
              "      border-color: transparent;\n",
              "      border-bottom-color: var(--fill-color);\n",
              "    }\n",
              "  }\n",
              "</style>\n",
              "\n",
              "  <script>\n",
              "    async function quickchart(key) {\n",
              "      const quickchartButtonEl =\n",
              "        document.querySelector('#' + key + ' button');\n",
              "      quickchartButtonEl.disabled = true;  // To prevent multiple clicks.\n",
              "      quickchartButtonEl.classList.add('colab-df-spinner');\n",
              "      try {\n",
              "        const charts = await google.colab.kernel.invokeFunction(\n",
              "            'suggestCharts', [key], {});\n",
              "      } catch (error) {\n",
              "        console.error('Error during call to suggestCharts:', error);\n",
              "      }\n",
              "      quickchartButtonEl.classList.remove('colab-df-spinner');\n",
              "      quickchartButtonEl.classList.add('colab-df-quickchart-complete');\n",
              "    }\n",
              "    (() => {\n",
              "      let quickchartButtonEl =\n",
              "        document.querySelector('#df-f30fea40-a2c7-4bdd-b5db-b7f0953739dc button');\n",
              "      quickchartButtonEl.style.display =\n",
              "        google.colab.kernel.accessAllowed ? 'block' : 'none';\n",
              "    })();\n",
              "  </script>\n",
              "</div>\n",
              "    </div>\n",
              "  </div>\n"
            ],
            "text/plain": [
              "          PCA_C1    PCA_C2    PCA_C3 Class\n",
              "Image                                     \n",
              "Image1 -1.134947  0.116539 -0.122074     0\n",
              "Image2 -4.262143 -0.049437  1.500706     0\n",
              "Image3  2.481383 -1.111446 -0.957833     1\n",
              "Image4  3.074085 -0.235259 -0.388747     1\n",
              "Image5 -0.900927  0.311275  1.345354     0"
            ]
          },
          "execution_count": 32,
          "metadata": {},
          "output_type": "execute_result"
        }
      ],
      "source": [
        "dataset_pca_transformed = pd.DataFrame(pca_data[:,:n_componenti])\n",
        "dataset_pca_transformed.columns = ['PCA_C1', 'PCA_C2', 'PCA_C3']\n",
        "dataset_pca_transformed = dataset_pca_transformed.set_index(dataset_class.index)\n",
        "dataset_pca_transformed['Class'] = dataset_class\n",
        "dataset_pca_transformed.head()"
      ]
    },
    {
      "cell_type": "code",
      "execution_count": 33,
      "metadata": {
        "id": "iEpCF6rZNh8n"
      },
      "outputs": [],
      "source": [
        "import mpl_toolkits.mplot3d"
      ]
    },
    {
      "cell_type": "code",
      "execution_count": 34,
      "metadata": {
        "colab": {
          "base_uri": "https://localhost:8080/",
          "height": 0
        },
        "id": "3RudCJoWNhAv",
        "outputId": "4072b422-1cf0-48a1-a527-4328744a6c16"
      },
      "outputs": [
        {
          "data": {
            "image/png": "[encoded data removed]",
            "text/plain": [
              "<Figure size 800x600 with 1 Axes>"
            ]
          },
          "metadata": {},
          "output_type": "display_data"
        }
      ],
      "source": [
        "fig = plt.figure(1, figsize=(8, 6))\n",
        "ax = fig.add_subplot(111, projection=\"3d\", elev=-150, azim=110)\n",
        "\n",
        "ax.scatter(\n",
        "    pca_data[:, 0],\n",
        "    pca_data[:, 1],\n",
        "    pca_data[:, 2],\n",
        "    c=dataset_class,\n",
        "    cmap='Set1'\n",
        ")\n",
        "\n",
        "ax.set_title(\"First three PCA dimensions\")\n",
        "ax.set_xlabel(dataset_pca_transformed.columns[0])\n",
        "ax.xaxis.set_ticklabels([])\n",
        "ax.set_ylabel(dataset_pca_transformed.columns[1])\n",
        "ax.yaxis.set_ticklabels([])\n",
        "ax.set_zlabel(dataset_pca_transformed.columns[2])\n",
        "ax.zaxis.set_ticklabels([])\n",
        "\n",
        "plt.show()"
      ]
    },
    {
      "cell_type": "code",
      "execution_count": 35,
      "metadata": {
        "id": "35NOY8OjHw-N"
      },
      "outputs": [],
      "source": [
        "X_train_pca, X_test_pca, y_train_pca, y_test_pca = train_test_split(dataset_pca_transformed[['PCA_C1', 'PCA_C2', 'PCA_C3']], dataset_pca_transformed['Class'], test_size=0.2, stratify=dataset_pca_transformed['Class'], random_state=42)"
      ]
    },
    {
      "cell_type": "markdown",
      "metadata": {
        "id": "-HE_A3zMOAp7"
      },
      "source": [
        "# Rete Neurale"
      ]
    },
    {
      "cell_type": "markdown",
      "metadata": {
        "id": "p3vvQY0HPGGg"
      },
      "source": [
        "- **Dense**: implements the operation:\n",
        "```\n",
        "output = activation(dot(input, kernel) + bias)\n",
        "```\n",
        "where activation is the element-wise activation function passed as the activation argument\n",
        "- **Bainary Cross Entropy**: computes the cross-entropy loss between true labels and predicted labels.\n",
        "Use this cross-entropy loss for binary (0 or 1) classification applications. The loss function requires the following inputs:\n",
        " - y_true (true label): This is either 0 or 1.\n",
        " - y_pred (predicted value): This is the model's prediction, i.e, a single floating-point value which either represents a logit, (i.e, value in [-inf, inf] when from_logits=True) or a probability (i.e, value in [0., 1.] when from_logits=False).\n",
        "- **SGD**: Gradient descent (with momentum) optimizer.\n",
        "- **ADAM**:"
      ]
    },
    {
      "cell_type": "code",
      "execution_count": 36,
      "metadata": {
        "id": "FWYvTMAqPVie"
      },
      "outputs": [],
      "source": [
        "from keras.models import Sequential\n",
        "from keras.layers import Dense"
      ]
    },
    {
      "cell_type": "code",
      "execution_count": 37,
      "metadata": {
        "id": "zvBxB8_yPT5i"
      },
      "outputs": [],
      "source": [
        "def create_model(units=[6, 6], activation='relu', opt='adam', metric='accuracy', input_layer_size=5):\n",
        "  # Creazione del modello\n",
        "  model = Sequential()\n",
        "\n",
        "  # Aggiunta layer di input e hidden layers\n",
        "  model.add(Dense(units=units[0], input_shape=(input_layer_size,), activation=activation))\n",
        "\n",
        "  if len(units) >= 2 and units[1] != 0:\n",
        "    model.add(Dense(units=units[1], activation=activation))\n",
        "\n",
        "  # Aggiunta del layer di output\n",
        "  model.add(Dense(1, activation='sigmoid'))\n",
        "\n",
        "  # Compilazione del modello\n",
        "  model.compile(loss='binary_crossentropy', optimizer=opt, metrics=[metric])\n",
        "\n",
        "  return model"
      ]
    },
    {
      "cell_type": "markdown",
      "metadata": {
        "id": "qdRtFsLBPP_7"
      },
      "source": [
        "## Ricerca degli iperparametri"
      ]
    },
    {
      "cell_type": "code",
      "execution_count": 38,
      "metadata": {
        "id": "cugiYdYgPc6q"
      },
      "outputs": [],
      "source": [
        "from itertools import product"
      ]
    },
    {
      "cell_type": "code",
      "execution_count": 39,
      "metadata": {
        "colab": {
          "base_uri": "https://localhost:8080/"
        },
        "id": "t8x4TDaIODEX",
        "outputId": "72cb4bd6-e802-4950-f88a-301947c4a39c"
      },
      "outputs": [
        {
          "name": "stdout",
          "output_type": "stream",
          "text": [
            "Total combinations: 432\n"
          ]
        }
      ],
      "source": [
        "# Iperparametri\n",
        "units = [0, 5, 10, 50]\n",
        "activation = ['sigmoid', 'relu', 'leaky_relu']\n",
        "optimizer = ['sgd', 'adam']\n",
        "batch_size = [50, 100, 300]\n",
        "epochs = [100, 300]\n",
        "\n",
        "# Creazione di tutte le possibili combinazioni\n",
        "param_combinations = list(product(units, units, activation, optimizer, batch_size, epochs))\n",
        "\n",
        "# Rimuovo le combinazioni con 0 neuroni nel primo layer\n",
        "list_to_remove = []\n",
        "\n",
        "for i, params in enumerate(param_combinations):\n",
        "  if params[0] == 0:\n",
        "    list_to_remove.append(params)\n",
        "\n",
        "for to_remove in list_to_remove:\n",
        "  param_combinations.remove(to_remove)\n",
        "\n",
        "print(\"Total combinations:\", len(param_combinations))"
      ]
    },
    {
      "cell_type": "code",
      "execution_count": 40,
      "metadata": {
        "id": "CTTjCgLuPidg"
      },
      "outputs": [],
      "source": [
        "# Preparazione del dataset per la grid search\n",
        "X_cross_val_data = pd.DataFrame(data = X_train_scaled, columns = dataset_without_class.columns)\n",
        "Y_cross_val_data = pd.DataFrame(data = y_train_scaled, columns = ['Class'])\n",
        "\n",
        "Y_cross_val_data = (Y_cross_val_data.reset_index()).drop(['Image'], axis=1)\n",
        "X_cross_val_data = (X_cross_val_data.reset_index()).drop(['Image'], axis=1)"
      ]
    },
    {
      "cell_type": "code",
      "execution_count": 41,
      "metadata": {
        "id": "4t3RNDO9P04K"
      },
      "outputs": [],
      "source": [
        "from sklearn.model_selection import StratifiedKFold\n",
        "from tqdm import tqdm\n",
        "\n",
        "import scipy.stats as st\n",
        "import numpy as np\n",
        "import time\n",
        "import json"
      ]
    },
    {
      "cell_type": "code",
      "execution_count": 42,
      "metadata": {
        "id": "dsS5ku-uR0il"
      },
      "outputs": [],
      "source": [
        "path_for_json = \"/content/drive/MyDrive/Magistrale/Machine Learning/NN_Hyperparameters\""
      ]
    },
    {
      "cell_type": "code",
      "execution_count": 43,
      "metadata": {
        "id": "Bz_6D3X9P6Ce"
      },
      "outputs": [],
      "source": [
        "def compute_statistics(performance, i):\n",
        "    accuracy_score = performance[i]['results']\n",
        "    time_score = performance[i]['time']\n",
        "    performance[i]['interval90'] = st.t.interval(confidence=0.90, df=len(accuracy_score)-1, loc=np.mean(accuracy_score), scale=st.sem(accuracy_score))\n",
        "    performance[i]['times'] = st.t.interval(confidence=0.90, df=len(time_score)-1, loc=np.mean(time_score), scale=st.sem(time_score))\n",
        "    performance[i]['meanTime'] = sum(performance[i]['time']) / len(performance[i]['time'])\n",
        "    performance[i]['meanAccuracy'] = sum(accuracy_score) / len(accuracy_score)\n",
        "\n",
        "    return performance\n",
        "\n",
        "def grid_search_NN(param_combinations, X_cross_val, Y_cross_val, input_layer_size=5, n_splits = 5,):\n",
        "    skf = StratifiedKFold(n_splits=n_splits, shuffle=True)\n",
        "\n",
        "    # Dizionario per salvare i risultati della grid search\n",
        "    performance = dict()\n",
        "\n",
        "    # Ciclo per testare tutte le combinazioni\n",
        "    for i, (u1, u2, act, opt, batch, ep) in enumerate(tqdm(param_combinations)):\n",
        "        # Inizializzazione del dizionario per la combinazione corrente\n",
        "        performance[i] = dict()\n",
        "        performance[i]['param'] = ([u1, u2], act, opt, batch, ep)\n",
        "        performance[i]['results'] = []\n",
        "        performance[i]['time'] = []\n",
        "\n",
        "        # Creazione del modello\n",
        "        model = create_model(units=[u1, u2], activation=act, opt=opt, input_layer_size=input_layer_size)\n",
        "\n",
        "        # Addestramento del modello e valutazione\n",
        "        for train_idx, test_idx in skf.split(X_cross_val, Y_cross_val):\n",
        "            X_val_train, X_val_test = X_cross_val.iloc[train_idx], X_cross_val.iloc[test_idx]\n",
        "            y_val_train, y_val_test = Y_cross_val.iloc[train_idx], Y_cross_val.iloc[test_idx]\n",
        "\n",
        "            start = time.time()\n",
        "\n",
        "            model.fit(X_val_train, y_val_train, epochs=ep, batch_size=batch, verbose=0)\n",
        "\n",
        "            end = time.time()\n",
        "\n",
        "            # Evaluate the model on the test set\n",
        "            score = model.evaluate(X_val_test, y_val_test, verbose=0)\n",
        "            performance[i]['results'].append(score[1])\n",
        "            performance[i]['time'].append(end - start)\n",
        "\n",
        "        # Calcolo delle statistiche\n",
        "        performance = compute_statistics(performance, i)\n",
        "\n",
        "    # Salvataggio dei risultati su file\n",
        "    with open(str(path_for_json + \".json\"), \"w\") as outfile:\n",
        "        json.dump(performance, outfile)\n",
        "\n",
        "    return performance\n",
        "\n",
        "def find_best_hyperparameters(performance):\n",
        "    performance_interval90 = dict()\n",
        "    performance_times = dict()\n",
        "    performance_time = dict()\n",
        "    performance_acc = dict()\n",
        "\n",
        "    for key in list(performance.keys()):\n",
        "        interval90 = performance[key]['interval90']\n",
        "        interval95 = performance[key]['times']\n",
        "\n",
        "        performance_interval90[key] = interval90[1] - interval90[0]\n",
        "        performance_times[key] = interval95[1] - interval95[0]\n",
        "        performance_time[key] = performance[key]['meanTime']\n",
        "        performance_acc[key] = performance[key]['meanAccuracy']\n",
        "\n",
        "    performance_interval90 = sorted(performance_interval90.items(), key=lambda x:x[1])\n",
        "    performance_times = sorted(performance_times.items(), key=lambda x:x[1])\n",
        "    performance_time = sorted(performance_time.items(), key=lambda x:x[1])\n",
        "    performance_acc = sorted(performance_acc.items(), key=lambda x:x[1], reverse=True)\n",
        "\n",
        "    sorted_dict = dict()\n",
        "\n",
        "    for i, (index, _) in enumerate(performance_interval90):\n",
        "        sorted_dict[index] = dict()\n",
        "        sorted_dict[index]['90'] = i + 1\n",
        "\n",
        "    for i, (index, _) in enumerate(performance_times):\n",
        "        sorted_dict[index]['times_90'] = i + 1\n",
        "\n",
        "    for i, (index, _) in enumerate(performance_time):\n",
        "        sorted_dict[index]['time'] = i + 1\n",
        "\n",
        "    for i, (index, _) in enumerate(performance_acc):\n",
        "        sorted_dict[index]['acc'] = i + 1\n",
        "\n",
        "    # Creazione del dataframe per la valutazione dei risultati\n",
        "    dataframe_model = pd.DataFrame(sorted_dict)\n",
        "    dataframe_model = dataframe_model.T\n",
        "\n",
        "    # Assegno dei pesi per ogni parametro\n",
        "    weights = pd.Series([1, 1, 2, 2], index=dataframe_model.columns)\n",
        "\n",
        "    # Calcolo del punteggio totale\n",
        "    dataframe_model['Total'] = (dataframe_model * weights).sum(axis=1)\n",
        "    dataframe_model = dataframe_model.sort_values(by=['Total'])\n",
        "\n",
        "    # Restituisco i parametri del modello migliore\n",
        "    best_model_index = dataframe_model.index[0]\n",
        "    return performance[best_model_index]['param']"
      ]
    },
    {
      "cell_type": "markdown",
      "metadata": {
        "id": "Np2OWVR4QAxl"
      },
      "source": [
        "Selezione degli iperparametri"
      ]
    },
    {
      "cell_type": "code",
      "execution_count": 44,
      "metadata": {
        "id": "2hykzskOQEa_"
      },
      "outputs": [],
      "source": [
        "# performance = grid_search_NN(param_combinations, X_cross_val_data, Y_cross_val_data)\n",
        "# best_model = find_best_hyperparameters(performance)\n",
        "\n",
        "best_model = ([[50, 0], 'leaky_relu', 'adam', 100, 100])"
      ]
    },
    {
      "cell_type": "markdown",
      "metadata": {
        "id": "cylVeAVLQKpd"
      },
      "source": [
        "## Addestramento del modello"
      ]
    },
    {
      "cell_type": "markdown",
      "metadata": {
        "id": "qoAemvnfQSKW"
      },
      "source": [
        "Creazione del modello con i migliori iperparametri"
      ]
    },
    {
      "cell_type": "code",
      "execution_count": 45,
      "metadata": {
        "id": "Mb2LRgBMQRua"
      },
      "outputs": [],
      "source": [
        "NN_model = create_model(units=best_model[0], activation=best_model[1], opt=best_model[2], input_layer_size=X_train.shape[1])"
      ]
    },
    {
      "cell_type": "markdown",
      "metadata": {
        "id": "nYStjzefxaI6"
      },
      "source": [
        "Visualizzazione del modello"
      ]
    },
    {
      "cell_type": "code",
      "execution_count": 46,
      "metadata": {
        "id": "d5xfntpnxdR0"
      },
      "outputs": [],
      "source": [
        "import keras"
      ]
    },
    {
      "cell_type": "code",
      "execution_count": 47,
      "metadata": {
        "colab": {
          "base_uri": "https://localhost:8080/",
          "height": 312
        },
        "id": "FWGl3nI5xd7b",
        "outputId": "47b5f0c1-9e54-4d3f-e29b-30a174d8e133"
      },
      "outputs": [
        {
          "data": {
            "image/png": "[encoded data removed]",
            "text/plain": [
              "<IPython.core.display.Image object>"
            ]
          },
          "execution_count": 47,
          "metadata": {},
          "output_type": "execute_result"
        }
      ],
      "source": [
        "keras.utils.plot_model(NN_model, show_shapes=True, show_layer_activations=True, show_layer_names=True)"
      ]
    },
    {
      "cell_type": "markdown",
      "metadata": {
        "id": "9iUN5KZyQaJd"
      },
      "source": [
        "Addestramento del modello"
      ]
    },
    {
      "cell_type": "code",
      "execution_count": 48,
      "metadata": {
        "colab": {
          "base_uri": "https://localhost:8080/"
        },
        "id": "y3MtRgOQQcjT",
        "outputId": "78f69a83-cf50-48c9-de70-ebf11ebfcee8"
      },
      "outputs": [
        {
          "data": {
            "text/plain": [
              "<keras.src.callbacks.History at 0x7fe1f41c4e20>"
            ]
          },
          "execution_count": 48,
          "metadata": {},
          "output_type": "execute_result"
        }
      ],
      "source": [
        "NN_model.fit(X_train_scaled, y_train_scaled, epochs=best_model[4], batch_size=best_model[3], verbose=0)"
      ]
    },
    {
      "cell_type": "markdown",
      "metadata": {
        "id": "qZcZySFFQemM"
      },
      "source": [
        "## Valutazione del modello"
      ]
    },
    {
      "cell_type": "markdown",
      "metadata": {
        "id": "vQLAowDYQuvm"
      },
      "source": [
        "Definizione di una funzione per associare un etichetta ai risultati della rete."
      ]
    },
    {
      "cell_type": "code",
      "execution_count": 49,
      "metadata": {
        "id": "R5gY4sfpQyNu"
      },
      "outputs": [],
      "source": [
        "def my_predict(y_pred_proba, threshold=0.5):\n",
        "    # Applicazione della soglia\n",
        "    y_pred = np.where(y_pred_proba > threshold, 1, 0).flatten()\n",
        "\n",
        "    # Restituisco le predizioni\n",
        "    return y_pred"
      ]
    },
    {
      "cell_type": "markdown",
      "metadata": {
        "id": "gBDN3Bx_Qjaq"
      },
      "source": [
        "Valutazione del modello attraverso le metriche fornite da Keras"
      ]
    },
    {
      "cell_type": "code",
      "execution_count": 50,
      "metadata": {
        "colab": {
          "base_uri": "https://localhost:8080/"
        },
        "id": "HSNqJG0iQhAO",
        "outputId": "e776407d-3ecf-4b82-c7c4-1d78fc31b46b"
      },
      "outputs": [
        {
          "name": "stdout",
          "output_type": "stream",
          "text": [
            "Test loss: 0.033710457384586334\n",
            "Test accuracy: 0.9880478382110596\n"
          ]
        }
      ],
      "source": [
        "score = NN_model.evaluate(X_test_scaled, y_test_scaled, verbose=0)\n",
        "\n",
        "print('Test loss:', score[0])\n",
        "print('Test accuracy:', score[1])"
      ]
    },
    {
      "cell_type": "markdown",
      "metadata": {
        "id": "WBTOw0rhQoux"
      },
      "source": [
        "Valutazione del modello utilizzando altre metriche"
      ]
    },
    {
      "cell_type": "code",
      "execution_count": 51,
      "metadata": {
        "id": "iU-1ZnwEQn2Y"
      },
      "outputs": [],
      "source": [
        "from sklearn.metrics import accuracy_score, precision_score, recall_score, f1_score, classification_report, confusion_matrix, ConfusionMatrixDisplay"
      ]
    },
    {
      "cell_type": "code",
      "execution_count": 52,
      "metadata": {
        "colab": {
          "base_uri": "https://localhost:8080/"
        },
        "id": "pfHdSrW2Q-aR",
        "outputId": "1305b534-2380-418f-da8a-e278eed2acdd"
      },
      "outputs": [
        {
          "name": "stdout",
          "output_type": "stream",
          "text": [
            "24/24 [==============================] - 0s 2ms/step\n",
            "Accuracy: 0.9893758300132802\n",
            "Precision: 0.9824046920821115\n",
            "Recall: 0.9940652818991098\n",
            "F1-score: 0.9882005899705014\n"
          ]
        }
      ],
      "source": [
        "# Valutazione del modello utilizzando i dati di test\n",
        "y_pred_proba = NN_model.predict(X_test_scaled)\n",
        "y_pred = my_predict(y_pred_proba, 0.3)\n",
        "\n",
        "# Calcolo delle prestazioni del modello\n",
        "accuracy_train_test = accuracy_score(y_test_scaled, y_pred)\n",
        "precision = precision_score(y_test_scaled, y_pred)\n",
        "recall = recall_score(y_test_scaled, y_pred)\n",
        "f1 = f1_score(y_test_scaled, y_pred)\n",
        "\n",
        "# Stampa le prestazioni del modello\n",
        "print('Accuracy:', accuracy_train_test)\n",
        "print('Precision:', precision)\n",
        "print('Recall:', recall)\n",
        "print('F1-score:', f1)"
      ]
    },
    {
      "cell_type": "code",
      "execution_count": 53,
      "metadata": {
        "colab": {
          "base_uri": "https://localhost:8080/"
        },
        "id": "FVGUK1G0RPpD",
        "outputId": "5855843d-d706-4962-818a-27a3272379ed"
      },
      "outputs": [
        {
          "name": "stdout",
          "output_type": "stream",
          "text": [
            "              precision    recall  f1-score   support\n",
            "\n",
            "           0       0.99      1.00      0.99       412\n",
            "           1       0.99      0.98      0.99       341\n",
            "\n",
            "    accuracy                           0.99       753\n",
            "   macro avg       0.99      0.99      0.99       753\n",
            "weighted avg       0.99      0.99      0.99       753\n",
            "\n"
          ]
        }
      ],
      "source": [
        "clf_report = classification_report(y_pred, y_test_scaled)\n",
        "print(clf_report)"
      ]
    },
    {
      "cell_type": "markdown",
      "metadata": {
        "id": "JKZ69ZGERL6R"
      },
      "source": [
        "Calcolo della matrice di confusione"
      ]
    },
    {
      "cell_type": "code",
      "execution_count": 54,
      "metadata": {
        "colab": {
          "base_uri": "https://localhost:8080/",
          "height": 470
        },
        "id": "0OBBuCMBRLbk",
        "outputId": "6450c427-152a-495c-cfbe-76e2b061c7ea"
      },
      "outputs": [
        {
          "data": {
            "text/plain": [
              "<sklearn.metrics._plot.confusion_matrix.ConfusionMatrixDisplay at 0x7fe1edfcb7f0>"
            ]
          },
          "execution_count": 54,
          "metadata": {},
          "output_type": "execute_result"
        },
        {
          "data": {
            "image/png": "[encoded data removed]",
            "text/plain": [
              "<Figure size 640x480 with 2 Axes>"
            ]
          },
          "metadata": {},
          "output_type": "display_data"
        }
      ],
      "source": [
        "cm = confusion_matrix(y_test_scaled, y_pred)\n",
        "disp = ConfusionMatrixDisplay(confusion_matrix=cm, display_labels=['Negative', 'Positive'])\n",
        "disp.plot()"
      ]
    },
    {
      "cell_type": "markdown",
      "metadata": {
        "id": "wzi67VnlRWO9"
      },
      "source": [
        "Calcolo e disegno della curva ROC"
      ]
    },
    {
      "cell_type": "code",
      "execution_count": 55,
      "metadata": {
        "id": "k_1iqgB_RVuk"
      },
      "outputs": [],
      "source": [
        "from sklearn.metrics import roc_curve, roc_auc_score\n",
        "import matplotlib.pyplot as plt"
      ]
    },
    {
      "cell_type": "code",
      "execution_count": 56,
      "metadata": {
        "colab": {
          "base_uri": "https://localhost:8080/",
          "height": 477
        },
        "id": "YhX545M9RYYK",
        "outputId": "e5d52ca4-6fe8-438e-e9aa-983a23f7cace"
      },
      "outputs": [
        {
          "data": {
            "image/png": "[encoded data removed]",
            "text/plain": [
              "<Figure size 640x480 with 1 Axes>"
            ]
          },
          "metadata": {},
          "output_type": "display_data"
        }
      ],
      "source": [
        "# Calcola la curva ROC\n",
        "fpr, tpr, thresholds = roc_curve(y_test_scaled, y_pred_proba)\n",
        "\n",
        "# Calcola l'AUC della curva ROC\n",
        "roc_auc = roc_auc_score(y_test_scaled, y_pred_proba)\n",
        "\n",
        "# Disegna la curva ROC\n",
        "plt.plot(fpr, tpr, label='ROC curve (area = %0.2f)' % roc_auc)\n",
        "plt.plot([0, 1], [0, 1], 'k--')\n",
        "plt.xlim([-0.01, 1.0])\n",
        "plt.ylim([0.0, 1.05])\n",
        "plt.xlabel('False Positive Rate')\n",
        "plt.ylabel('True Positive Rate')\n",
        "plt.title('Receiver operating characteristic')\n",
        "plt.legend(loc=\"lower right\")\n",
        "plt.show()"
      ]
    },
    {
      "cell_type": "markdown",
      "metadata": {
        "id": "mrMPTp9aRcqO"
      },
      "source": [
        "### Valutazione della rete con 10-fold validation"
      ]
    },
    {
      "cell_type": "code",
      "execution_count": 57,
      "metadata": {
        "colab": {
          "base_uri": "https://localhost:8080/"
        },
        "id": "V5lHFgahRgmo",
        "outputId": "ea4ef1bf-2310-4557-e85b-9c8b1128edbf"
      },
      "outputs": [
        {
          "name": "stdout",
          "output_type": "stream",
          "text": [
            "12/12 [==============================] - 0s 3ms/step\n",
            "12/12 [==============================] - 0s 3ms/step\n",
            "12/12 [==============================] - 0s 6ms/step\n",
            "12/12 [==============================] - 0s 2ms/step\n",
            "12/12 [==============================] - 0s 3ms/step\n",
            "12/12 [==============================] - 0s 6ms/step\n",
            "12/12 [==============================] - 0s 2ms/step\n",
            "12/12 [==============================] - 0s 2ms/step\n",
            "12/12 [==============================] - 0s 2ms/step\n",
            "12/12 [==============================] - 0s 2ms/step\n"
          ]
        }
      ],
      "source": [
        "n_fold = 10\n",
        "folds = StratifiedKFold(n_splits=n_fold, shuffle=True)\n",
        "\n",
        "# Inizializzazione delle liste per le prestazioni\n",
        "accuracy_stratified = []\n",
        "recall_stratified = []\n",
        "precision_stratified = []\n",
        "fscore_stratified = []\n",
        "\n",
        "# Ciclo per la validazione incrociata\n",
        "for n_fold, (train_idx, valid_idx) in enumerate(folds.split(X_scaled, y)):\n",
        "  # Split train and validation set\n",
        "  X_train, X_valid = X_scaled.iloc[train_idx], X_scaled.iloc[valid_idx]\n",
        "  y_train, y_valid = y[train_idx], y[valid_idx]\n",
        "\n",
        "  # Creazione del modello\n",
        "  model = create_model(units=best_model[0], activation=best_model[1], opt=best_model[2], input_layer_size=X_train.shape[1])\n",
        "\n",
        "  # Addestramento del modello\n",
        "  model.fit(X_train, y_train, epochs=best_model[4], batch_size=best_model[3], verbose=0)\n",
        "\n",
        "  # Valutazione del modello\n",
        "  y_pred_proba = model.predict(X_valid)\n",
        "  y_pred_valid = my_predict(y_pred_proba, 0.3)\n",
        "\n",
        "  accuracy_stratified.append(accuracy_score(y_valid, y_pred_valid))\n",
        "  precision_stratified.append(precision_score(y_valid, y_pred_valid))\n",
        "  recall_stratified.append(recall_score(y_valid, y_pred_valid))\n",
        "  fscore_stratified.append(f1_score(y_valid, y_pred_valid))"
      ]
    },
    {
      "cell_type": "markdown",
      "metadata": {
        "id": "JzOwpYAVRkA4"
      },
      "source": [
        "Calcolo dell'intervallo di confidenza"
      ]
    },
    {
      "cell_type": "code",
      "execution_count": 58,
      "metadata": {
        "colab": {
          "base_uri": "https://localhost:8080/"
        },
        "id": "xqnD0vOFRksL",
        "outputId": "b3ae3ec3-7107-4265-f16b-1caeef2df480"
      },
      "outputs": [
        {
          "name": "stdout",
          "output_type": "stream",
          "text": [
            "Accuracy: 0.9803297307974491 (0.9754524767498945, 0.9852069848450037)\n",
            "Precision: 0.974763877826762 (0.9671850454701597, 0.9823427101833643)\n",
            "Recall: 0.981572273879966 (0.9758428488573792, 0.9873016989025528)\n",
            "F1-score: 0.9781119860622425 (0.972721232650826, 0.983502739473659)\n"
          ]
        }
      ],
      "source": [
        "confidence = 0.90\n",
        "# Calcolo degli intervalli di confidenza\n",
        "acc_interval = st.t.interval(confidence=confidence, df=len(accuracy_stratified)-1, loc=np.mean(accuracy_stratified), scale=st.sem(accuracy_stratified))\n",
        "precision_interval = st.t.interval(confidence=confidence, df=len(precision_stratified)-1, loc=np.mean(precision_stratified), scale=st.sem(precision_stratified))\n",
        "recall_interval = st.t.interval(confidence=confidence, df=len(recall_stratified)-1, loc=np.mean(recall_stratified), scale=st.sem(recall_stratified))\n",
        "fscore_interval = st.t.interval(confidence=confidence, df=len(fscore_stratified)-1, loc=np.mean(fscore_stratified), scale=st.sem(fscore_stratified))\n",
        "\n",
        "print(\"Accuracy:\", np.mean(accuracy_stratified), acc_interval)\n",
        "print(\"Precision:\", np.mean(precision_stratified), precision_interval)\n",
        "print(\"Recall:\", np.mean(recall_stratified), recall_interval)\n",
        "print(\"F1-score:\", np.mean(fscore_stratified), fscore_interval)"
      ]
    },
    {
      "cell_type": "markdown",
      "metadata": {
        "id": "LFljhhghRnHD"
      },
      "source": [
        "Grafico degli intervalli di confidenza"
      ]
    },
    {
      "cell_type": "code",
      "execution_count": 59,
      "metadata": {
        "colab": {
          "base_uri": "https://localhost:8080/",
          "height": 0
        },
        "id": "yhg3WRkoRphD",
        "outputId": "4cd51f30-b366-4c0a-a761-9d3c5730b39b"
      },
      "outputs": [
        {
          "data": {
            "image/png": "[encoded data removed]",
            "text/plain": [
              "<Figure size 640x480 with 1 Axes>"
            ]
          },
          "metadata": {},
          "output_type": "display_data"
        }
      ],
      "source": [
        "# Plot the mean and confidence interval\n",
        "plt.errorbar(0, np.mean(acc_interval), yerr=(acc_interval[1] - acc_interval[0])/2, fmt='o', label='Accuracy', color='b')\n",
        "plt.errorbar(1, np.mean(precision_interval), yerr=(precision_interval[1] - precision_interval[0])/2, fmt='o', label='Precision', color='r')\n",
        "plt.errorbar(2, np.mean(recall_interval), yerr=(recall_interval[1] - recall_interval[0])/2, fmt='o', label='Recall', color='g')\n",
        "plt.errorbar(3, np.mean(fscore_interval), yerr=(fscore_interval[1] - fscore_interval[0])/2, fmt='o', label='F1-score', color='y')\n",
        "\n",
        "# Add labels and title\n",
        "plt.xlabel('Group')\n",
        "plt.ylabel('Value')\n",
        "plt.title('Mean with Confidence Interval')\n",
        "\n",
        "# Show the plot\n",
        "plt.legend()\n",
        "plt.show()"
      ]
    },
    {
      "cell_type": "markdown",
      "metadata": {
        "id": "FAxlNNuIIbzR"
      },
      "source": [
        "## Rete neurale con PCA"
      ]
    },
    {
      "cell_type": "code",
      "execution_count": 60,
      "metadata": {
        "id": "Q6UZUYTVKc51"
      },
      "outputs": [],
      "source": [
        "path_for_json = \"/content/drive/MyDrive/Magistrale/Machine Learning/NN_Hyperparameters_PCA\""
      ]
    },
    {
      "cell_type": "code",
      "execution_count": 61,
      "metadata": {
        "id": "IuSpf1RlJdU9"
      },
      "outputs": [],
      "source": [
        "X_cross_PCA_data = pd.DataFrame(data = X_train_pca, columns = ['PCA_C1', 'PCA_C2', 'PCA_C3'])\n",
        "Y_cross_PCA_data = pd.DataFrame(data = y_train_pca, columns = ['Class'])\n",
        "\n",
        "Y_cross_PCA_data = (Y_cross_PCA_data.reset_index()).drop(['Image'], axis=1)\n",
        "X_cross_PCA_data = (X_cross_PCA_data.reset_index()).drop(['Image'], axis=1)"
      ]
    },
    {
      "cell_type": "code",
      "execution_count": 62,
      "metadata": {
        "id": "Ojm07JaZIemX"
      },
      "outputs": [],
      "source": [
        "# performance = grid_search_NN(param_combinations, X_cross_PCA_data, Y_cross_PCA_data, input_layer_size=3)\n",
        "# best_model_PCA = find_best_hyperparameters(performance)\n",
        "\n",
        "best_model_PCA = ([50, 0], 'leaky_relu', 'adam', 300, 100)"
      ]
    },
    {
      "cell_type": "markdown",
      "metadata": {
        "id": "PNCm9qjUJ64o"
      },
      "source": [
        "### Addestramento rete con PCA"
      ]
    },
    {
      "cell_type": "code",
      "execution_count": 63,
      "metadata": {
        "colab": {
          "base_uri": "https://localhost:8080/",
          "height": 0
        },
        "id": "3zgFyGr6J9dq",
        "outputId": "189ed5a7-6ad3-431f-cde7-a867a970aa75"
      },
      "outputs": [
        {
          "data": {
            "image/png": "[encoded data removed]",
            "text/plain": [
              "<IPython.core.display.Image object>"
            ]
          },
          "execution_count": 63,
          "metadata": {},
          "output_type": "execute_result"
        }
      ],
      "source": [
        "NN_PCA_model = create_model(units=best_model_PCA[0], activation=best_model_PCA[1], opt=best_model_PCA[2], input_layer_size=X_train_pca.shape[1])\n",
        "\n",
        "keras.utils.plot_model(NN_PCA_model, show_shapes=True, show_layer_activations=True, show_layer_names=True)"
      ]
    },
    {
      "cell_type": "code",
      "execution_count": 64,
      "metadata": {
        "colab": {
          "base_uri": "https://localhost:8080/"
        },
        "id": "oaDOWxZ-KIjS",
        "outputId": "e4f611c6-49ec-46fa-d3d6-f261bb811e04"
      },
      "outputs": [
        {
          "data": {
            "text/plain": [
              "<keras.src.callbacks.History at 0x7fe1dfc6bf40>"
            ]
          },
          "execution_count": 64,
          "metadata": {},
          "output_type": "execute_result"
        }
      ],
      "source": [
        "NN_PCA_model.fit(X_train_pca, y_train_pca, epochs=best_model_PCA[4], batch_size=best_model_PCA[3], verbose=0)"
      ]
    },
    {
      "cell_type": "markdown",
      "metadata": {
        "id": "bkQlF_kwKlIq"
      },
      "source": [
        "### Valutazione del modello"
      ]
    },
    {
      "cell_type": "code",
      "execution_count": 65,
      "metadata": {
        "colab": {
          "base_uri": "https://localhost:8080/"
        },
        "id": "guDxNLhKKqeG",
        "outputId": "47e3db9d-755c-4a68-f119-47061ff35141"
      },
      "outputs": [
        {
          "name": "stdout",
          "output_type": "stream",
          "text": [
            "Test loss: 0.05425922945141792\n",
            "Test accuracy: 0.9840637445449829\n"
          ]
        }
      ],
      "source": [
        "score = NN_PCA_model.evaluate(X_test_pca, y_test_pca, verbose=0)\n",
        "\n",
        "print('Test loss:', score[0])\n",
        "print('Test accuracy:', score[1])"
      ]
    },
    {
      "cell_type": "code",
      "execution_count": 66,
      "metadata": {
        "colab": {
          "base_uri": "https://localhost:8080/"
        },
        "id": "y0-uwkvGKnI0",
        "outputId": "ab5ce8ef-5f55-4315-97c9-c243f8240737"
      },
      "outputs": [
        {
          "name": "stdout",
          "output_type": "stream",
          "text": [
            "24/24 [==============================] - 0s 1ms/step\n",
            "Accuracy: 0.9800796812749004\n",
            "Precision: 0.9707602339181286\n",
            "Recall: 0.9851632047477745\n",
            "F1-score: 0.9779086892488954\n"
          ]
        }
      ],
      "source": [
        "# Valutazione del modello utilizzando i dati di test\n",
        "y_pred_proba_PCA = NN_PCA_model.predict(X_test_pca)\n",
        "y_pred_PCA = my_predict(y_pred_proba_PCA, 0.3)\n",
        "\n",
        "# Calcolo delle prestazioni del modello\n",
        "accuracy_train_test = accuracy_score(y_test_pca, y_pred_PCA)\n",
        "precision = precision_score(y_test_pca, y_pred_PCA)\n",
        "recall = recall_score(y_test_pca, y_pred_PCA)\n",
        "f1 = f1_score(y_test_pca, y_pred_PCA)\n",
        "\n",
        "# Stampa le prestazioni del modello\n",
        "print('Accuracy:', accuracy_train_test)\n",
        "print('Precision:', precision)\n",
        "print('Recall:', recall)\n",
        "print('F1-score:', f1)"
      ]
    },
    {
      "cell_type": "code",
      "execution_count": 67,
      "metadata": {
        "colab": {
          "base_uri": "https://localhost:8080/"
        },
        "id": "G4gQoG_TKtXR",
        "outputId": "c97eae16-40db-4b14-ccf6-6aa423f5ded2"
      },
      "outputs": [
        {
          "name": "stdout",
          "output_type": "stream",
          "text": [
            "              precision    recall  f1-score   support\n",
            "\n",
            "           0       0.98      0.99      0.98       411\n",
            "           1       0.99      0.97      0.98       342\n",
            "\n",
            "    accuracy                           0.98       753\n",
            "   macro avg       0.98      0.98      0.98       753\n",
            "weighted avg       0.98      0.98      0.98       753\n",
            "\n"
          ]
        }
      ],
      "source": [
        "clf_report = classification_report(y_pred_PCA, y_test_pca)\n",
        "print(clf_report)"
      ]
    },
    {
      "cell_type": "code",
      "execution_count": 68,
      "metadata": {
        "colab": {
          "base_uri": "https://localhost:8080/",
          "height": 0
        },
        "id": "11NaLBpHKvjW",
        "outputId": "032243e3-b0de-48ac-92d0-599a954b755e"
      },
      "outputs": [
        {
          "data": {
            "text/plain": [
              "<sklearn.metrics._plot.confusion_matrix.ConfusionMatrixDisplay at 0x7fe29f5434c0>"
            ]
          },
          "execution_count": 68,
          "metadata": {},
          "output_type": "execute_result"
        },
        {
          "data": {
            "image/png": "[encoded data removed]",
            "text/plain": [
              "<Figure size 640x480 with 2 Axes>"
            ]
          },
          "metadata": {},
          "output_type": "display_data"
        }
      ],
      "source": [
        "cm = confusion_matrix(y_test_pca, y_pred_PCA)\n",
        "disp = ConfusionMatrixDisplay(confusion_matrix=cm, display_labels=['Negative', 'Positive'])\n",
        "disp.plot()"
      ]
    },
    {
      "cell_type": "code",
      "execution_count": 69,
      "metadata": {
        "colab": {
          "base_uri": "https://localhost:8080/",
          "height": 0
        },
        "id": "w8HU9PvbKzdX",
        "outputId": "1372d861-b8ea-4086-fceb-1ac0f0239d54"
      },
      "outputs": [
        {
          "data": {
            "image/png": "[encoded data removed]",
            "text/plain": [
              "<Figure size 640x480 with 1 Axes>"
            ]
          },
          "metadata": {},
          "output_type": "display_data"
        }
      ],
      "source": [
        "# Calcola la curva ROC\n",
        "fpr, tpr, thresholds = roc_curve(y_test_pca, y_pred_proba_PCA)\n",
        "\n",
        "# Calcola l'AUC della curva ROC\n",
        "roc_auc = roc_auc_score(y_test_pca, y_pred_proba_PCA)\n",
        "\n",
        "# Disegna la curva ROC\n",
        "plt.plot(fpr, tpr, label='ROC curve (area = %0.2f)' % roc_auc)\n",
        "plt.plot([0, 1], [0, 1], 'k--')\n",
        "plt.xlim([-0.01, 1.0])\n",
        "plt.ylim([0.0, 1.05])\n",
        "plt.xlabel('False Positive Rate')\n",
        "plt.ylabel('True Positive Rate')\n",
        "plt.title('Receiver operating characteristic')\n",
        "plt.legend(loc=\"lower right\")\n",
        "plt.show()"
      ]
    },
    {
      "cell_type": "markdown",
      "metadata": {
        "id": "ue3f8yifLUtm"
      },
      "source": [
        "#### K-fold validation"
      ]
    },
    {
      "cell_type": "code",
      "execution_count": 70,
      "metadata": {
        "colab": {
          "base_uri": "https://localhost:8080/"
        },
        "id": "TnNLSGHZLW8g",
        "outputId": "d97be096-a7b4-44ed-f73c-ad36239c9fe6"
      },
      "outputs": [
        {
          "name": "stdout",
          "output_type": "stream",
          "text": [
            "12/12 [==============================] - 0s 2ms/step\n",
            "12/12 [==============================] - 0s 2ms/step\n",
            "12/12 [==============================] - 0s 2ms/step\n",
            "12/12 [==============================] - 0s 2ms/step\n",
            "12/12 [==============================] - 0s 2ms/step\n",
            "12/12 [==============================] - 0s 3ms/step\n",
            "12/12 [==============================] - 0s 2ms/step\n",
            "12/12 [==============================] - 0s 2ms/step\n",
            "12/12 [==============================] - 0s 2ms/step\n",
            "12/12 [==============================] - 0s 2ms/step\n"
          ]
        }
      ],
      "source": [
        "n_fold = 10\n",
        "folds = StratifiedKFold(n_splits=n_fold, shuffle=True)\n",
        "\n",
        "# Inizializzazione delle liste per le prestazioni\n",
        "accuracy_stratified_pca = []\n",
        "recall_stratified_pca = []\n",
        "precision_stratified_pca = []\n",
        "fscore_stratified_pca = []\n",
        "\n",
        "# Ciclo per la validazione incrociata\n",
        "for n_fold, (train_idx, valid_idx) in enumerate(folds.split(dataset_pca_transformed[['PCA_C1', 'PCA_C2', 'PCA_C3']], dataset_pca_transformed['Class'])):\n",
        "  # Split train and validation set\n",
        "  X_train, X_valid = X_scaled.iloc[train_idx], X_scaled.iloc[valid_idx]\n",
        "  y_train, y_valid = y[train_idx], y[valid_idx]\n",
        "\n",
        "  # Creazione del modello\n",
        "  model = create_model(units=best_model[0], activation=best_model[1], opt=best_model[2], input_layer_size=X_train.shape[1])\n",
        "\n",
        "  # Addestramento del modello\n",
        "  model.fit(X_train, y_train, epochs=best_model[4], batch_size=best_model[3], verbose=0)\n",
        "\n",
        "  # Valutazione del modello\n",
        "  y_pred_proba = model.predict(X_valid)\n",
        "  y_pred_valid = my_predict(y_pred_proba, 0.3)\n",
        "\n",
        "  accuracy_stratified_pca.append(accuracy_score(y_valid, y_pred_valid))\n",
        "  precision_stratified_pca.append(precision_score(y_valid, y_pred_valid))\n",
        "  recall_stratified_pca.append(recall_score(y_valid, y_pred_valid))\n",
        "  fscore_stratified_pca.append(f1_score(y_valid, y_pred_valid))"
      ]
    },
    {
      "cell_type": "code",
      "execution_count": 71,
      "metadata": {
        "colab": {
          "base_uri": "https://localhost:8080/"
        },
        "id": "Am8xHkMRLaQS",
        "outputId": "6d13e0ab-1b75-4978-a0ff-e72e662f29b0"
      },
      "outputs": [
        {
          "name": "stdout",
          "output_type": "stream",
          "text": [
            "Accuracy: 0.9803290253400305 (0.974643778567853, 0.986014272112208)\n",
            "Precision: 0.9748133957925147 (0.9656045640269663, 0.9840222275580631)\n",
            "Recall: 0.9815898844745 (0.9758733904519407, 0.9873063784970594)\n",
            "F1-score: 0.978133086829029 (0.9718994630078658, 0.9843667106501922)\n"
          ]
        }
      ],
      "source": [
        "confidence = 0.90\n",
        "# Calcolo degli intervalli di confidenza\n",
        "acc_interval_pca = st.t.interval(confidence=confidence, df=len(accuracy_stratified_pca)-1, loc=np.mean(accuracy_stratified_pca), scale=st.sem(accuracy_stratified_pca))\n",
        "precision_interval_pca = st.t.interval(confidence=confidence, df=len(precision_stratified_pca)-1, loc=np.mean(precision_stratified_pca), scale=st.sem(precision_stratified_pca))\n",
        "recall_interval_pca = st.t.interval(confidence=confidence, df=len(recall_stratified_pca)-1, loc=np.mean(recall_stratified_pca), scale=st.sem(recall_stratified_pca))\n",
        "fscore_interval_pca = st.t.interval(confidence=confidence, df=len(fscore_stratified_pca)-1, loc=np.mean(fscore_stratified_pca), scale=st.sem(fscore_stratified_pca))\n",
        "\n",
        "print(\"Accuracy:\", np.mean(accuracy_stratified_pca), acc_interval_pca)\n",
        "print(\"Precision:\", np.mean(precision_stratified_pca), precision_interval_pca)\n",
        "print(\"Recall:\", np.mean(recall_stratified_pca), recall_interval_pca)\n",
        "print(\"F1-score:\", np.mean(fscore_stratified_pca), fscore_interval_pca)"
      ]
    },
    {
      "cell_type": "code",
      "execution_count": 72,
      "metadata": {
        "colab": {
          "base_uri": "https://localhost:8080/",
          "height": 0
        },
        "id": "fXL0r9xfLcv-",
        "outputId": "d4f2460e-0ebc-45cf-bdf0-b405a9864566"
      },
      "outputs": [
        {
          "data": {
            "image/png": "[encoded data removed]",
            "text/plain": [
              "<Figure size 640x480 with 1 Axes>"
            ]
          },
          "metadata": {},
          "output_type": "display_data"
        }
      ],
      "source": [
        "# Plot the mean and confidence interval\n",
        "plt.errorbar(0, np.mean(acc_interval_pca), yerr=(acc_interval_pca[1] - acc_interval_pca[0])/2, fmt='o', label='Accuracy', color='b')\n",
        "plt.errorbar(1, np.mean(precision_interval_pca), yerr=(precision_interval_pca[1] - precision_interval_pca[0])/2, fmt='o', label='Precision', color='r')\n",
        "plt.errorbar(2, np.mean(recall_interval_pca), yerr=(recall_interval_pca[1] - recall_interval_pca[0])/2, fmt='o', label='Recall', color='g')\n",
        "plt.errorbar(3, np.mean(fscore_interval_pca), yerr=(fscore_interval_pca[1] - fscore_interval_pca[0])/2, fmt='o', label='F1-score', color='y')\n",
        "\n",
        "# Add labels and title\n",
        "plt.xlabel('Group')\n",
        "plt.ylabel('Value')\n",
        "plt.title('Mean with Confidence Interval')\n",
        "\n",
        "# Show the plot\n",
        "plt.legend()\n",
        "plt.show()"
      ]
    },
    {
      "cell_type": "markdown",
      "metadata": {
        "id": "INkmZTmpLeIP"
      },
      "source": [
        "## Confronto modelli addestrati su dataset creati con e senza PCA"
      ]
    },
    {
      "cell_type": "code",
      "execution_count": 73,
      "metadata": {
        "colab": {
          "base_uri": "https://localhost:8080/",
          "height": 512
        },
        "id": "3XRxvDaTLiYu",
        "outputId": "9f455dea-3579-457b-ef6d-4772a0382c0a"
      },
      "outputs": [
        {
          "name": "stdout",
          "output_type": "stream",
          "text": [
            "24/24 [==============================] - 0s 2ms/step\n",
            "24/24 [==============================] - 0s 3ms/step\n"
          ]
        },
        {
          "data": {
            "image/png": "[encoded data removed]",
            "text/plain": [
              "<Figure size 640x480 with 1 Axes>"
            ]
          },
          "metadata": {},
          "output_type": "display_data"
        }
      ],
      "source": [
        "y_pred_proba = NN_model.predict(X_test_scaled)\n",
        "y_pred_proba_PCA = NN_PCA_model.predict(X_test_pca)\n",
        "\n",
        "# Calcola la curva ROC\n",
        "fpr, tpr, thresholds = roc_curve(y_test_scaled, y_pred_proba)\n",
        "fpr_PCA, tpr_PCA, thresholds_PCA = roc_curve(y_test_pca, y_pred_proba_PCA)\n",
        "\n",
        "# Calcola l'AUC della curva ROC\n",
        "roc_auc = roc_auc_score(y_test_scaled, y_pred_proba)\n",
        "roc_auc_PCA = roc_auc_score(y_test_pca, y_pred_proba_PCA)\n",
        "\n",
        "# Disegna la curva ROC\n",
        "plt.plot(fpr, tpr, label='ROC curve (area = %0.2f)' % roc_auc)\n",
        "plt.plot(fpr_PCA, tpr_PCA, label='ROC curve PCA (area = %0.2f)' % roc_auc_PCA)\n",
        "plt.plot([0, 1], [0, 1], 'k--')\n",
        "plt.xlim([-0.01, 1.0])\n",
        "plt.ylim([0.0, 1.05])\n",
        "plt.xlabel('False Positive Rate')\n",
        "plt.ylabel('True Positive Rate')\n",
        "plt.title('Receiver operating characteristic')\n",
        "plt.legend(loc=\"lower right\")\n",
        "plt.show()"
      ]
    },
    {
      "cell_type": "markdown",
      "metadata": {
        "id": "BwanttuUsdcL"
      },
      "source": [
        "Confronto intervalli di confidenza dei modelli"
      ]
    },
    {
      "cell_type": "code",
      "execution_count": 97,
      "metadata": {
        "colab": {
          "base_uri": "https://localhost:8080/",
          "height": 802
        },
        "id": "kLnjV1bJsgQA",
        "outputId": "86dc2a12-99df-44ed-9272-8f44fad39de1"
      },
      "outputs": [
        {
          "data": {
            "image/png": "[encoded data removed]",
            "text/plain": [
              "<Figure size 1200x900 with 4 Axes>"
            ]
          },
          "metadata": {},
          "output_type": "display_data"
        }
      ],
      "source": [
        "plt.figure(figsize=(12, 9))\n",
        "plt.rc('font', size=9)\n",
        "plt.subplots_adjust(left=0.1, bottom=0.1, right=0.9, top=0.9, wspace=0.4, hspace=0.4)\n",
        "\n",
        "plt.subplot(221)\n",
        "plt.errorbar(0, np.mean(acc_interval), yerr=(acc_interval[1] - acc_interval[0])/2, fmt='o', label='Accuracy', color='b')\n",
        "plt.errorbar(1, np.mean(acc_interval_pca), yerr=(acc_interval_pca[1] - acc_interval_pca[0])/2, fmt='o', label='Accuracy con PCA', color='r')\n",
        "plt.title('Confronto Accuracy dei modelli')\n",
        "plt.legend(loc='upper center')\n",
        "\n",
        "plt.subplot(222)\n",
        "plt.errorbar(0, np.mean(precision_interval), yerr=(precision_interval[1] - precision_interval[0])/2, fmt='o', label='Precision', color='b')\n",
        "plt.errorbar(1, np.mean(precision_interval_pca), yerr=(precision_interval_pca[1] - precision_interval_pca[0])/2, fmt='o', label='Precision con PCA', color='r')\n",
        "plt.title('Confronto precision dei modelli')\n",
        "plt.legend(loc='upper center')\n",
        "\n",
        "plt.subplot(223)\n",
        "plt.errorbar(0, np.mean(recall_interval), yerr=(recall_interval[1] - recall_interval[0])/2, fmt='o', label='Recall', color='b')\n",
        "plt.errorbar(1, np.mean(recall_interval_pca), yerr=(recall_interval_pca[1] - recall_interval_pca[0])/2, fmt='o', label='Recall con PCA', color='r')\n",
        "plt.title('Confronto recall dei modelli')\n",
        "plt.legend(loc='upper center')\n",
        "\n",
        "plt.subplot(224)\n",
        "plt.errorbar(0, np.mean(fscore_interval), yerr=(fscore_interval[1] - fscore_interval[0])/2, fmt='o', label='F1-score', color='b')\n",
        "plt.errorbar(1, np.mean(fscore_interval_pca), yerr=(fscore_interval_pca[1] - fscore_interval_pca[0])/2, fmt='o', label='F1-score con PCA', color='r')\n",
        "plt.title('Confronto f1 score dei modelli')\n",
        "plt.legend(loc='upper center');"
      ]
    }
  ],
  "metadata": {
    "colab": {
      "collapsed_sections": [
        "vBG8eyDDFwtw",
        "6RNw9hZ9Sqpu",
        "w6lsp0tqStwQ",
        "p8mC0kwDMBzF",
        "qdRtFsLBPP_7",
        "cylVeAVLQKpd",
        "qZcZySFFQemM",
        "mrMPTp9aRcqO",
        "FAxlNNuIIbzR",
        "XmqiYzDVrv4Z",
        "Jr1eYvBU9EMP",
        "31iTvJD8vnm6",
        "5EkJSA6O9Psn",
        "FaJ8RHKkCbRu"
      ],
      "provenance": []
    },
    "kernelspec": {
      "display_name": "Python 3",
      "name": "python3"
    },
    "language_info": {
      "codemirror_mode": {
        "name": "ipython",
        "version": 3
      },
      "file_extension": ".py",
      "mimetype": "text/x-python",
      "name": "python",
      "nbconvert_exporter": "python",
      "pygments_lexer": "ipython3",
      "version": "3.10.5"
    }
  },
  "nbformat": 4,
  "nbformat_minor": 0
}
