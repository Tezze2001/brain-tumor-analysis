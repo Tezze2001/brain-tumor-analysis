{
  "cells": [
    {
      "cell_type": "markdown",
      "metadata": {
        "id": "jq64Wt_bE0d6"
      },
      "source": [
        "Note:\n",
        "\n",
        "*   La sezione relativa alla ricerca degli iperparametri per la rete neurale è stata commentata in quanto la sua esecizione richiede tanto tempo. Nel file `NN_Hyperparameters.json` sono contenuti i risultati dell'esecuzione per il modello senza PCA, mentre per il modello addestrato con PCA sono stati salvati nel file `NN_Hyperparameters_PCA.json`,\n",
        "\n",
        "\n",
        "Dataset utilizzato: [Brain Tumor](https://www.kaggle.com/datasets/jakeshbohaju/brain-tumor)\n"
      ]
    },
    {
      "cell_type": "code",
      "execution_count": 1,
      "metadata": {
        "colab": {
          "base_uri": "https://localhost:8080/"
        },
        "id": "jNkoDGKKEvaT",
        "outputId": "d0ddcfef-38db-45e9-9e59-fd68c6654087"
      },
      "outputs": [],
      "source": [
        "import pandas as pd\n",
        "import seaborn as sns\n",
        "import matplotlib.pyplot as plt\n",
        "\n",
        "# from google.colab import drive\n",
        "\n",
        "# drive.mount('/content/drive/')\n",
        "plt.style.use('ggplot')"
      ]
    },
    {
      "cell_type": "code",
      "execution_count": 2,
      "metadata": {
        "id": "Tkwfw4a4GgbH"
      },
      "outputs": [],
      "source": [
        "path_to_dataset = \"/content/drive/MyDrive/BrainTumor/Brain Tumor.csv\"\n",
        "path_to_dataset = \"./brain-tumor-analysis/Dataset/Brain Tumor.csv\""
      ]
    },
    {
      "cell_type": "markdown",
      "metadata": {
        "id": "RmUJo0T0GqEY"
      },
      "source": [
        "Lettura del dataset"
      ]
    },
    {
      "cell_type": "code",
      "execution_count": 3,
      "metadata": {
        "colab": {
          "base_uri": "https://localhost:8080/",
          "height": 0
        },
        "id": "JWAVTqN1GjwV",
        "outputId": "122d00b0-ed33-4f78-9a57-a6c0ab15a951"
      },
      "outputs": [
        {
          "data": {
            "text/html": [
              "<div>\n",
              "<style scoped>\n",
              "    .dataframe tbody tr th:only-of-type {\n",
              "        vertical-align: middle;\n",
              "    }\n",
              "\n",
              "    .dataframe tbody tr th {\n",
              "        vertical-align: top;\n",
              "    }\n",
              "\n",
              "    .dataframe thead th {\n",
              "        text-align: right;\n",
              "    }\n",
              "</style>\n",
              "<table border=\"1\" class=\"dataframe\">\n",
              "  <thead>\n",
              "    <tr style=\"text-align: right;\">\n",
              "      <th></th>\n",
              "      <th>Class</th>\n",
              "      <th>Mean</th>\n",
              "      <th>Variance</th>\n",
              "      <th>Standard Deviation</th>\n",
              "      <th>Entropy</th>\n",
              "      <th>Skewness</th>\n",
              "      <th>Kurtosis</th>\n",
              "      <th>Contrast</th>\n",
              "      <th>Energy</th>\n",
              "      <th>ASM</th>\n",
              "      <th>Homogeneity</th>\n",
              "      <th>Dissimilarity</th>\n",
              "      <th>Correlation</th>\n",
              "      <th>Coarseness</th>\n",
              "    </tr>\n",
              "    <tr>\n",
              "      <th>Image</th>\n",
              "      <th></th>\n",
              "      <th></th>\n",
              "      <th></th>\n",
              "      <th></th>\n",
              "      <th></th>\n",
              "      <th></th>\n",
              "      <th></th>\n",
              "      <th></th>\n",
              "      <th></th>\n",
              "      <th></th>\n",
              "      <th></th>\n",
              "      <th></th>\n",
              "      <th></th>\n",
              "      <th></th>\n",
              "    </tr>\n",
              "  </thead>\n",
              "  <tbody>\n",
              "    <tr>\n",
              "      <th>Image1</th>\n",
              "      <td>0</td>\n",
              "      <td>6.535339</td>\n",
              "      <td>619.587845</td>\n",
              "      <td>24.891522</td>\n",
              "      <td>0.109059</td>\n",
              "      <td>4.276477</td>\n",
              "      <td>18.900575</td>\n",
              "      <td>98.613971</td>\n",
              "      <td>0.293314</td>\n",
              "      <td>0.086033</td>\n",
              "      <td>0.530941</td>\n",
              "      <td>4.473346</td>\n",
              "      <td>0.981939</td>\n",
              "      <td>7.458341e-155</td>\n",
              "    </tr>\n",
              "    <tr>\n",
              "      <th>Image2</th>\n",
              "      <td>0</td>\n",
              "      <td>8.749969</td>\n",
              "      <td>805.957634</td>\n",
              "      <td>28.389393</td>\n",
              "      <td>0.266538</td>\n",
              "      <td>3.718116</td>\n",
              "      <td>14.464618</td>\n",
              "      <td>63.858816</td>\n",
              "      <td>0.475051</td>\n",
              "      <td>0.225674</td>\n",
              "      <td>0.651352</td>\n",
              "      <td>3.220072</td>\n",
              "      <td>0.988834</td>\n",
              "      <td>7.458341e-155</td>\n",
              "    </tr>\n",
              "    <tr>\n",
              "      <th>Image3</th>\n",
              "      <td>1</td>\n",
              "      <td>7.341095</td>\n",
              "      <td>1143.808219</td>\n",
              "      <td>33.820234</td>\n",
              "      <td>0.001467</td>\n",
              "      <td>5.061750</td>\n",
              "      <td>26.479563</td>\n",
              "      <td>81.867206</td>\n",
              "      <td>0.031917</td>\n",
              "      <td>0.001019</td>\n",
              "      <td>0.268275</td>\n",
              "      <td>5.981800</td>\n",
              "      <td>0.978014</td>\n",
              "      <td>7.458341e-155</td>\n",
              "    </tr>\n",
              "    <tr>\n",
              "      <th>Image4</th>\n",
              "      <td>1</td>\n",
              "      <td>5.958145</td>\n",
              "      <td>959.711985</td>\n",
              "      <td>30.979219</td>\n",
              "      <td>0.001477</td>\n",
              "      <td>5.677977</td>\n",
              "      <td>33.428845</td>\n",
              "      <td>151.229741</td>\n",
              "      <td>0.032024</td>\n",
              "      <td>0.001026</td>\n",
              "      <td>0.243851</td>\n",
              "      <td>7.700919</td>\n",
              "      <td>0.964189</td>\n",
              "      <td>7.458341e-155</td>\n",
              "    </tr>\n",
              "    <tr>\n",
              "      <th>Image5</th>\n",
              "      <td>0</td>\n",
              "      <td>7.315231</td>\n",
              "      <td>729.540579</td>\n",
              "      <td>27.010009</td>\n",
              "      <td>0.146761</td>\n",
              "      <td>4.283221</td>\n",
              "      <td>19.079108</td>\n",
              "      <td>174.988756</td>\n",
              "      <td>0.343849</td>\n",
              "      <td>0.118232</td>\n",
              "      <td>0.501140</td>\n",
              "      <td>6.834689</td>\n",
              "      <td>0.972789</td>\n",
              "      <td>7.458341e-155</td>\n",
              "    </tr>\n",
              "  </tbody>\n",
              "</table>\n",
              "</div>"
            ],
            "text/plain": [
              "        Class      Mean     Variance  Standard Deviation   Entropy  Skewness  \\\n",
              "Image                                                                          \n",
              "Image1      0  6.535339   619.587845           24.891522  0.109059  4.276477   \n",
              "Image2      0  8.749969   805.957634           28.389393  0.266538  3.718116   \n",
              "Image3      1  7.341095  1143.808219           33.820234  0.001467  5.061750   \n",
              "Image4      1  5.958145   959.711985           30.979219  0.001477  5.677977   \n",
              "Image5      0  7.315231   729.540579           27.010009  0.146761  4.283221   \n",
              "\n",
              "         Kurtosis    Contrast    Energy       ASM  Homogeneity  Dissimilarity  \\\n",
              "Image                                                                           \n",
              "Image1  18.900575   98.613971  0.293314  0.086033     0.530941       4.473346   \n",
              "Image2  14.464618   63.858816  0.475051  0.225674     0.651352       3.220072   \n",
              "Image3  26.479563   81.867206  0.031917  0.001019     0.268275       5.981800   \n",
              "Image4  33.428845  151.229741  0.032024  0.001026     0.243851       7.700919   \n",
              "Image5  19.079108  174.988756  0.343849  0.118232     0.501140       6.834689   \n",
              "\n",
              "        Correlation     Coarseness  \n",
              "Image                               \n",
              "Image1     0.981939  7.458341e-155  \n",
              "Image2     0.988834  7.458341e-155  \n",
              "Image3     0.978014  7.458341e-155  \n",
              "Image4     0.964189  7.458341e-155  \n",
              "Image5     0.972789  7.458341e-155  "
            ]
          },
          "execution_count": 3,
          "metadata": {},
          "output_type": "execute_result"
        }
      ],
      "source": [
        "dataset = pd.read_csv(path_to_dataset, index_col=0)\n",
        "dataset.head()"
      ]
    },
    {
      "cell_type": "code",
      "execution_count": 6,
      "metadata": {
        "colab": {
          "base_uri": "https://localhost:8080/"
        },
        "id": "2TvsoYSTHFTP",
        "outputId": "22be6c4a-d0a4-4da7-99e6-9a175959b768"
      },
      "outputs": [
        {
          "data": {
            "text/plain": [
              "Class                 category\n",
              "Mean                   float64\n",
              "Variance               float64\n",
              "Standard Deviation     float64\n",
              "Entropy                float64\n",
              "Skewness               float64\n",
              "Kurtosis               float64\n",
              "Contrast               float64\n",
              "Energy                 float64\n",
              "ASM                    float64\n",
              "Homogeneity            float64\n",
              "Dissimilarity          float64\n",
              "Correlation            float64\n",
              "Coarseness             float64\n",
              "dtype: object"
            ]
          },
          "execution_count": 6,
          "metadata": {},
          "output_type": "execute_result"
        }
      ],
      "source": [
        "dataset[\"Class\"] = dataset[\"Class\"].astype(\"category\")\n",
        "dataset.dtypes"
      ]
    },
    {
      "cell_type": "markdown",
      "metadata": {
        "id": "comsMdJdIHHo"
      },
      "source": [
        "Dato che l'attributo `Coarseness` assume valori molto piccoli, applichiamo una trasformazione logaritmica.\n",
        "\n"
      ]
    },
    {
      "cell_type": "code",
      "execution_count": 9,
      "metadata": {
        "id": "agZpCo4lIZhL"
      },
      "outputs": [],
      "source": [
        "import numpy as np"
      ]
    },
    {
      "cell_type": "code",
      "execution_count": 10,
      "metadata": {
        "id": "Ouj_D2yIIU-I"
      },
      "outputs": [],
      "source": [
        "dataset['Coarseness'] = np.log10(dataset['Coarseness'])"
      ]
    },
    {
      "cell_type": "markdown",
      "metadata": {
        "id": "6RNw9hZ9Sqpu"
      },
      "source": [
        "# Preprocessing del dataset"
      ]
    },
    {
      "cell_type": "markdown",
      "metadata": {
        "id": "w6lsp0tqStwQ"
      },
      "source": [
        "## Suddivisione dataset"
      ]
    },
    {
      "cell_type": "code",
      "execution_count": 19,
      "metadata": {
        "colab": {
          "base_uri": "https://localhost:8080/",
          "height": 0
        },
        "id": "lZYY_1fMSygv",
        "outputId": "c78cd487-0711-4187-c5be-514cc3564800"
      },
      "outputs": [
        {
          "data": {
            "text/html": [
              "<div>\n",
              "<style scoped>\n",
              "    .dataframe tbody tr th:only-of-type {\n",
              "        vertical-align: middle;\n",
              "    }\n",
              "\n",
              "    .dataframe tbody tr th {\n",
              "        vertical-align: top;\n",
              "    }\n",
              "\n",
              "    .dataframe thead th {\n",
              "        text-align: right;\n",
              "    }\n",
              "</style>\n",
              "<table border=\"1\" class=\"dataframe\">\n",
              "  <thead>\n",
              "    <tr style=\"text-align: right;\">\n",
              "      <th></th>\n",
              "      <th>Mean</th>\n",
              "      <th>Entropy</th>\n",
              "      <th>Skewness</th>\n",
              "      <th>Contrast</th>\n",
              "      <th>Correlation</th>\n",
              "      <th>Class</th>\n",
              "    </tr>\n",
              "    <tr>\n",
              "      <th>Image</th>\n",
              "      <th></th>\n",
              "      <th></th>\n",
              "      <th></th>\n",
              "      <th></th>\n",
              "      <th></th>\n",
              "      <th></th>\n",
              "    </tr>\n",
              "  </thead>\n",
              "  <tbody>\n",
              "    <tr>\n",
              "      <th>Image1</th>\n",
              "      <td>6.535339</td>\n",
              "      <td>0.109059</td>\n",
              "      <td>4.276477</td>\n",
              "      <td>98.613971</td>\n",
              "      <td>0.981939</td>\n",
              "      <td>0</td>\n",
              "    </tr>\n",
              "    <tr>\n",
              "      <th>Image2</th>\n",
              "      <td>8.749969</td>\n",
              "      <td>0.266538</td>\n",
              "      <td>3.718116</td>\n",
              "      <td>63.858816</td>\n",
              "      <td>0.988834</td>\n",
              "      <td>0</td>\n",
              "    </tr>\n",
              "    <tr>\n",
              "      <th>Image3</th>\n",
              "      <td>7.341095</td>\n",
              "      <td>0.001467</td>\n",
              "      <td>5.061750</td>\n",
              "      <td>81.867206</td>\n",
              "      <td>0.978014</td>\n",
              "      <td>1</td>\n",
              "    </tr>\n",
              "    <tr>\n",
              "      <th>Image4</th>\n",
              "      <td>5.958145</td>\n",
              "      <td>0.001477</td>\n",
              "      <td>5.677977</td>\n",
              "      <td>151.229741</td>\n",
              "      <td>0.964189</td>\n",
              "      <td>1</td>\n",
              "    </tr>\n",
              "    <tr>\n",
              "      <th>Image5</th>\n",
              "      <td>7.315231</td>\n",
              "      <td>0.146761</td>\n",
              "      <td>4.283221</td>\n",
              "      <td>174.988756</td>\n",
              "      <td>0.972789</td>\n",
              "      <td>0</td>\n",
              "    </tr>\n",
              "  </tbody>\n",
              "</table>\n",
              "</div>"
            ],
            "text/plain": [
              "            Mean   Entropy  Skewness    Contrast  Correlation Class\n",
              "Image                                                              \n",
              "Image1  6.535339  0.109059  4.276477   98.613971     0.981939     0\n",
              "Image2  8.749969  0.266538  3.718116   63.858816     0.988834     0\n",
              "Image3  7.341095  0.001467  5.061750   81.867206     0.978014     1\n",
              "Image4  5.958145  0.001477  5.677977  151.229741     0.964189     1\n",
              "Image5  7.315231  0.146761  4.283221  174.988756     0.972789     0"
            ]
          },
          "execution_count": 19,
          "metadata": {},
          "output_type": "execute_result"
        }
      ],
      "source": [
        "dataset_post_analisi = dataset[['Mean', 'Entropy', 'Skewness', 'Contrast', 'Correlation', 'Class']]\n",
        "\n",
        "dataset_post_analisi.head()"
      ]
    },
    {
      "cell_type": "code",
      "execution_count": 20,
      "metadata": {
        "id": "LxaQshY_S7NZ"
      },
      "outputs": [],
      "source": [
        "y = dataset_post_analisi['Class']\n",
        "X = dataset_post_analisi.drop(['Class'], axis=1)\n",
        "\n",
        "columns_name = X.columns"
      ]
    },
    {
      "cell_type": "markdown",
      "metadata": {
        "id": "fsi28ejQTAE0"
      },
      "source": [
        "Per la rete neurale e per la SVM è necessario standardizzare i dati"
      ]
    },
    {
      "cell_type": "code",
      "execution_count": 21,
      "metadata": {
        "id": "af1M0pzsTHhw"
      },
      "outputs": [],
      "source": [
        "from sklearn.preprocessing import StandardScaler"
      ]
    },
    {
      "cell_type": "markdown",
      "metadata": {
        "id": "X_4vMv3MTPgi"
      },
      "source": [
        "Suddividiamo ora i dati in Train e Test, abbiamo scelto di utilizzare l'80% dei\n",
        "dati per il training e il restante 20% per il test."
      ]
    },
    {
      "cell_type": "code",
      "execution_count": 22,
      "metadata": {
        "id": "xaa9EIEjTKDb"
      },
      "outputs": [],
      "source": [
        "scaler = StandardScaler()\n",
        "\n",
        "X_scaled = pd.DataFrame()\n",
        "\n",
        "X_scaled[columns_name] = scaler.fit_transform(X)\n",
        "X_scaled = X_scaled.set_index(X.index)"
      ]
    },
    {
      "cell_type": "code",
      "execution_count": 23,
      "metadata": {
        "id": "Umbi6bxqTVVE"
      },
      "outputs": [],
      "source": [
        "from sklearn.model_selection import train_test_split"
      ]
    },
    {
      "cell_type": "code",
      "execution_count": 24,
      "metadata": {
        "colab": {
          "base_uri": "https://localhost:8080/",
          "height": 0
        },
        "id": "8A5DGINJTXlw",
        "outputId": "ad618029-2973-4b4d-ede3-974875bacc8a"
      },
      "outputs": [
        {
          "data": {
            "text/html": [
              "<div>\n",
              "<style scoped>\n",
              "    .dataframe tbody tr th:only-of-type {\n",
              "        vertical-align: middle;\n",
              "    }\n",
              "\n",
              "    .dataframe tbody tr th {\n",
              "        vertical-align: top;\n",
              "    }\n",
              "\n",
              "    .dataframe thead th {\n",
              "        text-align: right;\n",
              "    }\n",
              "</style>\n",
              "<table border=\"1\" class=\"dataframe\">\n",
              "  <thead>\n",
              "    <tr style=\"text-align: right;\">\n",
              "      <th></th>\n",
              "      <th>Mean</th>\n",
              "      <th>Entropy</th>\n",
              "      <th>Skewness</th>\n",
              "      <th>Contrast</th>\n",
              "      <th>Correlation</th>\n",
              "    </tr>\n",
              "    <tr>\n",
              "      <th>Image</th>\n",
              "      <th></th>\n",
              "      <th></th>\n",
              "      <th></th>\n",
              "      <th></th>\n",
              "      <th></th>\n",
              "    </tr>\n",
              "  </thead>\n",
              "  <tbody>\n",
              "    <tr>\n",
              "      <th>Image1439</th>\n",
              "      <td>9.691711</td>\n",
              "      <td>0.014755</td>\n",
              "      <td>4.145413</td>\n",
              "      <td>111.108108</td>\n",
              "      <td>0.980092</td>\n",
              "    </tr>\n",
              "    <tr>\n",
              "      <th>Image3165</th>\n",
              "      <td>2.142319</td>\n",
              "      <td>0.096746</td>\n",
              "      <td>4.610302</td>\n",
              "      <td>34.353992</td>\n",
              "      <td>0.948827</td>\n",
              "    </tr>\n",
              "    <tr>\n",
              "      <th>Image2317</th>\n",
              "      <td>8.229340</td>\n",
              "      <td>0.206584</td>\n",
              "      <td>3.294635</td>\n",
              "      <td>74.183124</td>\n",
              "      <td>0.978915</td>\n",
              "    </tr>\n",
              "    <tr>\n",
              "      <th>Image1825</th>\n",
              "      <td>5.757904</td>\n",
              "      <td>0.001252</td>\n",
              "      <td>5.415845</td>\n",
              "      <td>75.807265</td>\n",
              "      <td>0.972684</td>\n",
              "    </tr>\n",
              "    <tr>\n",
              "      <th>Image124</th>\n",
              "      <td>4.593552</td>\n",
              "      <td>0.001751</td>\n",
              "      <td>5.305935</td>\n",
              "      <td>92.420052</td>\n",
              "      <td>0.970507</td>\n",
              "    </tr>\n",
              "  </tbody>\n",
              "</table>\n",
              "</div>"
            ],
            "text/plain": [
              "               Mean   Entropy  Skewness    Contrast  Correlation\n",
              "Image                                                           \n",
              "Image1439  9.691711  0.014755  4.145413  111.108108     0.980092\n",
              "Image3165  2.142319  0.096746  4.610302   34.353992     0.948827\n",
              "Image2317  8.229340  0.206584  3.294635   74.183124     0.978915\n",
              "Image1825  5.757904  0.001252  5.415845   75.807265     0.972684\n",
              "Image124   4.593552  0.001751  5.305935   92.420052     0.970507"
            ]
          },
          "execution_count": 24,
          "metadata": {},
          "output_type": "execute_result"
        }
      ],
      "source": [
        "X_train, X_test, y_train, y_test = train_test_split(X, y, test_size=0.2, stratify=y, random_state=42)\n",
        "X_train_scaled, X_test_scaled, y_train_scaled, y_test_scaled = train_test_split(X_scaled, y, test_size=0.2, stratify=y, random_state=42)\n",
        "\n",
        "X_train.head()"
      ]
    },
    {
      "cell_type": "code",
      "execution_count": 25,
      "metadata": {
        "colab": {
          "base_uri": "https://localhost:8080/",
          "height": 0
        },
        "id": "XZpy-gPkXg0y",
        "outputId": "6ee4296c-1460-4370-b705-f9cb9a475f8b"
      },
      "outputs": [
        {
          "data": {
            "text/html": [
              "<div>\n",
              "<style scoped>\n",
              "    .dataframe tbody tr th:only-of-type {\n",
              "        vertical-align: middle;\n",
              "    }\n",
              "\n",
              "    .dataframe tbody tr th {\n",
              "        vertical-align: top;\n",
              "    }\n",
              "\n",
              "    .dataframe thead th {\n",
              "        text-align: right;\n",
              "    }\n",
              "</style>\n",
              "<table border=\"1\" class=\"dataframe\">\n",
              "  <thead>\n",
              "    <tr style=\"text-align: right;\">\n",
              "      <th></th>\n",
              "      <th>Mean</th>\n",
              "      <th>Entropy</th>\n",
              "      <th>Skewness</th>\n",
              "      <th>Contrast</th>\n",
              "      <th>Correlation</th>\n",
              "    </tr>\n",
              "    <tr>\n",
              "      <th>Image</th>\n",
              "      <th></th>\n",
              "      <th></th>\n",
              "      <th></th>\n",
              "      <th></th>\n",
              "      <th></th>\n",
              "    </tr>\n",
              "  </thead>\n",
              "  <tbody>\n",
              "    <tr>\n",
              "      <th>Image1439</th>\n",
              "      <td>0.035413</td>\n",
              "      <td>-0.837577</td>\n",
              "      <td>0.016670</td>\n",
              "      <td>-0.153933</td>\n",
              "      <td>0.930083</td>\n",
              "    </tr>\n",
              "    <tr>\n",
              "      <th>Image3165</th>\n",
              "      <td>-1.282737</td>\n",
              "      <td>0.329399</td>\n",
              "      <td>0.198225</td>\n",
              "      <td>-0.854979</td>\n",
              "      <td>-0.265362</td>\n",
              "    </tr>\n",
              "    <tr>\n",
              "      <th>Image2317</th>\n",
              "      <td>-0.219922</td>\n",
              "      <td>1.892724</td>\n",
              "      <td>-0.315587</td>\n",
              "      <td>-0.491193</td>\n",
              "      <td>0.885115</td>\n",
              "    </tr>\n",
              "    <tr>\n",
              "      <th>Image1825</th>\n",
              "      <td>-0.651443</td>\n",
              "      <td>-1.029762</td>\n",
              "      <td>0.512817</td>\n",
              "      <td>-0.476359</td>\n",
              "      <td>0.646845</td>\n",
              "    </tr>\n",
              "    <tr>\n",
              "      <th>Image124</th>\n",
              "      <td>-0.854743</td>\n",
              "      <td>-1.022669</td>\n",
              "      <td>0.469893</td>\n",
              "      <td>-0.324623</td>\n",
              "      <td>0.563608</td>\n",
              "    </tr>\n",
              "  </tbody>\n",
              "</table>\n",
              "</div>"
            ],
            "text/plain": [
              "               Mean   Entropy  Skewness  Contrast  Correlation\n",
              "Image                                                         \n",
              "Image1439  0.035413 -0.837577  0.016670 -0.153933     0.930083\n",
              "Image3165 -1.282737  0.329399  0.198225 -0.854979    -0.265362\n",
              "Image2317 -0.219922  1.892724 -0.315587 -0.491193     0.885115\n",
              "Image1825 -0.651443 -1.029762  0.512817 -0.476359     0.646845\n",
              "Image124  -0.854743 -1.022669  0.469893 -0.324623     0.563608"
            ]
          },
          "execution_count": 25,
          "metadata": {},
          "output_type": "execute_result"
        }
      ],
      "source": [
        "X_train_scaled.head()"
      ]
    },
    {
      "cell_type": "markdown",
      "metadata": {
        "id": "JRjouUewTdVx"
      },
      "source": [
        "Per evitare di introdurre errori nell'addestramento della rete abbiamo voluto\n",
        "verificare che il dataset dopo lo split fosse ancora bilanciato"
      ]
    },
    {
      "cell_type": "code",
      "execution_count": 26,
      "metadata": {
        "colab": {
          "base_uri": "https://localhost:8080/"
        },
        "id": "vWrtL7SMTbrE",
        "outputId": "313694f8-6143-47ca-8056-483f7e9a84a4"
      },
      "outputs": [
        {
          "name": "stdout",
          "output_type": "stream",
          "text": [
            "Dataset:\n",
            "\t-Negative 55.26 %\n",
            "\t-Positive 44.74 %\n",
            "Train data:\n",
            "\t- Negative 55.27 %\n",
            "\t- Positive 44.73 %\n"
          ]
        }
      ],
      "source": [
        "print(\"Dataset:\\n\\t-Negative\", round((y.value_counts()[0]/y.shape[0]) * 100, 2),\n",
        "      \"%\\n\\t-Positive\", round((y.value_counts()[1]/y.shape[0]) * 100, 2), \"%\")\n",
        "print(\"Train data:\\n\\t- Negative\", round((y_train.value_counts()[0] / y_train.shape[0]) * 100, 2),\n",
        "      \"%\\n\\t- Positive\", round((y_train.value_counts()[1] / y_train.shape[0]) * 100, 2), \"%\")"
      ]
    },
    {
      "cell_type": "markdown",
      "metadata": {
        "id": "p8mC0kwDMBzF"
      },
      "source": [
        "## Analisi del dataset con PCA"
      ]
    },
    {
      "cell_type": "code",
      "execution_count": 27,
      "metadata": {
        "id": "CPNeYqQ3Mhul"
      },
      "outputs": [],
      "source": [
        "from sklearn.decomposition import PCA"
      ]
    },
    {
      "cell_type": "code",
      "execution_count": 28,
      "metadata": {
        "id": "v2qONduRMlL7"
      },
      "outputs": [],
      "source": [
        "dataset_class = dataset['Class']\n",
        "dataset_without_class = dataset.drop(['Class'], axis=1)"
      ]
    },
    {
      "cell_type": "markdown",
      "metadata": {
        "id": "X0YtTsAMF_g2"
      },
      "source": [
        "Standardizziamo il dataset"
      ]
    },
    {
      "cell_type": "code",
      "execution_count": 29,
      "metadata": {
        "id": "EAMjxIkZGCQ1"
      },
      "outputs": [],
      "source": [
        "scaled_data = scaler.fit_transform(dataset_without_class)"
      ]
    },
    {
      "cell_type": "markdown",
      "metadata": {
        "id": "bFRJFjCnGVzN"
      },
      "source": [
        "Crea un grafico della varianza spiegata per ogni componente"
      ]
    },
    {
      "cell_type": "code",
      "execution_count": 30,
      "metadata": {
        "colab": {
          "base_uri": "https://localhost:8080/",
          "height": 0
        },
        "id": "PNM2onUkM9VC",
        "outputId": "5490e5fe-d48b-4514-b87e-c11435e83730"
      },
      "outputs": [
        {
          "data": {
            "image/png": "[encoded data removed]",
            "text/plain": [
              "<Figure size 640x480 with 1 Axes>"
            ]
          },
          "metadata": {},
          "output_type": "display_data"
        }
      ],
      "source": [
        "pca = PCA().fit(scaled_data)\n",
        "\n",
        "plt.plot(range(1, pca.n_components_ + 1), pca.explained_variance_ratio_, marker='o')\n",
        "plt.xlabel('Componenti della PCA')\n",
        "plt.ylabel('Varianza spiegata')\n",
        "plt.title(\"Risultati della PCA\")\n",
        "plt.show()"
      ]
    },
    {
      "cell_type": "markdown",
      "metadata": {
        "id": "tMzK1daSGhyC"
      },
      "source": [
        "Applica la PCA per ridurre la dimensionalità dei dati"
      ]
    },
    {
      "cell_type": "code",
      "execution_count": 31,
      "metadata": {
        "colab": {
          "base_uri": "https://localhost:8080/"
        },
        "id": "o1SuTs71NNDG",
        "outputId": "bed36566-3c0a-48ae-d547-de1d3d3e4c09"
      },
      "outputs": [
        {
          "name": "stdout",
          "output_type": "stream",
          "text": [
            "[4.08816773e-01 3.12991477e-01 1.28742637e-01 6.26484623e-02\n",
            " 4.78447253e-02 2.00054187e-02 1.07659606e-02 3.34276945e-03\n",
            " 2.55305629e-03 1.39156675e-03 8.91780975e-04 5.37250098e-06\n",
            " 2.96819414e-29]\n",
            "Numero di componenti che spiegano la varianza: 3\n",
            "Varianza totale spiegata: 0.8505508871084846\n"
          ]
        }
      ],
      "source": [
        "pca = PCA().fit(scaled_data)\n",
        "pca_data = pca.transform(scaled_data)\n",
        "\n",
        "print(pca.explained_variance_ratio_)\n",
        "n_componenti = 3\n",
        "print('Numero di componenti che spiegano la varianza: ' + str(n_componenti))\n",
        "print('Varianza totale spiegata: ' + str(np.sum(pca.explained_variance_ratio_[:n_componenti])))"
      ]
    },
    {
      "cell_type": "markdown",
      "metadata": {
        "id": "pi1gfEV6NVRK"
      },
      "source": [
        "Dal momento che la varianzia spiegata dalle prime 3 componenti allora consideriamo solo quelle."
      ]
    },
    {
      "cell_type": "code",
      "execution_count": 32,
      "metadata": {
        "colab": {
          "base_uri": "https://localhost:8080/",
          "height": 0
        },
        "id": "QzsuOdcFNWMc",
        "outputId": "1725159c-185f-40bf-9208-47bd80ce81a9"
      },
      "outputs": [
        {
          "data": {
            "text/html": [
              "<div>\n",
              "<style scoped>\n",
              "    .dataframe tbody tr th:only-of-type {\n",
              "        vertical-align: middle;\n",
              "    }\n",
              "\n",
              "    .dataframe tbody tr th {\n",
              "        vertical-align: top;\n",
              "    }\n",
              "\n",
              "    .dataframe thead th {\n",
              "        text-align: right;\n",
              "    }\n",
              "</style>\n",
              "<table border=\"1\" class=\"dataframe\">\n",
              "  <thead>\n",
              "    <tr style=\"text-align: right;\">\n",
              "      <th></th>\n",
              "      <th>PCA_C1</th>\n",
              "      <th>PCA_C2</th>\n",
              "      <th>PCA_C3</th>\n",
              "      <th>Class</th>\n",
              "    </tr>\n",
              "    <tr>\n",
              "      <th>Image</th>\n",
              "      <th></th>\n",
              "      <th></th>\n",
              "      <th></th>\n",
              "      <th></th>\n",
              "    </tr>\n",
              "  </thead>\n",
              "  <tbody>\n",
              "    <tr>\n",
              "      <th>Image1</th>\n",
              "      <td>-1.134947</td>\n",
              "      <td>0.116539</td>\n",
              "      <td>-0.122074</td>\n",
              "      <td>0</td>\n",
              "    </tr>\n",
              "    <tr>\n",
              "      <th>Image2</th>\n",
              "      <td>-4.262143</td>\n",
              "      <td>-0.049437</td>\n",
              "      <td>1.500706</td>\n",
              "      <td>0</td>\n",
              "    </tr>\n",
              "    <tr>\n",
              "      <th>Image3</th>\n",
              "      <td>2.481383</td>\n",
              "      <td>-1.111446</td>\n",
              "      <td>-0.957833</td>\n",
              "      <td>1</td>\n",
              "    </tr>\n",
              "    <tr>\n",
              "      <th>Image4</th>\n",
              "      <td>3.074085</td>\n",
              "      <td>-0.235259</td>\n",
              "      <td>-0.388747</td>\n",
              "      <td>1</td>\n",
              "    </tr>\n",
              "    <tr>\n",
              "      <th>Image5</th>\n",
              "      <td>-0.900927</td>\n",
              "      <td>0.311275</td>\n",
              "      <td>1.345354</td>\n",
              "      <td>0</td>\n",
              "    </tr>\n",
              "  </tbody>\n",
              "</table>\n",
              "</div>"
            ],
            "text/plain": [
              "          PCA_C1    PCA_C2    PCA_C3 Class\n",
              "Image                                     \n",
              "Image1 -1.134947  0.116539 -0.122074     0\n",
              "Image2 -4.262143 -0.049437  1.500706     0\n",
              "Image3  2.481383 -1.111446 -0.957833     1\n",
              "Image4  3.074085 -0.235259 -0.388747     1\n",
              "Image5 -0.900927  0.311275  1.345354     0"
            ]
          },
          "execution_count": 32,
          "metadata": {},
          "output_type": "execute_result"
        }
      ],
      "source": [
        "dataset_pca_transformed = pd.DataFrame(pca_data[:,:n_componenti])\n",
        "dataset_pca_transformed.columns = ['PCA_C1', 'PCA_C2', 'PCA_C3']\n",
        "dataset_pca_transformed = dataset_pca_transformed.set_index(dataset_class.index)\n",
        "dataset_pca_transformed['Class'] = dataset_class\n",
        "dataset_pca_transformed.head()"
      ]
    },
    {
      "cell_type": "code",
      "execution_count": 33,
      "metadata": {
        "id": "iEpCF6rZNh8n"
      },
      "outputs": [],
      "source": [
        "import mpl_toolkits.mplot3d"
      ]
    },
    {
      "cell_type": "code",
      "execution_count": 34,
      "metadata": {
        "colab": {
          "base_uri": "https://localhost:8080/",
          "height": 0
        },
        "id": "3RudCJoWNhAv",
        "outputId": "ac033dff-3a45-4f38-ebd8-243ed0fbc61a"
      },
      "outputs": [
        {
          "data": {
            "image/png": "[encoded data removed]",
            "text/plain": [
              "<Figure size 800x600 with 1 Axes>"
            ]
          },
          "metadata": {},
          "output_type": "display_data"
        }
      ],
      "source": [
        "fig = plt.figure(1, figsize=(8, 6))\n",
        "ax = fig.add_subplot(111, projection=\"3d\", elev=-150, azim=110)\n",
        "\n",
        "ax.scatter(\n",
        "    pca_data[:, 0],\n",
        "    pca_data[:, 1],\n",
        "    pca_data[:, 2],\n",
        "    c=dataset_class,\n",
        "    cmap='Set1'\n",
        ")\n",
        "\n",
        "ax.set_title(\"First three PCA dimensions\")\n",
        "ax.set_xlabel(dataset_pca_transformed.columns[0])\n",
        "ax.xaxis.set_ticklabels([])\n",
        "ax.set_ylabel(dataset_pca_transformed.columns[1])\n",
        "ax.yaxis.set_ticklabels([])\n",
        "ax.set_zlabel(dataset_pca_transformed.columns[2])\n",
        "ax.zaxis.set_ticklabels([])\n",
        "\n",
        "plt.show()"
      ]
    },
    {
      "cell_type": "code",
      "execution_count": 35,
      "metadata": {
        "id": "7V7co4H1dAmU"
      },
      "outputs": [],
      "source": [
        "dataset_pca_scaled = dataset_pca_transformed.copy()\n",
        "\n",
        "dataset_pca_scaled[['PCA_C1', 'PCA_C2', 'PCA_C3']] = scaler.fit_transform(dataset_pca_transformed[['PCA_C1', 'PCA_C2', 'PCA_C3']])"
      ]
    },
    {
      "cell_type": "code",
      "execution_count": 36,
      "metadata": {
        "id": "35NOY8OjHw-N"
      },
      "outputs": [],
      "source": [
        "X_train_pca, X_test_pca, y_train_pca, y_test_pca = train_test_split(dataset_pca_transformed[['PCA_C1', 'PCA_C2', 'PCA_C3']], dataset_pca_transformed['Class'], test_size=0.2, stratify=dataset_pca_transformed['Class'], random_state=42)\n",
        "X_train_pca_std, X_test_pca_std, y_train_pca_std, y_test_pca_std = train_test_split(dataset_pca_scaled[['PCA_C1', 'PCA_C2', 'PCA_C3']], dataset_pca_scaled['Class'], test_size=0.2, stratify=dataset_pca_scaled['Class'], random_state=42)\n"
      ]
    },
    {
      "cell_type": "markdown",
      "metadata": {
        "id": "-HE_A3zMOAp7"
      },
      "source": [
        "# Rete Neurale"
      ]
    },
    {
      "cell_type": "markdown",
      "metadata": {
        "id": "p3vvQY0HPGGg"
      },
      "source": [
        "- **Dense**: implements the operation:\n",
        "```\n",
        "output = activation(dot(input, kernel) + bias)\n",
        "```\n",
        "where activation is the element-wise activation function passed as the activation argument\n",
        "- **Bainary Cross Entropy**: computes the cross-entropy loss between true labels and predicted labels.\n",
        "Use this cross-entropy loss for binary (0 or 1) classification applications. The loss function requires the following inputs:\n",
        " - y_true (true label): This is either 0 or 1.\n",
        " - y_pred (predicted value): This is the model's prediction, i.e, a single floating-point value which either represents a logit, (i.e, value in [-inf, inf] when from_logits=True) or a probability (i.e, value in [0., 1.] when from_logits=False).\n",
        "- **SGD**: Gradient descent (with momentum) optimizer.\n",
        "- **ADAM**:"
      ]
    },
    {
      "cell_type": "code",
      "execution_count": 37,
      "metadata": {
        "id": "FWYvTMAqPVie"
      },
      "outputs": [
        {
          "name": "stdout",
          "output_type": "stream",
          "text": [
            "WARNING:tensorflow:From c:\\Users\\tomma\\AppData\\Local\\Programs\\Python\\Python310\\lib\\site-packages\\keras\\src\\losses.py:2976: The name tf.losses.sparse_softmax_cross_entropy is deprecated. Please use tf.compat.v1.losses.sparse_softmax_cross_entropy instead.\n",
            "\n"
          ]
        }
      ],
      "source": [
        "from keras.models import Sequential\n",
        "from keras.layers import Dense"
      ]
    },
    {
      "cell_type": "code",
      "execution_count": 38,
      "metadata": {
        "id": "zvBxB8_yPT5i"
      },
      "outputs": [],
      "source": [
        "def create_model(units=[6, 6], activation='relu', opt='adam', metric='accuracy', input_layer_size=5):\n",
        "  # Creazione del modello\n",
        "  model = Sequential()\n",
        "\n",
        "  # Aggiunta layer di input e hidden layers\n",
        "  model.add(Dense(units=units[0], input_shape=(input_layer_size,), activation=activation))\n",
        "\n",
        "  if len(units) >= 2 and units[1] != 0:\n",
        "    model.add(Dense(units=units[1], activation=activation))\n",
        "\n",
        "  # Aggiunta del layer di output\n",
        "  model.add(Dense(1, activation='sigmoid'))\n",
        "\n",
        "  # Compilazione del modello\n",
        "  model.compile(loss='binary_crossentropy', optimizer=opt, metrics=[metric])\n",
        "\n",
        "  return model"
      ]
    },
    {
      "cell_type": "markdown",
      "metadata": {
        "id": "qdRtFsLBPP_7"
      },
      "source": [
        "## Ricerca degli iperparametri"
      ]
    },
    {
      "cell_type": "code",
      "execution_count": 39,
      "metadata": {
        "id": "cugiYdYgPc6q"
      },
      "outputs": [],
      "source": [
        "from itertools import product"
      ]
    },
    {
      "cell_type": "code",
      "execution_count": 46,
      "metadata": {
        "colab": {
          "base_uri": "https://localhost:8080/"
        },
        "id": "t8x4TDaIODEX",
        "outputId": "1154bacc-e067-4db8-f9f9-ab8ce12ad8cd"
      },
      "outputs": [
        {
          "name": "stdout",
          "output_type": "stream",
          "text": [
            "Total combinations: 216\n"
          ]
        }
      ],
      "source": [
        "# Iperparametri\n",
        "units = [0, 5, 10]\n",
        "activation = ['sigmoid', 'relu', 'leaky_relu']\n",
        "optimizer = ['sgd', 'adam']\n",
        "batch_size = [50, 100, 300]\n",
        "epochs = [100, 300]\n",
        "\n",
        "# Creazione di tutte le possibili combinazioni\n",
        "param_combinations = list(product(units, units, activation, optimizer, batch_size, epochs))\n",
        "\n",
        "# Rimuovo le combinazioni con 0 neuroni nel primo layer\n",
        "list_to_remove = []\n",
        "\n",
        "for i, params in enumerate(param_combinations):\n",
        "  if params[0] == 0:\n",
        "    list_to_remove.append(params)\n",
        "\n",
        "for to_remove in list_to_remove:\n",
        "  param_combinations.remove(to_remove)\n",
        "\n",
        "print(\"Total combinations:\", len(param_combinations))"
      ]
    },
    {
      "cell_type": "code",
      "execution_count": 47,
      "metadata": {
        "id": "CTTjCgLuPidg"
      },
      "outputs": [],
      "source": [
        "# Preparazione del dataset per la grid search\n",
        "X_cross_val_data = pd.DataFrame(data = X_train_scaled, columns = columns_name)\n",
        "Y_cross_val_data = pd.DataFrame(data = y_train_scaled, columns = ['Class'])\n",
        "\n",
        "Y_cross_val_data = (Y_cross_val_data.reset_index()).drop(['Image'], axis=1)\n",
        "X_cross_val_data = (X_cross_val_data.reset_index()).drop(['Image'], axis=1)"
      ]
    },
    {
      "cell_type": "code",
      "execution_count": 48,
      "metadata": {
        "id": "4t3RNDO9P04K"
      },
      "outputs": [],
      "source": [
        "from sklearn.model_selection import StratifiedKFold\n",
        "from tqdm import tqdm\n",
        "\n",
        "import scipy.stats as st\n",
        "import numpy as np\n",
        "import time\n",
        "import json"
      ]
    },
    {
      "cell_type": "code",
      "execution_count": 49,
      "metadata": {
        "id": "dsS5ku-uR0il"
      },
      "outputs": [],
      "source": [
        "path_for_json = \"/content/drive/MyDrive/Magistrale/Machine Learning/NN_Hyperparameters\"\n",
        "path_for_json = \"./brain-tumor-analysis/NN_Hyperparameters\""
      ]
    },
    {
      "cell_type": "code",
      "execution_count": 50,
      "metadata": {
        "id": "Bz_6D3X9P6Ce"
      },
      "outputs": [],
      "source": [
        "def compute_statistics(performance, i):\n",
        "    accuracy_score = performance[i]['results']\n",
        "    time_score = performance[i]['time']\n",
        "    performance[i]['interval90'] = st.t.interval(confidence=0.90, df=len(accuracy_score)-1, loc=np.mean(accuracy_score), scale=st.sem(accuracy_score))\n",
        "    performance[i]['times'] = st.t.interval(confidence=0.90, df=len(time_score)-1, loc=np.mean(time_score), scale=st.sem(time_score))\n",
        "    performance[i]['meanTime'] = sum(performance[i]['time']) / len(performance[i]['time'])\n",
        "    performance[i]['meanAccuracy'] = sum(accuracy_score) / len(accuracy_score)\n",
        "\n",
        "    return performance\n",
        "\n",
        "def grid_search_NN(param_combinations, X_cross_val, Y_cross_val, input_layer_size=5, n_splits = 5,):\n",
        "    skf = StratifiedKFold(n_splits=n_splits, shuffle=True)\n",
        "\n",
        "    # Dizionario per salvare i risultati della grid search\n",
        "    performance = dict()\n",
        "\n",
        "    # Ciclo per testare tutte le combinazioni\n",
        "    for i, (u1, u2, act, opt, batch, ep) in enumerate(tqdm(param_combinations)):\n",
        "        # Inizializzazione del dizionario per la combinazione corrente\n",
        "        performance[i] = dict()\n",
        "        performance[i]['param'] = ([u1, u2], act, opt, batch, ep)\n",
        "        performance[i]['results'] = []\n",
        "        performance[i]['time'] = []\n",
        "\n",
        "        # Creazione del modello\n",
        "        model = create_model(units=[u1, u2], activation=act, opt=opt, input_layer_size=input_layer_size)\n",
        "\n",
        "        # Addestramento del modello e valutazione\n",
        "        for train_idx, test_idx in skf.split(X_cross_val, Y_cross_val):\n",
        "            X_val_train, X_val_test = X_cross_val.iloc[train_idx], X_cross_val.iloc[test_idx]\n",
        "            y_val_train, y_val_test = Y_cross_val.iloc[train_idx], Y_cross_val.iloc[test_idx]\n",
        "\n",
        "            start = time.time()\n",
        "\n",
        "            model.fit(X_val_train, y_val_train, epochs=ep, batch_size=batch, verbose=0)\n",
        "\n",
        "            end = time.time()\n",
        "\n",
        "            # Evaluate the model on the test set\n",
        "            score = model.evaluate(X_val_test, y_val_test, verbose=0)\n",
        "            performance[i]['results'].append(score[1])\n",
        "            performance[i]['time'].append(end - start)\n",
        "\n",
        "        # Calcolo delle statistiche\n",
        "        performance = compute_statistics(performance, i)\n",
        "\n",
        "    # Salvataggio dei risultati su file\n",
        "    with open(str(path_for_json + \".json\"), \"w\") as outfile:\n",
        "        json.dump(performance, outfile)\n",
        "\n",
        "    return performance\n",
        "\n",
        "def find_best_hyperparameters(performance):\n",
        "    performance_interval90 = dict()\n",
        "    performance_times = dict()\n",
        "    performance_time = dict()\n",
        "    performance_acc = dict()\n",
        "\n",
        "    for key in list(performance.keys()):\n",
        "        interval90 = performance[key]['interval90']\n",
        "        interval95 = performance[key]['times']\n",
        "\n",
        "        performance_interval90[key] = interval90[1] - interval90[0]\n",
        "        performance_times[key] = interval95[1] - interval95[0]\n",
        "        performance_time[key] = performance[key]['meanTime']\n",
        "        performance_acc[key] = performance[key]['meanAccuracy']\n",
        "\n",
        "    performance_interval90 = sorted(performance_interval90.items(), key=lambda x:x[1])\n",
        "    performance_times = sorted(performance_times.items(), key=lambda x:x[1])\n",
        "    performance_time = sorted(performance_time.items(), key=lambda x:x[1])\n",
        "    performance_acc = sorted(performance_acc.items(), key=lambda x:x[1], reverse=True)\n",
        "\n",
        "    sorted_dict = dict()\n",
        "\n",
        "    for i, (index, _) in enumerate(performance_interval90):\n",
        "        sorted_dict[index] = dict()\n",
        "        sorted_dict[index]['90'] = i + 1\n",
        "\n",
        "    for i, (index, _) in enumerate(performance_times):\n",
        "        sorted_dict[index]['times_90'] = i + 1\n",
        "\n",
        "    for i, (index, _) in enumerate(performance_time):\n",
        "        sorted_dict[index]['time'] = i + 1\n",
        "\n",
        "    for i, (index, _) in enumerate(performance_acc):\n",
        "        sorted_dict[index]['acc'] = i + 1\n",
        "\n",
        "    # Creazione del dataframe per la valutazione dei risultati\n",
        "    dataframe_model = pd.DataFrame(sorted_dict)\n",
        "    dataframe_model = dataframe_model.T\n",
        "\n",
        "    # Assegno dei pesi per ogni parametro\n",
        "    weights = pd.Series([1, 1, 2, 2], index=dataframe_model.columns)\n",
        "\n",
        "    # Calcolo del punteggio totale\n",
        "    dataframe_model['Total'] = (dataframe_model * weights).sum(axis=1)\n",
        "    dataframe_model = dataframe_model.sort_values(by=['Total'])\n",
        "\n",
        "    # Restituisco i parametri del modello migliore\n",
        "    best_model_index = dataframe_model.index[0]\n",
        "    return performance[best_model_index]['param']"
      ]
    },
    {
      "cell_type": "markdown",
      "metadata": {
        "id": "Np2OWVR4QAxl"
      },
      "source": [
        "Selezione degli iperparametri"
      ]
    },
    {
      "cell_type": "code",
      "execution_count": 51,
      "metadata": {
        "colab": {
          "base_uri": "https://localhost:8080/"
        },
        "id": "2hykzskOQEa_",
        "outputId": "2a09b6bd-eb7e-48b4-906f-462f40be2e82"
      },
      "outputs": [
        {
          "name": "stderr",
          "output_type": "stream",
          "text": [
            "100%|██████████| 216/216 [1:52:30<00:00, 31.25s/it]  \n"
          ]
        }
      ],
      "source": [
        "# performance = grid_search_NN(param_combinations, X_cross_val_data, Y_cross_val_data)\n",
        "# best_model = find_best_hyperparameters(performance)\n",
        "\n",
        "best_model = ([10, 5], 'relu', 'adam', 100, 100)"
      ]
    },
    {
      "cell_type": "markdown",
      "metadata": {
        "id": "cylVeAVLQKpd"
      },
      "source": [
        "## Addestramento del modello"
      ]
    },
    {
      "cell_type": "markdown",
      "metadata": {
        "id": "qoAemvnfQSKW"
      },
      "source": [
        "Creazione del modello con i migliori iperparametri"
      ]
    },
    {
      "cell_type": "code",
      "execution_count": 53,
      "metadata": {
        "id": "Mb2LRgBMQRua"
      },
      "outputs": [],
      "source": [
        "NN_model_Corr = create_model(units=best_model[0], activation=best_model[1], opt=best_model[2], input_layer_size=X_train.shape[1])"
      ]
    },
    {
      "cell_type": "markdown",
      "metadata": {
        "id": "nYStjzefxaI6"
      },
      "source": [
        "Visualizzazione del modello"
      ]
    },
    {
      "cell_type": "code",
      "execution_count": 54,
      "metadata": {
        "id": "d5xfntpnxdR0"
      },
      "outputs": [],
      "source": [
        "import keras"
      ]
    },
    {
      "cell_type": "code",
      "execution_count": 55,
      "metadata": {
        "id": "FWGl3nI5xd7b"
      },
      "outputs": [
        {
          "name": "stdout",
          "output_type": "stream",
          "text": [
            "You must install pydot (`pip install pydot`) and install graphviz (see instructions at https://graphviz.gitlab.io/download/) for plot_model to work.\n"
          ]
        }
      ],
      "source": [
        "keras.utils.plot_model(NN_model_Corr, show_shapes=True, show_layer_activations=True, show_layer_names=True)"
      ]
    },
    {
      "cell_type": "markdown",
      "metadata": {
        "id": "9iUN5KZyQaJd"
      },
      "source": [
        "Addestramento del modello"
      ]
    },
    {
      "cell_type": "code",
      "execution_count": 56,
      "metadata": {
        "id": "y3MtRgOQQcjT"
      },
      "outputs": [
        {
          "data": {
            "text/plain": [
              "<keras.src.callbacks.History at 0x21409484dc0>"
            ]
          },
          "execution_count": 56,
          "metadata": {},
          "output_type": "execute_result"
        }
      ],
      "source": [
        "NN_model_Corr.fit(X_train_scaled, y_train_scaled, epochs=best_model[4], batch_size=best_model[3], verbose=0)"
      ]
    },
    {
      "cell_type": "markdown",
      "metadata": {
        "id": "qZcZySFFQemM"
      },
      "source": [
        "## Valutazione del modello"
      ]
    },
    {
      "cell_type": "markdown",
      "metadata": {
        "id": "vQLAowDYQuvm"
      },
      "source": [
        "Definizione di una funzione per associare un etichetta ai risultati della rete."
      ]
    },
    {
      "cell_type": "code",
      "execution_count": 57,
      "metadata": {
        "id": "R5gY4sfpQyNu"
      },
      "outputs": [],
      "source": [
        "def my_predict(y_pred_proba, threshold=0.5):\n",
        "    # Applicazione della soglia\n",
        "    y_pred = np.where(y_pred_proba > threshold, 1, 0).flatten()\n",
        "\n",
        "    # Restituisco le predizioni\n",
        "    return y_pred"
      ]
    },
    {
      "cell_type": "markdown",
      "metadata": {
        "id": "gBDN3Bx_Qjaq"
      },
      "source": [
        "Valutazione del modello attraverso le metriche fornite da Keras"
      ]
    },
    {
      "cell_type": "code",
      "execution_count": 58,
      "metadata": {
        "id": "HSNqJG0iQhAO"
      },
      "outputs": [
        {
          "name": "stdout",
          "output_type": "stream",
          "text": [
            "Test loss: 0.027576994150877\n",
            "Test accuracy: 0.9907038807868958\n"
          ]
        }
      ],
      "source": [
        "score = NN_model_Corr.evaluate(X_test_scaled, y_test_scaled, verbose=0)\n",
        "\n",
        "print('Test loss:', score[0])\n",
        "print('Test accuracy:', score[1])"
      ]
    },
    {
      "cell_type": "markdown",
      "metadata": {
        "id": "WBTOw0rhQoux"
      },
      "source": [
        "Valutazione del modello utilizzando altre metriche"
      ]
    },
    {
      "cell_type": "code",
      "execution_count": 59,
      "metadata": {
        "id": "iU-1ZnwEQn2Y"
      },
      "outputs": [],
      "source": [
        "from sklearn.metrics import accuracy_score, precision_score, recall_score, f1_score, classification_report, confusion_matrix, ConfusionMatrixDisplay"
      ]
    },
    {
      "cell_type": "code",
      "execution_count": 60,
      "metadata": {
        "id": "pfHdSrW2Q-aR"
      },
      "outputs": [
        {
          "name": "stdout",
          "output_type": "stream",
          "text": [
            "24/24 [==============================] - 0s 1ms/step\n",
            "Accuracy: 0.9907038512616202\n",
            "Precision: 0.9852941176470589\n",
            "Recall: 0.9940652818991098\n",
            "F1-score: 0.9896602658788775\n"
          ]
        }
      ],
      "source": [
        "# Valutazione del modello utilizzando i dati di test\n",
        "NN_pred_corr = NN_model_Corr.predict(X_test_scaled)\n",
        "NN_y_pred = my_predict(NN_pred_corr, 0.3)\n",
        "\n",
        "# Calcolo delle prestazioni del modello\n",
        "accuracy_train_test = accuracy_score(y_test_scaled, NN_y_pred)\n",
        "precision = precision_score(y_test_scaled, NN_y_pred)\n",
        "recall = recall_score(y_test_scaled, NN_y_pred)\n",
        "f1 = f1_score(y_test_scaled, NN_y_pred)\n",
        "\n",
        "# Stampa le prestazioni del modello\n",
        "print('Accuracy:', accuracy_train_test)\n",
        "print('Precision:', precision)\n",
        "print('Recall:', recall)\n",
        "print('F1-score:', f1)"
      ]
    },
    {
      "cell_type": "code",
      "execution_count": 61,
      "metadata": {
        "id": "FVGUK1G0RPpD"
      },
      "outputs": [
        {
          "name": "stdout",
          "output_type": "stream",
          "text": [
            "              precision    recall  f1-score   support\n",
            "\n",
            "           0       0.99      1.00      0.99       413\n",
            "           1       0.99      0.99      0.99       340\n",
            "\n",
            "    accuracy                           0.99       753\n",
            "   macro avg       0.99      0.99      0.99       753\n",
            "weighted avg       0.99      0.99      0.99       753\n",
            "\n"
          ]
        }
      ],
      "source": [
        "clf_report_NN = classification_report(NN_y_pred, y_test_scaled)\n",
        "print(clf_report_NN)"
      ]
    },
    {
      "cell_type": "markdown",
      "metadata": {
        "id": "JKZ69ZGERL6R"
      },
      "source": [
        "Calcolo della matrice di confusione"
      ]
    },
    {
      "cell_type": "code",
      "execution_count": 62,
      "metadata": {
        "id": "0OBBuCMBRLbk"
      },
      "outputs": [
        {
          "data": {
            "image/png": "[encoded data removed]",
            "text/plain": [
              "<Figure size 640x480 with 2 Axes>"
            ]
          },
          "metadata": {},
          "output_type": "display_data"
        }
      ],
      "source": [
        "cm = confusion_matrix(y_test_scaled, NN_y_pred)\n",
        "disp = ConfusionMatrixDisplay(confusion_matrix=cm, display_labels=['Negative', 'Positive'])\n",
        "disp.plot();"
      ]
    },
    {
      "cell_type": "markdown",
      "metadata": {
        "id": "wzi67VnlRWO9"
      },
      "source": [
        "Calcolo e disegno della curva ROC"
      ]
    },
    {
      "cell_type": "code",
      "execution_count": 63,
      "metadata": {
        "id": "k_1iqgB_RVuk"
      },
      "outputs": [],
      "source": [
        "from sklearn.metrics import roc_curve, roc_auc_score\n",
        "import matplotlib.pyplot as plt"
      ]
    },
    {
      "cell_type": "code",
      "execution_count": 66,
      "metadata": {
        "id": "YhX545M9RYYK"
      },
      "outputs": [
        {
          "data": {
            "image/png": "[encoded data removed]",
            "text/plain": [
              "<Figure size 1600x900 with 1 Axes>"
            ]
          },
          "metadata": {},
          "output_type": "display_data"
        }
      ],
      "source": [
        "# Calcola la curva ROC\n",
        "fpr_NN_corr, tpr_NN_corr, thresholds = roc_curve(y_test_scaled, NN_pred_corr)\n",
        "\n",
        "# Calcola l'AUC della curva ROC\n",
        "roc_auc_NN_corr = roc_auc_score(y_test_scaled, NN_pred_corr)\n",
        "\n",
        "# Disegna la curva ROC\n",
        "plt.figure(figsize=(16,9))\n",
        "plt.plot(fpr_NN_corr, tpr_NN_corr, label='ROC curve (area = %0.2f)' % roc_auc_NN_corr)\n",
        "plt.plot([0, 1], [0, 1], 'k--')\n",
        "plt.xlim([-0.01, 1.0])\n",
        "plt.ylim([0.0, 1.05])\n",
        "plt.xlabel('False Positive Rate')\n",
        "plt.ylabel('True Positive Rate')\n",
        "plt.title('Receiver operating characteristic')\n",
        "plt.legend(loc=\"lower right\")\n",
        "plt.show()"
      ]
    },
    {
      "cell_type": "markdown",
      "metadata": {
        "id": "mrMPTp9aRcqO"
      },
      "source": [
        "### Valutazione della rete con 10-fold validation"
      ]
    },
    {
      "cell_type": "code",
      "execution_count": 65,
      "metadata": {
        "id": "V5lHFgahRgmo"
      },
      "outputs": [
        {
          "name": "stdout",
          "output_type": "stream",
          "text": [
            "12/12 [==============================] - 0s 2ms/step\n",
            "12/12 [==============================] - 0s 225us/step\n",
            "12/12 [==============================] - 0s 2ms/step\n",
            "12/12 [==============================] - 0s 0s/step\n",
            "12/12 [==============================] - 0s 1ms/step\n",
            "12/12 [==============================] - 0s 1ms/step\n",
            "12/12 [==============================] - 0s 2ms/step\n",
            "12/12 [==============================] - 0s 2ms/step\n",
            "12/12 [==============================] - 0s 3ms/step\n",
            "12/12 [==============================] - 0s 2ms/step\n"
          ]
        }
      ],
      "source": [
        "n_fold = 10\n",
        "folds = StratifiedKFold(n_splits=n_fold, shuffle=True)\n",
        "\n",
        "# Inizializzazione delle liste per le prestazioni\n",
        "accuracy_stratified_NN_corr = []\n",
        "recall_stratified_NN_corr = []\n",
        "precision_stratified_NN_corr = []\n",
        "fscore_stratified_NN_corr = []\n",
        "\n",
        "# Ciclo per la validazione incrociata\n",
        "for n_fold, (train_idx, valid_idx) in enumerate(folds.split(X_scaled, y)):\n",
        "  # Split train and validation set\n",
        "  X_train_NN_corr, X_valid_NN_corr = X_scaled.iloc[train_idx], X_scaled.iloc[valid_idx]\n",
        "  y_train_NN_corr, y_valid_NN_corr = y[train_idx], y[valid_idx]\n",
        "\n",
        "  # Creazione del modello\n",
        "  model = create_model(units=best_model[0], activation=best_model[1], opt=best_model[2], input_layer_size=X_train_NN_corr.shape[1])\n",
        "\n",
        "  # Addestramento del modello\n",
        "  model.fit(X_train_NN_corr, y_train_NN_corr, epochs=best_model[4], batch_size=best_model[3], verbose=0)\n",
        "\n",
        "  # Valutazione del modello\n",
        "  y_pred_proba = model.predict(X_valid_NN_corr)\n",
        "  y_pred_valid = my_predict(y_pred_proba, 0.3)\n",
        "\n",
        "  accuracy_stratified_NN_corr.append(accuracy_score(y_valid_NN_corr, y_pred_valid))\n",
        "  precision_stratified_NN_corr.append(precision_score(y_valid_NN_corr, y_pred_valid))\n",
        "  recall_stratified_NN_corr.append(recall_score(y_valid_NN_corr, y_pred_valid))\n",
        "  fscore_stratified_NN_corr.append(f1_score(y_valid_NN_corr, y_pred_valid))"
      ]
    },
    {
      "cell_type": "markdown",
      "metadata": {
        "id": "JzOwpYAVRkA4"
      },
      "source": [
        "Calcolo dell'intervallo di confidenza"
      ]
    },
    {
      "cell_type": "code",
      "execution_count": 67,
      "metadata": {
        "id": "xqnD0vOFRksL"
      },
      "outputs": [
        {
          "name": "stdout",
          "output_type": "stream",
          "text": [
            "Accuracy: 0.9819254754783001 (0.9784574082113232, 0.985393542745277)\n",
            "Precision: 0.9770458953287285 (0.9710294963175501, 0.983062294339907)\n",
            "Recall: 0.9827627500704423 (0.9793238881474869, 0.9862016119933977)\n",
            "F1-score: 0.9798703762497398 (0.9760316462143931, 0.9837091062850866)\n"
          ]
        }
      ],
      "source": [
        "confidence = 0.90\n",
        "# Calcolo degli intervalli di confidenza\n",
        "acc_interval_NN_corr = st.t.interval(confidence=confidence, df=len(accuracy_stratified_NN_corr)-1, loc=np.mean(accuracy_stratified_NN_corr), scale=st.sem(accuracy_stratified_NN_corr))\n",
        "precision_interval_NN_corr = st.t.interval(confidence=confidence, df=len(precision_stratified_NN_corr)-1, loc=np.mean(precision_stratified_NN_corr), scale=st.sem(precision_stratified_NN_corr))\n",
        "recall_interval_NN_corr = st.t.interval(confidence=confidence, df=len(recall_stratified_NN_corr)-1, loc=np.mean(recall_stratified_NN_corr), scale=st.sem(recall_stratified_NN_corr))\n",
        "fscore_interval_NN_corr = st.t.interval(confidence=confidence, df=len(fscore_stratified_NN_corr)-1, loc=np.mean(fscore_stratified_NN_corr), scale=st.sem(fscore_stratified_NN_corr))\n",
        "\n",
        "print(\"Accuracy:\", np.mean(accuracy_stratified_NN_corr), acc_interval_NN_corr)\n",
        "print(\"Precision:\", np.mean(precision_stratified_NN_corr), precision_interval_NN_corr)\n",
        "print(\"Recall:\", np.mean(recall_stratified_NN_corr), recall_interval_NN_corr)\n",
        "print(\"F1-score:\", np.mean(fscore_stratified_NN_corr), fscore_interval_NN_corr)"
      ]
    },
    {
      "cell_type": "markdown",
      "metadata": {
        "id": "LFljhhghRnHD"
      },
      "source": [
        "Grafico degli intervalli di confidenza"
      ]
    },
    {
      "cell_type": "code",
      "execution_count": 68,
      "metadata": {
        "id": "yhg3WRkoRphD"
      },
      "outputs": [
        {
          "data": {
            "image/png": "[encoded data removed]",
            "text/plain": [
              "<Figure size 640x480 with 1 Axes>"
            ]
          },
          "metadata": {},
          "output_type": "display_data"
        }
      ],
      "source": [
        "# Plot the mean and confidence interval\n",
        "plt.errorbar(0, np.mean(acc_interval_NN_corr), yerr=(acc_interval_NN_corr[1] - acc_interval_NN_corr[0])/2, fmt='o', label='Accuracy', color='b')\n",
        "plt.errorbar(1, np.mean(precision_interval_NN_corr), yerr=(precision_interval_NN_corr[1] - precision_interval_NN_corr[0])/2, fmt='o', label='Precision', color='r')\n",
        "plt.errorbar(2, np.mean(recall_interval_NN_corr), yerr=(recall_interval_NN_corr[1] - recall_interval_NN_corr[0])/2, fmt='o', label='Recall', color='g')\n",
        "plt.errorbar(3, np.mean(fscore_interval_NN_corr), yerr=(fscore_interval_NN_corr[1] - fscore_interval_NN_corr[0])/2, fmt='o', label='F1-score', color='y')\n",
        "\n",
        "# Add labels and title\n",
        "plt.xlabel('Group')\n",
        "plt.ylabel('Value')\n",
        "plt.title('Mean with Confidence Interval')\n",
        "\n",
        "# Show the plot\n",
        "plt.legend()\n",
        "plt.show()"
      ]
    },
    {
      "cell_type": "markdown",
      "metadata": {
        "id": "FAxlNNuIIbzR"
      },
      "source": [
        "## Rete neurale con PCA"
      ]
    },
    {
      "cell_type": "code",
      "execution_count": 69,
      "metadata": {
        "id": "Q6UZUYTVKc51"
      },
      "outputs": [],
      "source": [
        "path_for_json = \"/content/drive/MyDrive/Magistrale/Machine Learning/NN_Hyperparameters_PCA\"\n",
        "path_for_json = \"./brain-tumor-analysis/NN_Hyperparameters_PCA\""
      ]
    },
    {
      "cell_type": "code",
      "execution_count": 70,
      "metadata": {
        "id": "IuSpf1RlJdU9"
      },
      "outputs": [],
      "source": [
        "X_cross_PCA_data = pd.DataFrame(data = X_train_pca_std, columns = ['PCA_C1', 'PCA_C2', 'PCA_C3'])\n",
        "Y_cross_PCA_data = pd.DataFrame(data = y_train_pca_std, columns = ['Class'])\n",
        "\n",
        "Y_cross_PCA_data = (Y_cross_PCA_data.reset_index()).drop(['Image'], axis=1)\n",
        "X_cross_PCA_data = (X_cross_PCA_data.reset_index()).drop(['Image'], axis=1)"
      ]
    },
    {
      "cell_type": "code",
      "execution_count": 71,
      "metadata": {
        "id": "Ojm07JaZIemX"
      },
      "outputs": [
        {
          "name": "stderr",
          "output_type": "stream",
          "text": [
            "100%|██████████| 216/216 [1:46:40<00:00, 29.63s/it]\n"
          ]
        }
      ],
      "source": [
        "# performance = grid_search_NN(param_combinations, X_cross_PCA_data, Y_cross_PCA_data, input_layer_size=3)\n",
        "# best_model_PCA = find_best_hyperparameters(performance)\n",
        "\n",
        "best_model_PCA = ([10, 0], 'relu', 'adam', 300, 100)"
      ]
    },
    {
      "cell_type": "markdown",
      "metadata": {
        "id": "PNCm9qjUJ64o"
      },
      "source": [
        "### Addestramento rete con PCA"
      ]
    },
    {
      "cell_type": "code",
      "execution_count": null,
      "metadata": {
        "id": "3zgFyGr6J9dq"
      },
      "outputs": [],
      "source": [
        "NN_model_PCA = create_model(units=best_model_PCA[0], activation=best_model_PCA[1], opt=best_model_PCA[2], input_layer_size=X_train_pca.shape[1])\n",
        "\n",
        "keras.utils.plot_model(NN_model_PCA, show_shapes=True, show_layer_activations=True, show_layer_names=True)"
      ]
    },
    {
      "cell_type": "code",
      "execution_count": null,
      "metadata": {
        "id": "oaDOWxZ-KIjS"
      },
      "outputs": [],
      "source": [
        "NN_model_PCA.fit(X_train_pca_std, y_train_pca_std, epochs=best_model_PCA[4], batch_size=best_model_PCA[3], verbose=0)"
      ]
    },
    {
      "cell_type": "markdown",
      "metadata": {
        "id": "bkQlF_kwKlIq"
      },
      "source": [
        "### Valutazione del modello"
      ]
    },
    {
      "cell_type": "code",
      "execution_count": null,
      "metadata": {
        "id": "guDxNLhKKqeG"
      },
      "outputs": [],
      "source": [
        "score = NN_model_PCA.evaluate(X_test_pca_std, y_test_pca_std, verbose=0)\n",
        "\n",
        "print('Test loss:', score[0])\n",
        "print('Test accuracy:', score[1])"
      ]
    },
    {
      "cell_type": "code",
      "execution_count": null,
      "metadata": {
        "id": "y0-uwkvGKnI0"
      },
      "outputs": [],
      "source": [
        "# Valutazione del modello utilizzando i dati di test\n",
        "NN_pred_prob_PCA = NN_model_PCA.predict(X_test_pca_std)\n",
        "NN_pred_PCA = my_predict(NN_pred_prob_PCA, 0.3)\n",
        "\n",
        "# Calcolo delle prestazioni del modello\n",
        "accuracy_train_test = accuracy_score(y_test_pca_std, NN_pred_PCA)\n",
        "precision = precision_score(y_test_pca_std, NN_pred_PCA)\n",
        "recall = recall_score(y_test_pca_std, NN_pred_PCA)\n",
        "f1 = f1_score(y_test_pca_std, NN_pred_PCA)\n",
        "\n",
        "# Stampa le prestazioni del modello\n",
        "print('Accuracy:', accuracy_train_test)\n",
        "print('Precision:', precision)\n",
        "print('Recall:', recall)\n",
        "print('F1-score:', f1)"
      ]
    },
    {
      "cell_type": "code",
      "execution_count": null,
      "metadata": {
        "id": "G4gQoG_TKtXR"
      },
      "outputs": [],
      "source": [
        "clf_report_NN_PCA = classification_report(NN_pred_PCA, y_test_pca_std)\n",
        "print(clf_report_NN_PCA)"
      ]
    },
    {
      "cell_type": "code",
      "execution_count": null,
      "metadata": {
        "id": "11NaLBpHKvjW"
      },
      "outputs": [],
      "source": [
        "cm = confusion_matrix(y_test_pca_std, NN_pred_PCA)\n",
        "disp = ConfusionMatrixDisplay(confusion_matrix=cm, display_labels=['Negative', 'Positive'])\n",
        "disp.plot();"
      ]
    },
    {
      "cell_type": "code",
      "execution_count": null,
      "metadata": {
        "id": "w8HU9PvbKzdX"
      },
      "outputs": [],
      "source": [
        "# Calcola la curva ROC\n",
        "fpr_NN_PCA, tpr_NN_PCA, thresholds_NN_PCA = roc_curve(y_test_pca_std, NN_pred_prob_PCA)\n",
        "\n",
        "# Calcola l'AUC della curva ROC\n",
        "roc_auc_NN_PCA = roc_auc_score(y_test_pca_std, NN_pred_prob_PCA)\n",
        "\n",
        "# Disegna la curva ROC\n",
        "plt.plot(fpr_NN_PCA, tpr_NN_PCA, label='ROC curve (area = %0.2f)' % roc_auc_NN_PCA)\n",
        "plt.plot([0, 1], [0, 1], 'k--')\n",
        "plt.xlim([-0.01, 1.0])\n",
        "plt.ylim([0.0, 1.05])\n",
        "plt.xlabel('False Positive Rate')\n",
        "plt.ylabel('True Positive Rate')\n",
        "plt.title('Receiver operating characteristic')\n",
        "plt.legend(loc=\"lower right\")\n",
        "plt.show()"
      ]
    },
    {
      "cell_type": "markdown",
      "metadata": {
        "id": "ue3f8yifLUtm"
      },
      "source": [
        "#### K-fold validation"
      ]
    },
    {
      "cell_type": "code",
      "execution_count": null,
      "metadata": {
        "id": "TnNLSGHZLW8g"
      },
      "outputs": [],
      "source": [
        "n_fold = 10\n",
        "folds = StratifiedKFold(n_splits=n_fold, shuffle=True)\n",
        "\n",
        "# Inizializzazione delle liste per le prestazioni\n",
        "accuracy_stratified_NN_PCA = []\n",
        "recall_stratified_NN_PCA = []\n",
        "precision_stratified_NN_PCA = []\n",
        "fscore_stratified_NN_PCA = []\n",
        "\n",
        "# Ciclo per la validazione incrociata\n",
        "for n_fold, (train_idx, valid_idx) in enumerate(folds.split(dataset_pca_scaled[['PCA_C1', 'PCA_C2', 'PCA_C3']], dataset_pca_scaled['Class'])):\n",
        "  # Split train and validation set\n",
        "  X_train_NN_PCA, X_valid_NN_PCA = X_scaled.iloc[train_idx], X_scaled.iloc[valid_idx]\n",
        "  y_train_NN_PCA, y_valid_NN_PCA = y[train_idx], y[valid_idx]\n",
        "\n",
        "  # Creazione del modello\n",
        "  model = create_model(units=best_model[0], activation=best_model[1], opt=best_model[2], input_layer_size=X_train_NN_PCA.shape[1])\n",
        "\n",
        "  # Addestramento del modello\n",
        "  model.fit(X_train_NN_PCA, y_train_NN_PCA, epochs=best_model[4], batch_size=best_model[3], verbose=0)\n",
        "\n",
        "  # Valutazione del modello\n",
        "  y_pred_proba = model.predict(X_valid_NN_PCA)\n",
        "  y_pred_valid = my_predict(y_pred_proba, 0.3)\n",
        "\n",
        "  accuracy_stratified_NN_PCA.append(accuracy_score(y_valid_NN_PCA, y_pred_valid))\n",
        "  precision_stratified_NN_PCA.append(precision_score(y_valid_NN_PCA, y_pred_valid))\n",
        "  recall_stratified_NN_PCA.append(recall_score(y_valid_NN_PCA, y_pred_valid))\n",
        "  fscore_stratified_NN_PCA.append(f1_score(y_valid_NN_PCA, y_pred_valid))"
      ]
    },
    {
      "cell_type": "code",
      "execution_count": null,
      "metadata": {
        "id": "Am8xHkMRLaQS"
      },
      "outputs": [],
      "source": [
        "confidence = 0.90\n",
        "# Calcolo degli intervalli di confidenza\n",
        "acc_interval_NN_PCA = st.t.interval(confidence=confidence, df=len(accuracy_stratified_NN_PCA)-1, loc=np.mean(accuracy_stratified_NN_PCA), scale=st.sem(accuracy_stratified_NN_PCA))\n",
        "precision_interval_NN_PCA = st.t.interval(confidence=confidence, df=len(precision_stratified_NN_PCA)-1, loc=np.mean(precision_stratified_NN_PCA), scale=st.sem(precision_stratified_NN_PCA))\n",
        "recall_interval_NN_PCA = st.t.interval(confidence=confidence, df=len(recall_stratified_NN_PCA)-1, loc=np.mean(recall_stratified_NN_PCA), scale=st.sem(recall_stratified_NN_PCA))\n",
        "fscore_interval_NN_PCA = st.t.interval(confidence=confidence, df=len(fscore_stratified_NN_PCA)-1, loc=np.mean(fscore_stratified_NN_PCA), scale=st.sem(fscore_stratified_NN_PCA))\n",
        "\n",
        "print(\"Accuracy:\", np.mean(accuracy_stratified_NN_PCA), acc_interval_NN_PCA)\n",
        "print(\"Precision:\", np.mean(precision_stratified_NN_PCA), precision_interval_NN_PCA)\n",
        "print(\"Recall:\", np.mean(recall_stratified_NN_PCA), recall_interval_NN_PCA)\n",
        "print(\"F1-score:\", np.mean(fscore_stratified_NN_PCA), fscore_interval_NN_PCA)"
      ]
    },
    {
      "cell_type": "code",
      "execution_count": null,
      "metadata": {
        "id": "fXL0r9xfLcv-"
      },
      "outputs": [],
      "source": [
        "# Plot the mean and confidence interval\n",
        "plt.errorbar(0, np.mean(acc_interval_NN_PCA), yerr=(acc_interval_NN_PCA[1] - acc_interval_NN_PCA[0])/2, fmt='o', label='Accuracy', color='b')\n",
        "plt.errorbar(1, np.mean(precision_interval_NN_PCA), yerr=(precision_interval_NN_PCA[1] - precision_interval_NN_PCA[0])/2, fmt='o', label='Precision', color='r')\n",
        "plt.errorbar(2, np.mean(recall_interval_NN_PCA), yerr=(recall_interval_NN_PCA[1] - recall_interval_NN_PCA[0])/2, fmt='o', label='Recall', color='g')\n",
        "plt.errorbar(3, np.mean(fscore_interval_NN_PCA), yerr=(fscore_interval_NN_PCA[1] - fscore_interval_NN_PCA[0])/2, fmt='o', label='F1-score', color='y')\n",
        "\n",
        "# Add labels and title\n",
        "plt.xlabel('Group')\n",
        "plt.ylabel('Value')\n",
        "plt.title('Mean with Confidence Interval')\n",
        "\n",
        "# Show the plot\n",
        "plt.legend()\n",
        "plt.show()"
      ]
    },
    {
      "cell_type": "markdown",
      "metadata": {
        "id": "INkmZTmpLeIP"
      },
      "source": [
        "## Confronto modelli addestrati su dataset creati con e senza PCA"
      ]
    },
    {
      "cell_type": "code",
      "execution_count": null,
      "metadata": {
        "id": "3XRxvDaTLiYu"
      },
      "outputs": [],
      "source": [
        "# Disegna la curva ROC\n",
        "plt.figure(figsize=(16, 9))\n",
        "plt.plot(fpr_NN_corr, tpr_NN_corr, label='ROC curve (area = %0.2f)' % roc_auc_NN_corr)\n",
        "plt.plot(fpr_NN_PCA, tpr_NN_PCA, label='ROC curve PCA (area = %0.2f)' % roc_auc_NN_PCA)\n",
        "plt.plot([0, 1], [0, 1], 'k--')\n",
        "plt.xlim([-0.01, 1.0])\n",
        "plt.ylim([0.0, 1.05])\n",
        "plt.xlabel('False Positive Rate')\n",
        "plt.ylabel('True Positive Rate')\n",
        "plt.title('Receiver operating characteristic')\n",
        "plt.legend(loc=\"lower right\")\n",
        "plt.show()"
      ]
    },
    {
      "cell_type": "markdown",
      "metadata": {
        "id": "BwanttuUsdcL"
      },
      "source": [
        "Confronto intervalli di confidenza dei modelli"
      ]
    },
    {
      "cell_type": "code",
      "execution_count": null,
      "metadata": {
        "id": "kLnjV1bJsgQA"
      },
      "outputs": [],
      "source": [
        "plt.figure(figsize=(12, 9))\n",
        "plt.rc('font', size=9)\n",
        "plt.subplots_adjust(left=0.1, bottom=0.1, right=0.9, top=0.9, wspace=0.4, hspace=0.4)\n",
        "\n",
        "plt.subplot(221)\n",
        "plt.errorbar(0, np.mean(acc_interval_NN_corr), yerr=(acc_interval_NN_corr[1] - acc_interval_NN_corr[0])/2, fmt='o', label='Accuracy', color='b')\n",
        "plt.errorbar(1, np.mean(acc_interval_NN_PCA), yerr=(acc_interval_NN_PCA[1] - acc_interval_NN_PCA[0])/2, fmt='o', label='Accuracy con PCA', color='r')\n",
        "plt.title('Confronto \"Accuracy\" dei modelli')\n",
        "plt.legend(loc='upper center')\n",
        "\n",
        "plt.subplot(222)\n",
        "plt.errorbar(0, np.mean(precision_interval_NN_corr), yerr=(precision_interval_NN_corr[1] - precision_interval_NN_corr[0])/2, fmt='o', label='Precision', color='b')\n",
        "plt.errorbar(1, np.mean(precision_interval_NN_PCA), yerr=(precision_interval_NN_PCA[1] - precision_interval_NN_PCA[0])/2, fmt='o', label='Precision con PCA', color='r')\n",
        "plt.title('Confronto \"Precision\" dei modelli')\n",
        "plt.legend(loc='upper center')\n",
        "\n",
        "plt.subplot(223)\n",
        "plt.errorbar(0, np.mean(recall_interval_NN_corr), yerr=(recall_interval_NN_corr[1] - recall_interval_NN_corr[0])/2, fmt='o', label='Recall', color='b')\n",
        "plt.errorbar(1, np.mean(recall_interval_NN_PCA), yerr=(recall_interval_NN_PCA[1] - recall_interval_NN_PCA[0])/2, fmt='o', label='Recall con PCA', color='r')\n",
        "plt.title('Confronto \"Recall\" dei modelli')\n",
        "plt.legend(loc='upper center')\n",
        "\n",
        "plt.subplot(224)\n",
        "plt.errorbar(0, np.mean(fscore_interval_NN_corr), yerr=(fscore_interval_NN_corr[1] - fscore_interval_NN_corr[0])/2, fmt='o', label='F1-score', color='b')\n",
        "plt.errorbar(1, np.mean(fscore_interval_NN_PCA), yerr=(fscore_interval_NN_PCA[1] - fscore_interval_NN_PCA[0])/2, fmt='o', label='F1-score con PCA', color='r')\n",
        "plt.title('Confronto \"f1 score\" dei modelli')\n",
        "plt.legend(loc='upper center');"
      ]
    }
  ],
  "metadata": {
    "colab": {
      "collapsed_sections": [
        "p8mC0kwDMBzF",
        "cylVeAVLQKpd",
        "qZcZySFFQemM",
        "INkmZTmpLeIP",
        "XmqiYzDVrv4Z",
        "Jr1eYvBU9EMP",
        "31iTvJD8vnm6",
        "5EkJSA6O9Psn",
        "FaJ8RHKkCbRu",
        "KM7qDeHuzbWy"
      ],
      "provenance": []
    },
    "kernelspec": {
      "display_name": "Python 3",
      "name": "python3"
    },
    "language_info": {
      "codemirror_mode": {
        "name": "ipython",
        "version": 3
      },
      "file_extension": ".py",
      "mimetype": "text/x-python",
      "name": "python",
      "nbconvert_exporter": "python",
      "pygments_lexer": "ipython3",
      "version": "3.10.5"
    }
  },
  "nbformat": 4,
  "nbformat_minor": 0
}
