{
 "cells": [
  {
   "cell_type": "markdown",
   "metadata": {},
   "source": [
    "## Partitioning"
   ]
  },
  {
   "cell_type": "code",
   "execution_count": 4,
   "metadata": {},
   "outputs": [
    {
     "data": {
      "text/html": [
       "<div>\n",
       "<style scoped>\n",
       "    .dataframe tbody tr th:only-of-type {\n",
       "        vertical-align: middle;\n",
       "    }\n",
       "\n",
       "    .dataframe tbody tr th {\n",
       "        vertical-align: top;\n",
       "    }\n",
       "\n",
       "    .dataframe thead th {\n",
       "        text-align: right;\n",
       "    }\n",
       "</style>\n",
       "<table border=\"1\" class=\"dataframe\">\n",
       "  <thead>\n",
       "    <tr style=\"text-align: right;\">\n",
       "      <th></th>\n",
       "      <th>Class</th>\n",
       "      <th>Mean</th>\n",
       "      <th>Variance</th>\n",
       "      <th>Standard Deviation</th>\n",
       "      <th>Entropy</th>\n",
       "      <th>Skewness</th>\n",
       "      <th>Kurtosis</th>\n",
       "      <th>Contrast</th>\n",
       "      <th>Energy</th>\n",
       "      <th>ASM</th>\n",
       "      <th>Homogeneity</th>\n",
       "      <th>Dissimilarity</th>\n",
       "      <th>Correlation</th>\n",
       "      <th>Coarseness</th>\n",
       "    </tr>\n",
       "  </thead>\n",
       "  <tbody>\n",
       "    <tr>\n",
       "      <th>0</th>\n",
       "      <td>0</td>\n",
       "      <td>6.535339</td>\n",
       "      <td>619.587845</td>\n",
       "      <td>24.891522</td>\n",
       "      <td>0.109059</td>\n",
       "      <td>4.276477</td>\n",
       "      <td>18.900575</td>\n",
       "      <td>98.613971</td>\n",
       "      <td>0.293314</td>\n",
       "      <td>0.086033</td>\n",
       "      <td>0.530941</td>\n",
       "      <td>4.473346</td>\n",
       "      <td>0.981939</td>\n",
       "      <td>7.458341e-155</td>\n",
       "    </tr>\n",
       "    <tr>\n",
       "      <th>1</th>\n",
       "      <td>0</td>\n",
       "      <td>8.749969</td>\n",
       "      <td>805.957634</td>\n",
       "      <td>28.389393</td>\n",
       "      <td>0.266538</td>\n",
       "      <td>3.718116</td>\n",
       "      <td>14.464618</td>\n",
       "      <td>63.858816</td>\n",
       "      <td>0.475051</td>\n",
       "      <td>0.225674</td>\n",
       "      <td>0.651352</td>\n",
       "      <td>3.220072</td>\n",
       "      <td>0.988834</td>\n",
       "      <td>7.458341e-155</td>\n",
       "    </tr>\n",
       "    <tr>\n",
       "      <th>2</th>\n",
       "      <td>1</td>\n",
       "      <td>7.341095</td>\n",
       "      <td>1143.808219</td>\n",
       "      <td>33.820234</td>\n",
       "      <td>0.001467</td>\n",
       "      <td>5.061750</td>\n",
       "      <td>26.479563</td>\n",
       "      <td>81.867206</td>\n",
       "      <td>0.031917</td>\n",
       "      <td>0.001019</td>\n",
       "      <td>0.268275</td>\n",
       "      <td>5.981800</td>\n",
       "      <td>0.978014</td>\n",
       "      <td>7.458341e-155</td>\n",
       "    </tr>\n",
       "    <tr>\n",
       "      <th>3</th>\n",
       "      <td>1</td>\n",
       "      <td>5.958145</td>\n",
       "      <td>959.711985</td>\n",
       "      <td>30.979219</td>\n",
       "      <td>0.001477</td>\n",
       "      <td>5.677977</td>\n",
       "      <td>33.428845</td>\n",
       "      <td>151.229741</td>\n",
       "      <td>0.032024</td>\n",
       "      <td>0.001026</td>\n",
       "      <td>0.243851</td>\n",
       "      <td>7.700919</td>\n",
       "      <td>0.964189</td>\n",
       "      <td>7.458341e-155</td>\n",
       "    </tr>\n",
       "    <tr>\n",
       "      <th>4</th>\n",
       "      <td>0</td>\n",
       "      <td>7.315231</td>\n",
       "      <td>729.540579</td>\n",
       "      <td>27.010009</td>\n",
       "      <td>0.146761</td>\n",
       "      <td>4.283221</td>\n",
       "      <td>19.079108</td>\n",
       "      <td>174.988756</td>\n",
       "      <td>0.343849</td>\n",
       "      <td>0.118232</td>\n",
       "      <td>0.501140</td>\n",
       "      <td>6.834689</td>\n",
       "      <td>0.972789</td>\n",
       "      <td>7.458341e-155</td>\n",
       "    </tr>\n",
       "  </tbody>\n",
       "</table>\n",
       "</div>"
      ],
      "text/plain": [
       "  Class      Mean     Variance  Standard Deviation   Entropy  Skewness  \\\n",
       "0     0  6.535339   619.587845           24.891522  0.109059  4.276477   \n",
       "1     0  8.749969   805.957634           28.389393  0.266538  3.718116   \n",
       "2     1  7.341095  1143.808219           33.820234  0.001467  5.061750   \n",
       "3     1  5.958145   959.711985           30.979219  0.001477  5.677977   \n",
       "4     0  7.315231   729.540579           27.010009  0.146761  4.283221   \n",
       "\n",
       "    Kurtosis    Contrast    Energy       ASM  Homogeneity  Dissimilarity  \\\n",
       "0  18.900575   98.613971  0.293314  0.086033     0.530941       4.473346   \n",
       "1  14.464618   63.858816  0.475051  0.225674     0.651352       3.220072   \n",
       "2  26.479563   81.867206  0.031917  0.001019     0.268275       5.981800   \n",
       "3  33.428845  151.229741  0.032024  0.001026     0.243851       7.700919   \n",
       "4  19.079108  174.988756  0.343849  0.118232     0.501140       6.834689   \n",
       "\n",
       "   Correlation     Coarseness  \n",
       "0     0.981939  7.458341e-155  \n",
       "1     0.988834  7.458341e-155  \n",
       "2     0.978014  7.458341e-155  \n",
       "3     0.964189  7.458341e-155  \n",
       "4     0.972789  7.458341e-155  "
      ]
     },
     "execution_count": 4,
     "metadata": {},
     "output_type": "execute_result"
    }
   ],
   "source": [
    "import pandas as pd\n",
    "\n",
    "dataset = pd.read_csv('Dataset\\Brain Tumor.csv')\n",
    "dataset[\"Class\"] = dataset[\"Class\"].astype(\"category\")\n",
    "dataset = dataset.drop([\"Image\"],axis=1)\n",
    "\n",
    "dataset.head()"
   ]
  },
  {
   "cell_type": "markdown",
   "metadata": {},
   "source": [
    "### Splitting the dataset"
   ]
  },
  {
   "cell_type": "code",
   "execution_count": 21,
   "metadata": {},
   "outputs": [
    {
     "name": "stdout",
     "output_type": "stream",
     "text": [
      "Dataset:\n",
      "\t-Negative 55.26 %\n",
      "\t-Positive 44.74 %\n",
      "Train data:\n",
      "\t- Negative 55.27 %\n",
      "\t- Positive 44.73 %\n"
     ]
    }
   ],
   "source": [
    "from sklearn.model_selection import train_test_split\n",
    "\n",
    "X = dataset.drop([\"Class\"],axis=1)\n",
    "y = dataset[\"Class\"]\n",
    "\n",
    "X_train, X_test, y_train, y_test = train_test_split(X,y,test_size=0.2, stratify=y)\n",
    "\n",
    "print(\"Dataset:\\n\\t-Negative\", round((y.value_counts()[0]/y.shape[0]) * 100, 2), \n",
    "      \"%\\n\\t-Positive\", round((y.value_counts()[1]/y.shape[0]) * 100, 2), \"%\")\n",
    "print(\"Train data:\\n\\t- Negative\", round((y_train.value_counts()[0] / y_train.shape[0]) * 100, 2), \n",
    "      \"%\\n\\t- Positive\", round((y_train.value_counts()[1] / y_train.shape[0]) * 100, 2), \"%\")\n"
   ]
  },
  {
   "cell_type": "markdown",
   "metadata": {},
   "source": [
    "## Implementazione _modello 1_"
   ]
  },
  {
   "cell_type": "markdown",
   "metadata": {},
   "source": [
    "## Implementazione _modello 2_"
   ]
  },
  {
   "cell_type": "markdown",
   "metadata": {},
   "source": [
    "## Implementazione _modello 3_"
   ]
  }
 ],
 "metadata": {
  "kernelspec": {
   "display_name": "Python 3",
   "language": "python",
   "name": "python3"
  },
  "language_info": {
   "codemirror_mode": {
    "name": "ipython",
    "version": 3
   },
   "file_extension": ".py",
   "mimetype": "text/x-python",
   "name": "python",
   "nbconvert_exporter": "python",
   "pygments_lexer": "ipython3",
   "version": "3.10.5"
  }
 },
 "nbformat": 4,
 "nbformat_minor": 2
}
