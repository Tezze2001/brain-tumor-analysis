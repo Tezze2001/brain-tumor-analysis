{
 "cells": [
  {
   "cell_type": "markdown",
   "metadata": {},
   "source": [
    "# Percettrone"
   ]
  },
  {
   "cell_type": "code",
   "execution_count": 8,
   "metadata": {},
   "outputs": [],
   "source": [
    "import numpy as np\n",
    "import pandas as pd\n",
    "import sklearn.metrics as metrics"
   ]
  },
  {
   "cell_type": "code",
   "execution_count": 9,
   "metadata": {},
   "outputs": [],
   "source": [
    "# Import del dataset già suddiviso in train e test\n",
    "train = pd.read_csv('./Dataset/Train.csv', index_col=0)\n",
    "\n",
    "test = pd.read_csv('./Dataset/Test.csv', index_col=0)\n",
    "\n",
    "# Suddivisione di tra istanze e label\n",
    "X_train = train.iloc[:, :-1]\n",
    "y_train = train.iloc[:, -1]\n",
    "\n",
    "X_test = test.iloc[:, :-1]\n",
    "y_test = test.iloc[:, -1]"
   ]
  },
  {
   "cell_type": "code",
   "execution_count": 10,
   "metadata": {},
   "outputs": [],
   "source": [
    "def _sigmoid(x):\n",
    "    return 1 / (1 + np.exp(-x))\n",
    "\n",
    "def predict(weights: np.ndarray, x: np.ndarray, threshold: float, activation_function: str = 'sign') -> int:\n",
    "  if activation_function == 'sigmoid':\n",
    "    return 1 if (_sigmoid(np.dot(weights, np.insert(x, 0, threshold))) >= 0) else 0\n",
    "  elif activation_function == 'sign':\n",
    "    return 1 if (int(np.dot(weights, np.insert(x, 0, threshold)) >= 0)) else 0\n",
    "  else:\n",
    "    raise ValueError('Invalid activation function')"
   ]
  },
  {
   "cell_type": "code",
   "execution_count": 11,
   "metadata": {},
   "outputs": [],
   "source": [
    "def fit(data_without_label: pd.DataFrame, labels: pd.Series, threshold: float, activation_function: str = 'sign') -> np.ndarray:\n",
    "  # Inizializzazione dei pesi in modo randomico\n",
    "  initial_weights = [np.random.rand() for _ in range(data_without_label.shape[1])]\n",
    "  # Aggiunta del peso associato alla soglia\n",
    "  initial_weights.insert(0, -threshold)\n",
    "  # Conversione in numpy array\n",
    "  weights = np.array(initial_weights)\n",
    "  # Calcolo dei pesi\n",
    "  print('Training...')\n",
    "  return _compute_weights(data_without_label, labels, weights, threshold, activation_function=activation_function)\n",
    "  \n",
    "\n",
    "def _compute_weights(data_without_label: pd.DataFrame, labels: pd.Series, \n",
    "                     weights: np.ndarray,threshold: float, learning_rate: float = 0.01, \n",
    "                     max_iterations: int = 10_000, \n",
    "                     activation_function: str = 'sign') -> np.ndarray: \n",
    "  no_convergence = False\n",
    "  n_iterations = 0 # Numero di iterazioni\n",
    "\n",
    "  while not no_convergence:\n",
    "    # Se il numero di iterazioni supera il limite impostato, si interrompe il training\n",
    "    if n_iterations > max_iterations:\n",
    "      print('\\n\\nIteration limit')\n",
    "      return weights\n",
    "\n",
    "    if n_iterations % 10 == 0:\n",
    "      completed_iterations = n_iterations / max_iterations * 100\n",
    "      progess_bar = \"=\" * int(completed_iterations / 5) + \">\" + \" \" * (10 - int(completed_iterations / 5))\n",
    "      print(f'[{progess_bar}] {completed_iterations:.2f}%\\r', end='')\n",
    "\n",
    "    \n",
    "    no_convergence = True\n",
    "    # Per ogni istanza del dataset\n",
    "    for index, row in data_without_label.iterrows():\n",
    "      y = predict(weights, row.to_numpy(), threshold, activation_function=activation_function)\n",
    "\n",
    "      # Se il prodotto scalare è diverso da quello atteso, si aggiornano i pesi\n",
    "      if y != labels[index]:\n",
    "        # Calcolo la variazione dei pesi\n",
    "        delta = np.multiply((learning_rate * (labels[index] - y)), np.insert(row.to_numpy(), 0, -threshold))\n",
    "        # Aggiorno i pesi\n",
    "        weights = weights + delta\n",
    "\n",
    "        no_convergence = False\n",
    "    \n",
    "    n_iterations += 1\n",
    "\n",
    "  return weights\n"
   ]
  },
  {
   "cell_type": "code",
   "execution_count": 12,
   "metadata": {},
   "outputs": [
    {
     "name": "stdout",
     "output_type": "stream",
     "text": [
      "Training...\n",
      "[===>       ] 19.40%\r"
     ]
    }
   ],
   "source": [
    "threshold = 0.5\n",
    "\n",
    "weights = fit(X_train, y_train, threshold)"
   ]
  },
  {
   "cell_type": "code",
   "execution_count": null,
   "metadata": {},
   "outputs": [
    {
     "name": "stdout",
     "output_type": "stream",
     "text": [
      "Accuracy sull'insieme di train: 96.74 %\n"
     ]
    }
   ],
   "source": [
    "y_train_pred = []\n",
    "\n",
    "for index, row in X_train.iterrows():\n",
    "  y_train_pred.append(predict(weights, row.to_numpy(), threshold))\n",
    "\n",
    "print(\"Accuracy sull'insieme di train:\", round(metrics.accuracy_score(y_train, y_train_pred)*100, 2), \"%\")"
   ]
  },
  {
   "cell_type": "code",
   "execution_count": null,
   "metadata": {},
   "outputs": [
    {
     "name": "stdout",
     "output_type": "stream",
     "text": [
      "Accuracy sull'insieme di test: 96.95 %\n"
     ]
    }
   ],
   "source": [
    "y_test_pred = []\n",
    "\n",
    "for index, row in X_test.iterrows():\n",
    "  y_test_pred.append(predict(weights, row.to_numpy(), threshold))\n",
    "\n",
    "print(\"Accuracy sull'insieme di test:\", round(metrics.accuracy_score(y_test, y_test_pred)*100, 2), \"%\")\n",
    "\n"
   ]
  }
 ],
 "metadata": {
  "kernelspec": {
   "display_name": "Python 3",
   "language": "python",
   "name": "python3"
  },
  "language_info": {
   "codemirror_mode": {
    "name": "ipython",
    "version": 3
   },
   "file_extension": ".py",
   "mimetype": "text/x-python",
   "name": "python",
   "nbconvert_exporter": "python",
   "pygments_lexer": "ipython3",
   "version": "3.10.5"
  }
 },
 "nbformat": 4,
 "nbformat_minor": 2
}
